{
 "cells": [
  {
   "cell_type": "markdown",
   "id": "8c27fd1c",
   "metadata": {},
   "source": [
    "## Data Preprocessing"
   ]
  },
  {
   "cell_type": "code",
   "execution_count": 1,
   "id": "8732ecff",
   "metadata": {},
   "outputs": [],
   "source": [
    "import sys\n",
    "import os\n",
    "import pandas as pd\n",
    "from glob import glob"
   ]
  },
  {
   "cell_type": "code",
   "execution_count": 2,
   "id": "ef483e92",
   "metadata": {},
   "outputs": [],
   "source": [
    "from pathlib import Path\n",
    "from importlib import reload\n",
    "# add the project root to the path\n",
    "project_root = Path(\"..\").resolve()\n",
    "if str(project_root) not in sys.path:\n",
    "    sys.path.insert(0, str(project_root))"
   ]
  },
  {
   "cell_type": "code",
   "execution_count": 3,
   "id": "f7fb90c2",
   "metadata": {},
   "outputs": [
    {
     "data": {
      "text/plain": [
       "<module 'src.data_loader' from 'D:\\\\Research & Project\\\\10academy\\\\week 4\\\\challenge\\\\EthioMart-E-commerce-NER\\\\src\\\\data_loader.py'>"
      ]
     },
     "execution_count": 3,
     "metadata": {},
     "output_type": "execute_result"
    }
   ],
   "source": [
    "from src.data_loader import DataLoader\n",
    "import src.data_loader\n",
    "# reload the module to ensure we have the latest version\n",
    "reload(src.data_loader)"
   ]
  },
  {
   "cell_type": "code",
   "execution_count": 4,
   "id": "9f574353",
   "metadata": {},
   "outputs": [
    {
     "name": "stdout",
     "output_type": "stream",
     "text": [
      "Data loaded successfully from ../data\\raw\\telegram_data.csv.\n",
      "Loading data from ../data\\raw\\telegram_data.csv\n",
      "Data loaded successfully from ../data\\raw\\telegram_data_20250622_170157.csv.\n",
      "Loading data from ../data\\raw\\telegram_data_20250622_170157.csv\n",
      "Data loaded successfully from ../data\\raw\\telegram_data_20250622_220106.csv.\n",
      "Loading data from ../data\\raw\\telegram_data_20250622_220106.csv\n",
      "Total combined shape: (39366, 6)\n"
     ]
    },
    {
     "data": {
      "application/vnd.microsoft.datawrangler.viewer.v0+json": {
       "columns": [
        {
         "name": "index",
         "rawType": "int64",
         "type": "integer"
        },
        {
         "name": "Channel Title",
         "rawType": "object",
         "type": "string"
        },
        {
         "name": "Channel Username",
         "rawType": "object",
         "type": "string"
        },
        {
         "name": "ID",
         "rawType": "int64",
         "type": "integer"
        },
        {
         "name": "Message",
         "rawType": "object",
         "type": "unknown"
        },
        {
         "name": "Date",
         "rawType": "object",
         "type": "string"
        },
        {
         "name": "Media Path",
         "rawType": "object",
         "type": "string"
        }
       ],
       "ref": "9f5816b5-a486-4ac7-be85-c54bbbc1a6d4",
       "rows": [
        [
         "0",
         "Sheger online-store",
         "@Shageronlinestore",
         "7383",
         "💥Miralux Hot plate\n ባለሁለት ምድጃ ስቶቭ\n\n      💯orginal\n\n⚡️ 2000 ዋት\n⚡️ ፊውዝ የተገጠመለት\n⚡️ ትልቅ ድስት መሸከም የሚችል\n⚡️ አስተማማኝ ቴርሞስታት\n⚡️ ባለ ፊውዝ\n\nዋጋ፦ ትልቁ :- 2900ብር✅\n\n\n\nአድራሻ 📍 ቁ.1 👉መገናኛ ስሪ ኤም ሲቲ ሞል  ሁለተኛ ፎቅ ቢሮ ቁ. SL-05A(ከ ሊፍቱ ፊት ለ ፊት)\n\n📍ቁ.2 👉ለቡ  መዳህኒዓለም ቤተ/ክርስቲያን ፊት ለፊት  #ዛም_ሞል 2ኛ ፎቅ ቢሮ ቁጥር.214\n\n\n👍ለቡ ቅርንጫፍ📲0973611819\n\n     💧💧💧💧\n\n\n    📲 0909522840\n    📲 0923350054\n\n🔖\n💬  በTelegram ለማዘዝ ⤵️ ይጠቀሙ\n@shager_onlinestore\n  \nለተጨማሪ ማብራሪያ የቴሌግራም ገፃችን⤵️\nhttps://t.me/Shageronlinestore",
         "2025-06-19 06:31:31+00:00",
         "data/photos/@Shageronlinestore_7383.jpg"
        ],
        [
         "1",
         "Sheger online-store",
         "@Shageronlinestore",
         "7382",
         "💥7pcs glass water set\n\n✔️ አንድ ማራኪ ጆግና 6 መጠጫ ብርጭቆዎች\n✔️ የፈሳሽ መጠጥ ማቅረቢያ\n✔️ ከፍተኛ ሙቀት የሚቋቋም\n✔️ ኳሊቲ ወፍራም\n\n ዋጋ፦ ✅ 3,400 ብር\n\n  ውስን ፍሬ ነው የቀረው ❌\n\n🏢 አድራሻ ቁ.1 👉 መገናኛ ታሜ ጋስ ህንፃ ጎን ስሪ ኤም ሲቲ ሞል  ሁለተኛ ፎቅ ቢሮ ቁ. SL-05A(ከ ሊፍቱ ፊት ለ ፊት)\n\n📍ቁ.2 👉ለቡ  መዳህኒዓለም ቤተ/ክርስቲያን 100ሜ ወደ ሙዚቃ ቤት ከፍ ብሎ  #ዛም_ሞል 2ኛ ፎቅ ቢሮ.ቁ 214\n\n\n    📲 0909522840\n    📲 0923350054\n\n👍ለቡ ቅርንጫፍ📲0973611819\n\n\n🔖\n💬  በTelegram ለማዘዝ ⤵️ ይጠቀሙ\n@shager_onlinestore\n  \nለተጨማሪ ማብራሪያ የቴሌግራም ገፃችን⤵️\nhttps://t.me/Shageronlinestore          ",
         "2025-06-18 11:19:11+00:00",
         "data/photos/@Shageronlinestore_7382.jpg"
        ],
        [
         "2",
         "Sheger online-store",
         "@Shageronlinestore",
         "7381",
         null,
         "2025-06-18 11:19:11+00:00",
         "data/photos/@Shageronlinestore_7381.jpg"
        ],
        [
         "3",
         "Sheger online-store",
         "@Shageronlinestore",
         "7380",
         null,
         "2025-06-18 11:19:11+00:00",
         "data/photos/@Shageronlinestore_7380.jpg"
        ],
        [
         "4",
         "Sheger online-store",
         "@Shageronlinestore",
         "7379",
         null,
         "2025-06-18 11:19:11+00:00",
         "data/photos/@Shageronlinestore_7379.jpg"
        ]
       ],
       "shape": {
        "columns": 6,
        "rows": 5
       }
      },
      "text/html": [
       "<div>\n",
       "<style scoped>\n",
       "    .dataframe tbody tr th:only-of-type {\n",
       "        vertical-align: middle;\n",
       "    }\n",
       "\n",
       "    .dataframe tbody tr th {\n",
       "        vertical-align: top;\n",
       "    }\n",
       "\n",
       "    .dataframe thead th {\n",
       "        text-align: right;\n",
       "    }\n",
       "</style>\n",
       "<table border=\"1\" class=\"dataframe\">\n",
       "  <thead>\n",
       "    <tr style=\"text-align: right;\">\n",
       "      <th></th>\n",
       "      <th>Channel Title</th>\n",
       "      <th>Channel Username</th>\n",
       "      <th>ID</th>\n",
       "      <th>Message</th>\n",
       "      <th>Date</th>\n",
       "      <th>Media Path</th>\n",
       "    </tr>\n",
       "  </thead>\n",
       "  <tbody>\n",
       "    <tr>\n",
       "      <th>0</th>\n",
       "      <td>Sheger online-store</td>\n",
       "      <td>@Shageronlinestore</td>\n",
       "      <td>7383</td>\n",
       "      <td>💥Miralux Hot plate\\n ባለሁለት ምድጃ ስቶቭ\\n\\n      💯o...</td>\n",
       "      <td>2025-06-19 06:31:31+00:00</td>\n",
       "      <td>data/photos/@Shageronlinestore_7383.jpg</td>\n",
       "    </tr>\n",
       "    <tr>\n",
       "      <th>1</th>\n",
       "      <td>Sheger online-store</td>\n",
       "      <td>@Shageronlinestore</td>\n",
       "      <td>7382</td>\n",
       "      <td>💥7pcs glass water set\\n\\n✔️ አንድ ማራኪ ጆግና 6 መጠጫ ...</td>\n",
       "      <td>2025-06-18 11:19:11+00:00</td>\n",
       "      <td>data/photos/@Shageronlinestore_7382.jpg</td>\n",
       "    </tr>\n",
       "    <tr>\n",
       "      <th>2</th>\n",
       "      <td>Sheger online-store</td>\n",
       "      <td>@Shageronlinestore</td>\n",
       "      <td>7381</td>\n",
       "      <td>NaN</td>\n",
       "      <td>2025-06-18 11:19:11+00:00</td>\n",
       "      <td>data/photos/@Shageronlinestore_7381.jpg</td>\n",
       "    </tr>\n",
       "    <tr>\n",
       "      <th>3</th>\n",
       "      <td>Sheger online-store</td>\n",
       "      <td>@Shageronlinestore</td>\n",
       "      <td>7380</td>\n",
       "      <td>NaN</td>\n",
       "      <td>2025-06-18 11:19:11+00:00</td>\n",
       "      <td>data/photos/@Shageronlinestore_7380.jpg</td>\n",
       "    </tr>\n",
       "    <tr>\n",
       "      <th>4</th>\n",
       "      <td>Sheger online-store</td>\n",
       "      <td>@Shageronlinestore</td>\n",
       "      <td>7379</td>\n",
       "      <td>NaN</td>\n",
       "      <td>2025-06-18 11:19:11+00:00</td>\n",
       "      <td>data/photos/@Shageronlinestore_7379.jpg</td>\n",
       "    </tr>\n",
       "  </tbody>\n",
       "</table>\n",
       "</div>"
      ],
      "text/plain": [
       "         Channel Title    Channel Username    ID  \\\n",
       "0  Sheger online-store  @Shageronlinestore  7383   \n",
       "1  Sheger online-store  @Shageronlinestore  7382   \n",
       "2  Sheger online-store  @Shageronlinestore  7381   \n",
       "3  Sheger online-store  @Shageronlinestore  7380   \n",
       "4  Sheger online-store  @Shageronlinestore  7379   \n",
       "\n",
       "                                             Message  \\\n",
       "0  💥Miralux Hot plate\\n ባለሁለት ምድጃ ስቶቭ\\n\\n      💯o...   \n",
       "1  💥7pcs glass water set\\n\\n✔️ አንድ ማራኪ ጆግና 6 መጠጫ ...   \n",
       "2                                                NaN   \n",
       "3                                                NaN   \n",
       "4                                                NaN   \n",
       "\n",
       "                        Date                               Media Path  \n",
       "0  2025-06-19 06:31:31+00:00  data/photos/@Shageronlinestore_7383.jpg  \n",
       "1  2025-06-18 11:19:11+00:00  data/photos/@Shageronlinestore_7382.jpg  \n",
       "2  2025-06-18 11:19:11+00:00  data/photos/@Shageronlinestore_7381.jpg  \n",
       "3  2025-06-18 11:19:11+00:00  data/photos/@Shageronlinestore_7380.jpg  \n",
       "4  2025-06-18 11:19:11+00:00  data/photos/@Shageronlinestore_7379.jpg  "
      ]
     },
     "execution_count": 4,
     "metadata": {},
     "output_type": "execute_result"
    }
   ],
   "source": [
    "import pandas as pd\n",
    "# import and load the raw data\n",
    "raw_data_path = os.path.join('../data', 'raw')\n",
    "# Get all CSV files from the raw data directory\n",
    "raw_data_files = glob(os.path.join(raw_data_path, '*.csv'))\n",
    "# import all raw data files into  a single dataframe \n",
    "combined_df = pd.DataFrame()\n",
    "\n",
    "# Loop through each CSV file and load the data\n",
    "for file in raw_data_files:\n",
    "    data_loader = DataLoader(file)\n",
    "    data_loader.load_data()  # Load data into the internal variable\n",
    "    df = data_loader.get_data()  # Retrieve the loaded data\n",
    "    print(f\"Loading data from {file}\")\n",
    "    combined_df = pd.concat([combined_df, df], ignore_index=True)\n",
    "\n",
    "# Optional: display final combined dataframe shape\n",
    "print(f\"Total combined shape: {combined_df.shape}\")\n",
    "combined_df.head()"
   ]
  },
  {
   "cell_type": "code",
   "execution_count": 5,
   "id": "b1b94a35",
   "metadata": {},
   "outputs": [
    {
     "data": {
      "text/plain": [
       "<module 'src.preprocessor' from 'D:\\\\Research & Project\\\\10academy\\\\week 4\\\\challenge\\\\EthioMart-E-commerce-NER\\\\src\\\\preprocessor.py'>"
      ]
     },
     "execution_count": 5,
     "metadata": {},
     "output_type": "execute_result"
    }
   ],
   "source": [
    "# load the module for preprocessing\n",
    "from src.preprocessor import Preprocessor\n",
    "import src.preprocessor\n",
    "# reload the module to ensure we have the latest version\n",
    "reload(src.preprocessor)"
   ]
  },
  {
   "cell_type": "code",
   "execution_count": 6,
   "id": "c9fcb4d9",
   "metadata": {},
   "outputs": [],
   "source": [
    "# initialize the preprocessor\n",
    "preprocessor = Preprocessor(combined_df)"
   ]
  },
  {
   "cell_type": "code",
   "execution_count": 7,
   "id": "4a13d679",
   "metadata": {},
   "outputs": [
    {
     "data": {
      "application/vnd.microsoft.datawrangler.viewer.v0+json": {
       "columns": [
        {
         "name": "index",
         "rawType": "int64",
         "type": "integer"
        },
        {
         "name": "Message",
         "rawType": "object",
         "type": "unknown"
        }
       ],
       "ref": "efeef396-3951-49ee-834a-0f089cbb2676",
       "rows": [
        [
         "0",
         "💥Miralux Hot plate\n ባለሁለት ምድጃ ስቶቭ\n\n      💯orginal\n\n⚡️ 2000 ዋት\n⚡️ ፊውዝ የተገጠመለት\n⚡️ ትልቅ ድስት መሸከም የሚችል\n⚡️ አስተማማኝ ቴርሞስታት\n⚡️ ባለ ፊውዝ\n\nዋጋ፦ ትልቁ :- 2900ብር✅\n\n\n\nአድራሻ 📍 ቁ.1 👉መገናኛ ስሪ ኤም ሲቲ ሞል  ሁለተኛ ፎቅ ቢሮ ቁ. SL-05A(ከ ሊፍቱ ፊት ለ ፊት)\n\n📍ቁ.2 👉ለቡ  መዳህኒዓለም ቤተ/ክርስቲያን ፊት ለፊት  #ዛም_ሞል 2ኛ ፎቅ ቢሮ ቁጥር.214\n\n\n👍ለቡ ቅርንጫፍ📲0973611819\n\n     💧💧💧💧\n\n\n    📲 0909522840\n    📲 0923350054\n\n🔖\n💬  በTelegram ለማዘዝ ⤵️ ይጠቀሙ\n@shager_onlinestore\n  \nለተጨማሪ ማብራሪያ የቴሌግራም ገፃችን⤵️\nhttps://t.me/Shageronlinestore"
        ],
        [
         "1",
         "💥7pcs glass water set\n\n✔️ አንድ ማራኪ ጆግና 6 መጠጫ ብርጭቆዎች\n✔️ የፈሳሽ መጠጥ ማቅረቢያ\n✔️ ከፍተኛ ሙቀት የሚቋቋም\n✔️ ኳሊቲ ወፍራም\n\n ዋጋ፦ ✅ 3,400 ብር\n\n  ውስን ፍሬ ነው የቀረው ❌\n\n🏢 አድራሻ ቁ.1 👉 መገናኛ ታሜ ጋስ ህንፃ ጎን ስሪ ኤም ሲቲ ሞል  ሁለተኛ ፎቅ ቢሮ ቁ. SL-05A(ከ ሊፍቱ ፊት ለ ፊት)\n\n📍ቁ.2 👉ለቡ  መዳህኒዓለም ቤተ/ክርስቲያን 100ሜ ወደ ሙዚቃ ቤት ከፍ ብሎ  #ዛም_ሞል 2ኛ ፎቅ ቢሮ.ቁ 214\n\n\n    📲 0909522840\n    📲 0923350054\n\n👍ለቡ ቅርንጫፍ📲0973611819\n\n\n🔖\n💬  በTelegram ለማዘዝ ⤵️ ይጠቀሙ\n@shager_onlinestore\n  \nለተጨማሪ ማብራሪያ የቴሌግራም ገፃችን⤵️\nhttps://t.me/Shageronlinestore          "
        ],
        [
         "2",
         null
        ],
        [
         "3",
         null
        ],
        [
         "4",
         null
        ],
        [
         "5",
         null
        ],
        [
         "6",
         "🎯 Universal water-saving dishwasher head\n\n🔰Increase water outlet pressure and rinse efficiently.\n🔰360 ° rotating head\n🔰100% functional !!\n\nዋጋ፦  💰🏷  400 ብር\n\n♦️ውስን ፍሬ ነው ያለው \n\nአድራሻ ቁ.1 👉 መገናኛ ታሜ ጋስ ህንፃ ጎን ስሪ ኤም ሲቲ ሞል  ሁለተኛ ፎቅ ቢሮ ቁ. SL-05A(ከ ሊፍቱ ፊት ለ ፊት)\n\n📍ቁ.2 👉ለቡ  መዳህኒዓለም ቤተ/ክርስቲያን ፊት ለፊት  #ዛም_ሞል 2ኛ ፎቅ ቢሮ ቁጥር.214\n\n\n    📲 0909522840\n    📲 0923350054\n\n👍ለቡ ቅርንጫፍ📲0973611819\n\n🔖\n💬  በTelegram ለማዘዝ ⤵️ ይጠቀሙ\n@shager_onlinestore\n  \nለተጨማሪ ማብራሪያ የቴሌግራም ገፃችን⤵️\nhttps://t.me/Shageronlinestore"
        ],
        [
         "7",
         "💥 special base for refrigerator and washing machine\n\n👉Home moving furniture caster wheel heavy objects transporter small mover labor-saving moving wheels bed tool\n⚡️ከ45cm እስከ 70cm መለጠጥ የሚችል\n\n    ዋጋ፦💰🏷  2,000 ብር\n\n  ♦️ውስን ፍሬ ነው ያለው\n\n🏢 አድራሻ ቁ.1 👉 መገናኛ ታሜ ጋስ ህንፃ ጎን ስሪ ኤም ሲቲ ሞል  ሁለተኛ ፎቅ ቢሮ ቁ. SL-05A(ከ ሊፍቱ ፊት ለ ፊት)\n\n📍ቁ.2 👉ለቡ  መዳህኒዓለም ቤተ/ክርስቲያን ፊት ለፊት  #ዛም_ሞል 2ኛ ፎቅ ቢሮ ቁጥር.214\n\n\n    📲 0909522840\n    📲 0923350054\n\n👍ለቡ ቅርንጫፍ📲0973611819\n\n🔖\n💬  በTelegram ለማዘዝ ⤵️ ይጠቀሙ\n@shager_onlinestore\n  \nለተጨማሪ ማብራሪያ የቴሌግራም ገፃችን⤵️\nhttps://t.me/Shageronlinestore"
        ],
        [
         "8",
         "💥 special base for refrigerator and washing machine\n\n👉Home moving furniture caster wheel heavy objects transporter small mover labor-saving moving wheels bed tool\n\nዋጋ፦  💰🏷  2000 ብር✅\n\n   ♦️ውስን ፍሬ ነው ያለው\n\n🏢 አድራሻ ቁ.1 👉 መገናኛ ታሜ ጋስ ህንፃ ጎን ስሪ ኤም ሲቲ ሞል  ሁለተኛ ፎቅ ቢሮ ቁ. SL-05A(ከ ሊፍቱ ፊት ለ ፊት)\n\n📍ቁ.2 👉ለቡ  መዳህኒዓለም ቤተ/ክርስቲያን ፊት ለፊት  #ዛም_ሞል 2ኛ ፎቅ ቢሮ ቁጥር.214\n\n\n    📲 0909522840\n    📲 0923350054\n\n👍ለቡ ቅርንጫፍ📲0973611819\n\n🔖\n💬  በTelegram ለማዘዝ ⤵️ ይጠቀሙ\n@shager_onlinestore\n  \nለተጨማሪ ማብራሪያ የቴሌግራም ገፃችን⤵️\nhttps://t.me/Shageronlinestore"
        ],
        [
         "9",
         null
        ],
        [
         "10",
         null
        ],
        [
         "11",
         null
        ],
        [
         "12",
         null
        ],
        [
         "13",
         "💥Vintage Mason Glass Drinking Jar with Straw\n\n👉የራሳቸው ስትሮ ያላቸው እጅግ ውብ የሆኑ የጁስ መጠጫ ብርጭቆወች\n\n🍸500ml\n\n      ዋጋ፦ 550ብር✅✅\n\n♦️ውስን ፍሬ ነው ያለው \n\n🏢 አድራሻ  ቁ.1👉 መገናኛ ስሪ ኤም ሲቲ ሞል  ሁለተኛ ፎቅ ቢሮ ቁ. SL-05A(ከ ሊፍቱ ፊት ለ ፊት)\n\n📍ቁ.2 👉ለቡ  መዳህኒዓለም ቤተ/ክርስቲያን ፊት ለፊት  #ዛም_ሞል 2ኛ ፎቅ ቢሮ ቁጥር.214\n\n\n👍ለቡ ቅርንጫፍ📲0973611819\n\n\n\n    📲 0909522840\n    📲 0923350054\n\n🔖\n💬  በTelegram ለማዘዝ ⤵️ ይጠቀሙ\n@shager_onlinestore\n  \nለተጨማሪ ማብራሪያ የቴሌግራም ገፃችን⤵️\nhttps://t.me/Shageronlinestore"
        ],
        [
         "14",
         "📣 HOBBY LOBBY 3 in 1 Chopper and Garlic Peeler\n\n#ስጋ እና ሽንኩርት በሰከንዶች ድቅቅ የሚያደርግ \n\n#የነጭ_ሽንኩርት የራሱ መላጫ ያለው\n\n\n✔️ Two 3-liter jars\n✔️ One is metal and the other is thick glass.\n✔️ With 4 blades and 2 blades grinder\n👀 Meat, gizzards, vegetables, onions, and garlic are ground into it.👀\n🔔 Dried and peeled garlic cloves with a peeler🔔\n📌 An additional switch with 4 blades\n✔️ 3-press grinder\n\n    ዋጋ:- 3900ብር\n\n📍ውስን ፍሬ ነው ያለን/ Limited Stock\n\n🏢 አድራሻ ቁ.1 👉 መገናኛ ታሜ ጋስ ህንፃ ጎን ስሪ ኤም ሲቲ ሞል  ሁለተኛ ፎቅ ቢሮ ቁ. SL-05A(ከ ሊፍቱ ፊት ለ ፊት)\n\n📍ቁ.2 👉ለቡ  መዳህኒዓለም ቤተ/ክርስቲያን 100ሜ ወደ ሙዚቃ ቤት ከፍ ብሎ  #ዛም_ሞል 2ኛ ፎቅ ቢሮ.ቁ 214\n\n\n    📲 0909522840\n    📲 0923350054\n\n👍ለቡ ቅርንጫፍ📲0973611819\n\n\n🔖\n💬  በTelegram ለማዘዝ ⤵️ ይጠቀሙ\n@shager_onlinestore\n  \nለተጨማሪ ማብራሪያ የቴሌግራም ገፃችን⤵️\nhttps://t.me/Shageronlinestore"
        ],
        [
         "15",
         "📣 HOBBY LOBBY 3 in 1 Chopper and Garlic Peeler\n\n#ስጋ እና ሽንኩርት በሰከንዶች ድቅቅ የሚያደርግ \n\n#የነጭ_ሽንኩርት የራሱ መላጫ ያለው\n\n\n✔️ Two 3-liter jars\n✔️ One is metal and the other is thick glass.\n✔️ With 4 blades and 2 blades grinder\n👀 Meat, gizzards, vegetables, onions, and garlic are ground into it.👀\n🔔 Dried and peeled garlic cloves with a peeler🔔\n📌 An additional switch with 4 blades\n✔️ 3-press grinder\n\n    ዋጋ:- 3900ብር\n\n📍ውስን ፍሬ ነው ያለን/ Limited Stock\n\n🏢 አድራሻ ቁ.1 👉 መገናኛ ታሜ ጋስ ህንፃ ጎን ስሪ ኤም ሲቲ ሞል  ሁለተኛ ፎቅ ቢሮ ቁ. SL-05A(ከ ሊፍቱ ፊት ለ ፊት)\n\n📍ቁ.2 👉ለቡ  መዳህኒዓለም ቤተ/ክርስቲያን 100ሜ ወደ ሙዚቃ ቤት ከፍ ብሎ  #ዛም_ሞል 2ኛ ፎቅ ቢሮ.ቁ 214\n\n\n    📲 0909522840\n    📲 0923350054\n\n👍ለቡ ቅርንጫፍ📲0973611819\n\n\n🔖\n💬  በTelegram ለማዘዝ ⤵️ ይጠቀሙ\n@shager_onlinestore\n  \nለተጨማሪ ማብራሪያ የቴሌግራም ገፃችን⤵️\nhttps://t.me/Shageronlinestore"
        ],
        [
         "16",
         null
        ],
        [
         "17",
         "📣 HOBBY LOBBY 3 in 1 Chopper and Garlic Peeler\n\n#ስጋ እና ሽንኩርት በሰከንዶች ድቅቅ የሚያደርግ \n\n#የነጭ_ሽንኩርት የራሱ መላጫ ያለው\n\n\n✔️ Two 3-liter jars\n✔️ One is metal and the other is thick glass.\n✔️ With 4 blades and 2 blades grinder\n👀 Meat, gizzards, vegetables, onions, and garlic are ground into it.👀\n🔔 Dried and peeled garlic cloves with a peeler🔔\n📌 An additional switch with 4 blades\n✔️ 3-press grinder\n\n    ዋጋ:- 3900ብር\n\n📍ውስን ፍሬ ነው ያለን/ Limited Stock\n\n🏢 አድራሻ ቁ.1 👉 መገናኛ ታሜ ጋስ ህንፃ ጎን ስሪ ኤም ሲቲ ሞል  ሁለተኛ ፎቅ ቢሮ ቁ. SL-05A(ከ ሊፍቱ ፊት ለ ፊት)\n\n📍ቁ.2 👉ለቡ  መዳህኒዓለም ቤተ/ክርስቲያን 100ሜ ወደ ሙዚቃ ቤት ከፍ ብሎ  #ዛም_ሞል 2ኛ ፎቅ ቢሮ.ቁ 214\n\n\n    📲 0909522840\n    📲 0923350054\n\n👍ለቡ ቅርንጫፍ📲0973611819\n\n\n🔖\n💬  በTelegram ለማዘዝ ⤵️ ይጠቀሙ\n@shager_onlinestore\n  \nለተጨማሪ ማብራሪያ የቴሌግራም ገፃችን⤵️\nhttps://t.me/Shageronlinestore"
        ],
        [
         "18",
         null
        ],
        [
         "19",
         null
        ],
        [
         "20",
         null
        ],
        [
         "21",
         null
        ],
        [
         "22",
         null
        ],
        [
         "23",
         "#አልቆል_ለተባላችሁ_በድጋሚ_አስገብተናል \n💥የመስታዎት ፓትራዎች ( glass bakewares) 🥧 🥮 \n\n👉Rectagular shape\n\n👉ገበታ ላይ መቅረብ የሚችሉ ውብ የመስታዎት ፓትራዎች \n   \n👉ሶስት የተለያየ መጠን ያላቸው (3.1 ሊ ፣ 2.5 ሊ፣ 1.8ሊ ) ፓትራዎችን የያዘ\n\n👉ለላዛኛ ፣ ፓስታ ፍርኖ፣ ኬክ  ተመራጭ\n\n👉ውብና ማራኪ ገበታ ላይ  መቅረብ የሚችሉ \n\n👉ውፍራም ማንኛውንም ሙቀት የሚቋቋም\n\nዋጋ፦  💰 ሶስቱን በ 3800 ብር\n\n📍ውስን ፍሬ ነው ያለን/ Limited Stock\n\n🏢 አድራሻ ቁ.1 👉 መገናኛ ታሜ ጋስ ህንፃ ጎን ስሪ ኤም ሲቲ ሞል  ሁለተኛ ፎቅ ቢሮ ቁ. SL-05A(ከ ሊፍቱ ፊት ለ ፊት)\n\n📍ቁ.2 👉ለቡ  መዳህኒዓለም ቤተ/ክርስቲያን 100ሜ ወደ ሙዚቃ ቤት ከፍ ብሎ  #ዛም_ሞል 2ኛ ፎቅ ቢሮ.ቁ 214\n\n\n    📲 0909522840\n    📲 0923350054\n\n👍ለቡ ቅርንጫፍ📲0973611819\n\n\n🔖\n💬  በTelegram ለማዘዝ ⤵️ ይጠቀሙ\n@shager_onlinestore\n  \nለተጨማሪ ማብራሪያ የቴሌግራም ገፃችን⤵️\nhttps://t.me/Shageronlinestore"
        ],
        [
         "24",
         "⚡️portable foldable mosquito net for kids\n\n👌በቀላሉ ይዞ ለመንቀሳቀስ አመቺ\n👌ልጆችዎን ከቢንቢ እና ከተለያዩ ነፍሳት የሚጠብቅ\n👌size:-100cm*60cm\n\n    \n      ዋጋ:-1400ብር💲\n\n\n🏢 አድራሻ  👉ቁ.1 መገናኛ ስሪ ኤም ሲቲ ሞል  ሁለተኛ ፎቅ ቢሮ ቁ. SL-05A(ከ ሊፍቱ ፊት ለ ፊት)\n\n📍ቁ.2 👉ለቡ  መዳህኒዓለም ቤተ/ክርስቲያን ፊት ለፊት  #ዛም_ሞል 2ኛ ፎቅ ቢሮ ቁጥር.214\n\n\n👍ለቡ ቅርንጫፍ📲0971611819\n\n\n\n     💧💧💧💧\n\n\n    📲 0909522840\n    📲 0923350054\n\n🔖\n💬  በTelegram ለማዘዝ ⤵️ ይጠቀሙ\n@shager_onlinestore\n  \nለተጨማሪ ማብራሪያ የቴሌግራም ገፃችን⤵️\nhttps://t.me/Shageronlinestore"
        ],
        [
         "25",
         "👋3in1 delux multifunctional  bassinet\n\n✨ከግራ ወደቀኝ እየተንቀሳቀሰ\nልጆችን እሹሩሩ እያለ የሚያጫውት የሚያስተኛ\n✨የራሱ ሪሞት ያለው \nየራሱ ሙዚቃዎች ያሉት እንዲሁም\n✨በብሉቱዝ እና በፍላሽ የምንፈልገውን ሙዚቃ ማጫዎት እንችላለን \n✨በሶኬት እና በባትሪ ድንጋይ የሚሰራ\n✨ልጆች ከፍ ሲሉ እንደ ወንበር ያገለግላቸዋል\n\nዋጋ፦  💰🏷  14,000 ብር\n\n♦️ውስን ፍሬ ነው ያለው\n\n🏢 አድራሻ ቁ.1 👉 መገናኛ ታሜ ጋስ ህንፃ ጎን ስሪ ኤም ሲቲ ሞል  ሁለተኛ ፎቅ ቢሮ ቁ. SL-05A(ከ ሊፍቱ ፊት ለ ፊት)\n\n📍ቁ.2 👉ለቡ  መዳህኒዓለም ቤተ/ክርስቲያን 100ሜ ወደ ሙዚቃ ቤት ከፍ ብሎ  #ዛም_ሞል 2ኛ ፎቅ ቢሮ.ቁ 214\n\n\n    📲 0909522840\n    📲 0923350054\n\n👍ለቡ ቅርንጫፍ📲0973611819\n\n\n🔖\n💬  በTelegram ለማዘዝ ⤵️ ይጠቀሙ\n@shager_onlinestore\n  \nለተጨማሪ ማብራሪያ የቴሌግራም ገፃችን⤵️\nhttps://t.me/Shageronlinestore          "
        ],
        [
         "26",
         "👋3in1 delux multifunctional  bassinet\n\n✨ከግራ ወደቀኝ እየተንቀሳቀሰ\nልጆችን እሹሩሩ እያለ የሚያጫውት የሚያስተኛ\n✨የራሱ ሪሞት ያለው \nየራሱ ሙዚቃዎች ያሉት እንዲሁም\n✨በብሉቱዝ እና በፍላሽ የምንፈልገውን ሙዚቃ ማጫዎት እንችላለን \n✨በሶኬት እና በባትሪ ድንጋይ የሚሰራ\n✨ልጆች ከፍ ሲሉ እንደ ወንበር ያገለግላቸዋል\n\nዋጋ፦  💰🏷  14,000 ብር\n\n♦️ውስን ፍሬ ነው ያለው\n\n🏢 አድራሻ ቁ.1 👉 መገናኛ ታሜ ጋስ ህንፃ ጎን ስሪ ኤም ሲቲ ሞል  ሁለተኛ ፎቅ ቢሮ ቁ. SL-05A(ከ ሊፍቱ ፊት ለ ፊት)\n\n📍ቁ.2 👉ለቡ  መዳህኒዓለም ቤተ/ክርስቲያን 100ሜ ወደ ሙዚቃ ቤት ከፍ ብሎ  #ዛም_ሞል 2ኛ ፎቅ ቢሮ.ቁ 214\n\n\n    📲 0909522840\n    📲 0923350054\n\n👍ለቡ ቅርንጫፍ📲0973611819\n\n\n🔖\n💬  በTelegram ለማዘዝ ⤵️ ይጠቀሙ\n@shager_onlinestore\n  \nለተጨማሪ ማብራሪያ የቴሌግራም ገፃችን⤵️\nhttps://t.me/Shageronlinestore          "
        ],
        [
         "27",
         null
        ],
        [
         "28",
         null
        ],
        [
         "29",
         null
        ],
        [
         "30",
         null
        ],
        [
         "31",
         null
        ],
        [
         "32",
         null
        ],
        [
         "33",
         null
        ],
        [
         "34",
         null
        ],
        [
         "35",
         "💥Electric Hot plate \n\n⚡️በኤሌክትሪክ የሚሰራ \n⚡️የራሱ ሙቀት መቆጣጠሪያ ያለው\n⚡️1400 watt \n⚡️ለማንቀሳቀስ የራሱ መያዣ ያለው \n⚡️ከጀበና እስከ ትልቅ ድስቶች የሚመች\n\n\n     ዋጋ፦ 💰✅4500ብር\n                         \n\nውስን ፍሬ ነው የቀረው ❌\n\n🏢 አድራሻ ቁ.1 👉 መገናኛ ታሜ ጋስ ህንፃ ጎን ስሪ ኤም ሲቲ ሞል  ሁለተኛ ፎቅ ቢሮ ቁ. SL-05A(ከ ሊፍቱ ፊት ለ ፊት)\n\n📍ቁ.2 👉ለቡ  መዳህኒዓለም ቤተ/ክርስቲያን 100ሜ ወደ ሙዚቃ ቤት ከፍ ብሎ  #ዛም_ሞል 2ኛ ፎቅ ቢሮ.ቁ 214\n\n\n    📲 0909522840\n    📲 0923350054\n\n👍ለቡ ቅርንጫፍ📲0973611819\n\n\n🔖\n💬  በTelegram ለማዘዝ ⤵️ ይጠቀሙ\n@shager_onlinestore\n  \nለተጨማሪ ማብራሪያ የቴሌግራም ገፃችን⤵️\nhttps://t.me/Shageronlinestore          "
        ],
        [
         "36",
         null
        ],
        [
         "37",
         null
        ],
        [
         "38",
         null
        ],
        [
         "39",
         null
        ],
        [
         "40",
         "📣Portable Folding Stool\n\n✔️ ተጣጣፊ ወንበር\n✔️ እስከ 100kg ክብደት የሚሸከም\n✔️ ከወፍራም ፕላስቲክ የተሰራ\n✔️ ቤተ ዕምነት ውስጥ፣ ቤት ውስጥ ፣ ስራ ቦታ እና መዝናኛ ቦታ ይገለገሉበታል\n✔️48cm ቁመት ሲኖረው \n✔️መቀመጫው 22cm×28cm ስፋት ያለው\n✔️ ለመያዝና ለማስቀመጥ የሚመች ቅልጥፋ ያለ\n\n    ዋጋ:-ትልቁ:-1700 ብር\n           ትንሹ:-1500ብር\n\nውስን ፍሬ ነው ያለው\n\n🏢 አድራሻ ቁ.1 👉 መገናኛ ታሜ ጋስ ህንፃ ጎን ስሪ ኤም ሲቲ ሞል  ሁለተኛ ፎቅ ቢሮ ቁ. SL-05A(ከ ሊፍቱ ፊት ለ ፊት)\n\n📍ቁ.2 👉ለቡ  መዳህኒዓለም ቤተ/ክርስቲያን 100ሜ ወደ ሙዚቃ ቤት ከፍ ብሎ  #ዛም_ሞል 2ኛ ፎቅ ቢሮ.ቁ 214\n\n\n    📲 0909522840\n    📲 0923350054\n\n👍ለቡ ቅርንጫፍ📲0973611819\n\n\n🔖\n💬  በTelegram ለማዘዝ ⤵️ ይጠቀሙ\n@shager_onlinestore\n  \nለተጨማሪ ማብራሪያ የቴሌግራም ገፃችን⤵️\nhttps://t.me/Shageronlinestore          "
        ],
        [
         "41",
         "🌀🌀🛒 Multifunction  Juice Extractor: \n\n💥 🍎🍉🍒🍐🌽🍊ለአፕል ብርቱካን፣ ካሮት፣ አናናስ፣ ቲማቲም… የመሳሰሉትን እየጨመቀ ቆሻሻውን ፡ ለብቻ፡ እያጣራ፡ ውሃውን እየጨመቀ፡ ወደራሱ ጆክ የሚቀዳ፤ \n🧳 የፍራፍሬ፤\n\n\n     ዋጋ፦ ✅  5,500 ብር\n\nውስን ፍሬ ነው የቀረው 🔥\n\n🏢 አድራሻ ቁ.1 👉 መገናኛ ታሜ ጋስ ህንፃ ጎን ስሪ ኤም ሲቲ ሞል  ሁለተኛ ፎቅ ቢሮ ቁ. SL-05A(ከ ሊፍቱ ፊት ለ ፊት)\n\n📍ቁ.2 👉ለቡ  መዳህኒዓለም ቤተ/ክርስቲያን 100ሜ ወደ ሙዚቃ ቤት ከፍ ብሎ  #ዛም_ሞል 2ኛ ፎቅ ቢሮ.ቁ 214\n\n\n    📲 0909522840\n    📲 0923350054\n\n👍ለቡ ቅርንጫፍ📲0973611819\n\n\n🔖\n💬  በTelegram ለማዘዝ ⤵️ ይጠቀሙ\n@shager_onlinestore\n  \nለተጨማሪ ማብራሪያ የቴሌግራም ገፃችን⤵️\nhttps://t.me/Shageronlinestore"
        ],
        [
         "42",
         null
        ],
        [
         "43",
         null
        ],
        [
         "44",
         "🌀🌀🛒 Multifunction  Juice Extractor: \n\n💥 🍎🍉🍒🍐🌽🍊ለአፕል ብርቱካን፣ ካሮት፣ አናናስ፣ ቲማቲም… የመሳሰሉትን እየጨመቀ ቆሻሻውን ፡ ለብቻ፡ እያጣራ፡ ውሃውን እየጨመቀ፡ ወደራሱ ጆክ የሚቀዳ፤ \n🧳 የፍራፍሬ፤\n\n\n     ዋጋ፦ ✅  5,500 ብር\n\nውስን ፍሬ ነው የቀረው 🔥\n\n🏢 አድራሻ ቁ.1 👉 መገናኛ ታሜ ጋስ ህንፃ ጎን ስሪ ኤም ሲቲ ሞል  ሁለተኛ ፎቅ ቢሮ ቁ. SL-05A(ከ ሊፍቱ ፊት ለ ፊት)\n\n📍ቁ.2 👉ለቡ  መዳህኒዓለም ቤተ/ክርስቲያን 100ሜ ወደ ሙዚቃ ቤት ከፍ ብሎ  #ዛም_ሞል 2ኛ ፎቅ ቢሮ.ቁ 214\n\n\n    📲 0909522840\n    📲 0923350054\n\n👍ለቡ ቅርንጫፍ📲0973611819\n\n\n🔖\n💬  በTelegram ለማዘዝ ⤵️ ይጠቀሙ\n@shager_onlinestore\n  \nለተጨማሪ ማብራሪያ የቴሌግራም ገፃችን⤵️\nhttps://t.me/Shageronlinestore"
        ],
        [
         "45",
         null
        ],
        [
         "46",
         null
        ],
        [
         "47",
         "💥1pc stainless steel loaf pan\n\n👍ትልቁ\n\n         ዋጋ:-ትልቁ:-1,000ብር✅\n\n❌ውስን ፍሬ ነው ያለው\n\n🏢 አድራሻ  ቁ.1👉 ስሪ ኤም ሲቲ ሞል  ሁለተኛ ፎቅ ቢሮ ቁ. SL-05A(ከ ሊፍቱ ፊት ለ ፊት)\n\n📍ቁ.2 👉ለቡ  መዳህኒዓለም ቤተ/ክርስቲያን ፊት ለፊት  #ዛም_ሞል 2ኛ ፎቅ ቢሮ ቁጥር.214\n\n👍ለቡ ቅርንጫፍ📲0973611819\n\n    📲 0909522840\n    📲 0923350054\n\n🔖\n💬  በTelegram ለማዘዝ ⤵️ ይጠቀሙ\n@shager_onlinestore\n  \nለተጨማሪ ማብራሪያ የቴሌግራም ገፃችን⤵️\nhttps://t.me/Shageronlinestore"
        ],
        [
         "48",
         null
        ],
        [
         "49",
         null
        ]
       ],
       "shape": {
        "columns": 1,
        "rows": 39366
       }
      },
      "text/plain": [
       "0        💥Miralux Hot plate\\n ባለሁለት ምድጃ ስቶቭ\\n\\n      💯o...\n",
       "1        💥7pcs glass water set\\n\\n✔️ አንድ ማራኪ ጆግና 6 መጠጫ ...\n",
       "2                                                      NaN\n",
       "3                                                      NaN\n",
       "4                                                      NaN\n",
       "                               ...                        \n",
       "39361    Air Jordan 4  \\nSize 39,40,41,42,43,44\\nPrice ...\n",
       "39362    Skechers Spring lite \\nSize 40,41,42,43\\nPrice...\n",
       "39363    Skechers lace ultra go\\nSize - 40,41,42,43\\nPr...\n",
       "39364    Nike Air Max ACG\\nSize - 40,41,42,43\\nPrice 32...\n",
       "39365    Nike air max bliss \\nSize 40,41,42,43,44\\nPric...\n",
       "Name: Message, Length: 39366, dtype: object"
      ]
     },
     "execution_count": 7,
     "metadata": {},
     "output_type": "execute_result"
    }
   ],
   "source": [
    "combined_df['Message']"
   ]
  },
  {
   "cell_type": "code",
   "execution_count": 8,
   "id": "208e418a",
   "metadata": {},
   "outputs": [],
   "source": [
    "# drop the 'Message' column has empty values\n",
    "combined_df = combined_df.dropna(subset=['Message'])"
   ]
  },
  {
   "cell_type": "code",
   "execution_count": 9,
   "id": "e5309a1c",
   "metadata": {},
   "outputs": [],
   "source": [
    "# remove duplicates\n",
    "combined_df = preprocessor.remove_duplicates()"
   ]
  },
  {
   "cell_type": "code",
   "execution_count": 10,
   "id": "7bc4b306",
   "metadata": {},
   "outputs": [
    {
     "ename": "TypeError",
     "evalue": "'NoneType' object is not subscriptable",
     "output_type": "error",
     "traceback": [
      "\u001b[31m---------------------------------------------------------------------------\u001b[39m",
      "\u001b[31mTypeError\u001b[39m                                 Traceback (most recent call last)",
      "\u001b[36mCell\u001b[39m\u001b[36m \u001b[39m\u001b[32mIn[10]\u001b[39m\u001b[32m, line 2\u001b[39m\n\u001b[32m      1\u001b[39m \u001b[38;5;66;03m# after cleaning dropping the empty rows\u001b[39;00m\n\u001b[32m----> \u001b[39m\u001b[32m2\u001b[39m \u001b[43mcombined_df\u001b[49m\u001b[43m[\u001b[49m\u001b[33;43m'\u001b[39;49m\u001b[33;43mMessage\u001b[39;49m\u001b[33;43m'\u001b[39;49m\u001b[43m]\u001b[49m\n",
      "\u001b[31mTypeError\u001b[39m: 'NoneType' object is not subscriptable"
     ]
    }
   ],
   "source": [
    "# after cleaning dropping the empty rows\n",
    "combined_df['Message']"
   ]
  },
  {
   "cell_type": "code",
   "execution_count": null,
   "id": "ae07b3b9",
   "metadata": {},
   "outputs": [],
   "source": [
    "# clean up the data\n",
    "combined_df['Message'] = preprocessor.clean_text('Message')\n"
   ]
  },
  {
   "cell_type": "code",
   "execution_count": null,
   "id": "11a721c0",
   "metadata": {},
   "outputs": [],
   "source": [
    "# after cleaning the emoji\n",
    "combined_df['Message']"
   ]
  },
  {
   "cell_type": "code",
   "execution_count": null,
   "id": "706ac46b",
   "metadata": {},
   "outputs": [],
   "source": [
    "# Normalize the text\n",
    "combined_df['Message'] = preprocessor.normalize_text('Message')"
   ]
  }
 ],
 "metadata": {
  "kernelspec": {
   "display_name": ".venv",
   "language": "python",
   "name": "python3"
  },
  "language_info": {
   "codemirror_mode": {
    "name": "ipython",
    "version": 3
   },
   "file_extension": ".py",
   "mimetype": "text/x-python",
   "name": "python",
   "nbconvert_exporter": "python",
   "pygments_lexer": "ipython3",
   "version": "3.13.3"
  }
 },
 "nbformat": 4,
 "nbformat_minor": 5
}

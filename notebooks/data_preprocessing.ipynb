{
 "cells": [
  {
   "cell_type": "markdown",
   "id": "8c27fd1c",
   "metadata": {},
   "source": [
    "## Data Preprocessing and Tokenization"
   ]
  },
  {
   "cell_type": "code",
   "execution_count": 1,
   "id": "8732ecff",
   "metadata": {},
   "outputs": [],
   "source": [
    "import sys\n",
    "import os\n",
    "import pandas as pd\n",
    "from glob import glob"
   ]
  },
  {
   "cell_type": "code",
   "execution_count": 2,
   "id": "ef483e92",
   "metadata": {},
   "outputs": [],
   "source": [
    "from pathlib import Path\n",
    "from importlib import reload\n",
    "# add the project root to the path\n",
    "project_root = Path(\"..\").resolve()\n",
    "if str(project_root) not in sys.path:\n",
    "    sys.path.insert(0, str(project_root))"
   ]
  },
  {
   "cell_type": "code",
   "execution_count": 3,
   "id": "f7fb90c2",
   "metadata": {},
   "outputs": [
    {
     "data": {
      "text/plain": [
       "<module 'src.data_loader' from 'D:\\\\Research & Project\\\\10academy\\\\week 4\\\\challenge\\\\EthioMart-E-commerce-NER\\\\src\\\\data_loader.py'>"
      ]
     },
     "execution_count": 3,
     "metadata": {},
     "output_type": "execute_result"
    }
   ],
   "source": [
    "from src.data_loader import DataLoader\n",
    "import src.data_loader\n",
    "# reload the module to ensure we have the latest version\n",
    "reload(src.data_loader)"
   ]
  },
  {
   "cell_type": "code",
   "execution_count": 4,
   "id": "9f574353",
   "metadata": {},
   "outputs": [
    {
     "name": "stdout",
     "output_type": "stream",
     "text": [
      "Data loaded successfully from ../data\\raw\\telegram_data.csv.\n",
      "Loading data from ../data\\raw\\telegram_data.csv\n",
      "Data loaded successfully from ../data\\raw\\telegram_data_20250622_170157.csv.\n",
      "Loading data from ../data\\raw\\telegram_data_20250622_170157.csv\n",
      "Data loaded successfully from ../data\\raw\\telegram_data_20250622_220106.csv.\n",
      "Loading data from ../data\\raw\\telegram_data_20250622_220106.csv\n",
      "Total combined shape: (39366, 6)\n"
     ]
    },
    {
     "data": {
      "application/vnd.microsoft.datawrangler.viewer.v0+json": {
       "columns": [
        {
         "name": "index",
         "rawType": "int64",
         "type": "integer"
        },
        {
         "name": "Channel Title",
         "rawType": "object",
         "type": "string"
        },
        {
         "name": "Channel Username",
         "rawType": "object",
         "type": "string"
        },
        {
         "name": "ID",
         "rawType": "int64",
         "type": "integer"
        },
        {
         "name": "Message",
         "rawType": "object",
         "type": "unknown"
        },
        {
         "name": "Date",
         "rawType": "object",
         "type": "string"
        },
        {
         "name": "Media Path",
         "rawType": "object",
         "type": "string"
        }
       ],
       "ref": "bc31d942-3a03-41b5-be02-76fcd4c33c34",
       "rows": [
        [
         "0",
         "Sheger online-store",
         "@Shageronlinestore",
         "7383",
         "💥Miralux Hot plate\n ባለሁለት ምድጃ ስቶቭ\n\n      💯orginal\n\n⚡️ 2000 ዋት\n⚡️ ፊውዝ የተገጠመለት\n⚡️ ትልቅ ድስት መሸከም የሚችል\n⚡️ አስተማማኝ ቴርሞስታት\n⚡️ ባለ ፊውዝ\n\nዋጋ፦ ትልቁ :- 2900ብር✅\n\n\n\nአድራሻ 📍 ቁ.1 👉መገናኛ ስሪ ኤም ሲቲ ሞል  ሁለተኛ ፎቅ ቢሮ ቁ. SL-05A(ከ ሊፍቱ ፊት ለ ፊት)\n\n📍ቁ.2 👉ለቡ  መዳህኒዓለም ቤተ/ክርስቲያን ፊት ለፊት  #ዛም_ሞል 2ኛ ፎቅ ቢሮ ቁጥር.214\n\n\n👍ለቡ ቅርንጫፍ📲0973611819\n\n     💧💧💧💧\n\n\n    📲 0909522840\n    📲 0923350054\n\n🔖\n💬  በTelegram ለማዘዝ ⤵️ ይጠቀሙ\n@shager_onlinestore\n  \nለተጨማሪ ማብራሪያ የቴሌግራም ገፃችን⤵️\nhttps://t.me/Shageronlinestore",
         "2025-06-19 06:31:31+00:00",
         "data/photos/@Shageronlinestore_7383.jpg"
        ],
        [
         "1",
         "Sheger online-store",
         "@Shageronlinestore",
         "7382",
         "💥7pcs glass water set\n\n✔️ አንድ ማራኪ ጆግና 6 መጠጫ ብርጭቆዎች\n✔️ የፈሳሽ መጠጥ ማቅረቢያ\n✔️ ከፍተኛ ሙቀት የሚቋቋም\n✔️ ኳሊቲ ወፍራም\n\n ዋጋ፦ ✅ 3,400 ብር\n\n  ውስን ፍሬ ነው የቀረው ❌\n\n🏢 አድራሻ ቁ.1 👉 መገናኛ ታሜ ጋስ ህንፃ ጎን ስሪ ኤም ሲቲ ሞል  ሁለተኛ ፎቅ ቢሮ ቁ. SL-05A(ከ ሊፍቱ ፊት ለ ፊት)\n\n📍ቁ.2 👉ለቡ  መዳህኒዓለም ቤተ/ክርስቲያን 100ሜ ወደ ሙዚቃ ቤት ከፍ ብሎ  #ዛም_ሞል 2ኛ ፎቅ ቢሮ.ቁ 214\n\n\n    📲 0909522840\n    📲 0923350054\n\n👍ለቡ ቅርንጫፍ📲0973611819\n\n\n🔖\n💬  በTelegram ለማዘዝ ⤵️ ይጠቀሙ\n@shager_onlinestore\n  \nለተጨማሪ ማብራሪያ የቴሌግራም ገፃችን⤵️\nhttps://t.me/Shageronlinestore          ",
         "2025-06-18 11:19:11+00:00",
         "data/photos/@Shageronlinestore_7382.jpg"
        ],
        [
         "2",
         "Sheger online-store",
         "@Shageronlinestore",
         "7381",
         null,
         "2025-06-18 11:19:11+00:00",
         "data/photos/@Shageronlinestore_7381.jpg"
        ],
        [
         "3",
         "Sheger online-store",
         "@Shageronlinestore",
         "7380",
         null,
         "2025-06-18 11:19:11+00:00",
         "data/photos/@Shageronlinestore_7380.jpg"
        ],
        [
         "4",
         "Sheger online-store",
         "@Shageronlinestore",
         "7379",
         null,
         "2025-06-18 11:19:11+00:00",
         "data/photos/@Shageronlinestore_7379.jpg"
        ]
       ],
       "shape": {
        "columns": 6,
        "rows": 5
       }
      },
      "text/html": [
       "<div>\n",
       "<style scoped>\n",
       "    .dataframe tbody tr th:only-of-type {\n",
       "        vertical-align: middle;\n",
       "    }\n",
       "\n",
       "    .dataframe tbody tr th {\n",
       "        vertical-align: top;\n",
       "    }\n",
       "\n",
       "    .dataframe thead th {\n",
       "        text-align: right;\n",
       "    }\n",
       "</style>\n",
       "<table border=\"1\" class=\"dataframe\">\n",
       "  <thead>\n",
       "    <tr style=\"text-align: right;\">\n",
       "      <th></th>\n",
       "      <th>Channel Title</th>\n",
       "      <th>Channel Username</th>\n",
       "      <th>ID</th>\n",
       "      <th>Message</th>\n",
       "      <th>Date</th>\n",
       "      <th>Media Path</th>\n",
       "    </tr>\n",
       "  </thead>\n",
       "  <tbody>\n",
       "    <tr>\n",
       "      <th>0</th>\n",
       "      <td>Sheger online-store</td>\n",
       "      <td>@Shageronlinestore</td>\n",
       "      <td>7383</td>\n",
       "      <td>💥Miralux Hot plate\\n ባለሁለት ምድጃ ስቶቭ\\n\\n      💯o...</td>\n",
       "      <td>2025-06-19 06:31:31+00:00</td>\n",
       "      <td>data/photos/@Shageronlinestore_7383.jpg</td>\n",
       "    </tr>\n",
       "    <tr>\n",
       "      <th>1</th>\n",
       "      <td>Sheger online-store</td>\n",
       "      <td>@Shageronlinestore</td>\n",
       "      <td>7382</td>\n",
       "      <td>💥7pcs glass water set\\n\\n✔️ አንድ ማራኪ ጆግና 6 መጠጫ ...</td>\n",
       "      <td>2025-06-18 11:19:11+00:00</td>\n",
       "      <td>data/photos/@Shageronlinestore_7382.jpg</td>\n",
       "    </tr>\n",
       "    <tr>\n",
       "      <th>2</th>\n",
       "      <td>Sheger online-store</td>\n",
       "      <td>@Shageronlinestore</td>\n",
       "      <td>7381</td>\n",
       "      <td>NaN</td>\n",
       "      <td>2025-06-18 11:19:11+00:00</td>\n",
       "      <td>data/photos/@Shageronlinestore_7381.jpg</td>\n",
       "    </tr>\n",
       "    <tr>\n",
       "      <th>3</th>\n",
       "      <td>Sheger online-store</td>\n",
       "      <td>@Shageronlinestore</td>\n",
       "      <td>7380</td>\n",
       "      <td>NaN</td>\n",
       "      <td>2025-06-18 11:19:11+00:00</td>\n",
       "      <td>data/photos/@Shageronlinestore_7380.jpg</td>\n",
       "    </tr>\n",
       "    <tr>\n",
       "      <th>4</th>\n",
       "      <td>Sheger online-store</td>\n",
       "      <td>@Shageronlinestore</td>\n",
       "      <td>7379</td>\n",
       "      <td>NaN</td>\n",
       "      <td>2025-06-18 11:19:11+00:00</td>\n",
       "      <td>data/photos/@Shageronlinestore_7379.jpg</td>\n",
       "    </tr>\n",
       "  </tbody>\n",
       "</table>\n",
       "</div>"
      ],
      "text/plain": [
       "         Channel Title    Channel Username    ID  \\\n",
       "0  Sheger online-store  @Shageronlinestore  7383   \n",
       "1  Sheger online-store  @Shageronlinestore  7382   \n",
       "2  Sheger online-store  @Shageronlinestore  7381   \n",
       "3  Sheger online-store  @Shageronlinestore  7380   \n",
       "4  Sheger online-store  @Shageronlinestore  7379   \n",
       "\n",
       "                                             Message  \\\n",
       "0  💥Miralux Hot plate\\n ባለሁለት ምድጃ ስቶቭ\\n\\n      💯o...   \n",
       "1  💥7pcs glass water set\\n\\n✔️ አንድ ማራኪ ጆግና 6 መጠጫ ...   \n",
       "2                                                NaN   \n",
       "3                                                NaN   \n",
       "4                                                NaN   \n",
       "\n",
       "                        Date                               Media Path  \n",
       "0  2025-06-19 06:31:31+00:00  data/photos/@Shageronlinestore_7383.jpg  \n",
       "1  2025-06-18 11:19:11+00:00  data/photos/@Shageronlinestore_7382.jpg  \n",
       "2  2025-06-18 11:19:11+00:00  data/photos/@Shageronlinestore_7381.jpg  \n",
       "3  2025-06-18 11:19:11+00:00  data/photos/@Shageronlinestore_7380.jpg  \n",
       "4  2025-06-18 11:19:11+00:00  data/photos/@Shageronlinestore_7379.jpg  "
      ]
     },
     "execution_count": 4,
     "metadata": {},
     "output_type": "execute_result"
    }
   ],
   "source": [
    "import pandas as pd\n",
    "# import and load the raw data\n",
    "raw_data_path = os.path.join('../data', 'raw')\n",
    "# Get all CSV files from the raw data directory\n",
    "raw_data_files = glob(os.path.join(raw_data_path, '*.csv'))\n",
    "# import all raw data files into  a single dataframe \n",
    "combined_df = pd.DataFrame()\n",
    "\n",
    "# Loop through each CSV file and load the data\n",
    "for file in raw_data_files:\n",
    "    data_loader = DataLoader(file)\n",
    "    data_loader.load_data()  # Load data into the internal variable\n",
    "    df = data_loader.get_data()  # Retrieve the loaded data\n",
    "    print(f\"Loading data from {file}\")\n",
    "    combined_df = pd.concat([combined_df, df], ignore_index=True)\n",
    "\n",
    "# Optional: display final combined dataframe shape\n",
    "print(f\"Total combined shape: {combined_df.shape}\")\n",
    "combined_df.head()"
   ]
  },
  {
   "cell_type": "code",
   "execution_count": 16,
   "id": "365a1a3b",
   "metadata": {},
   "outputs": [
    {
     "data": {
      "application/vnd.microsoft.datawrangler.viewer.v0+json": {
       "columns": [
        {
         "name": "index",
         "rawType": "object",
         "type": "string"
        },
        {
         "name": "ID",
         "rawType": "float64",
         "type": "float"
        }
       ],
       "ref": "3ef6a1dd-0d22-4263-b110-ccbb7fec0a27",
       "rows": [
        [
         "count",
         "21847.0"
        ],
        [
         "mean",
         "4777.052776124869"
        ],
        [
         "std",
         "3216.8687650094002"
        ],
        [
         "min",
         "3.0"
        ],
        [
         "25%",
         "2431.5"
        ],
        [
         "50%",
         "4322.0"
        ],
        [
         "75%",
         "6322.0"
        ],
        [
         "max",
         "16428.0"
        ]
       ],
       "shape": {
        "columns": 1,
        "rows": 8
       }
      },
      "text/html": [
       "<div>\n",
       "<style scoped>\n",
       "    .dataframe tbody tr th:only-of-type {\n",
       "        vertical-align: middle;\n",
       "    }\n",
       "\n",
       "    .dataframe tbody tr th {\n",
       "        vertical-align: top;\n",
       "    }\n",
       "\n",
       "    .dataframe thead th {\n",
       "        text-align: right;\n",
       "    }\n",
       "</style>\n",
       "<table border=\"1\" class=\"dataframe\">\n",
       "  <thead>\n",
       "    <tr style=\"text-align: right;\">\n",
       "      <th></th>\n",
       "      <th>ID</th>\n",
       "    </tr>\n",
       "  </thead>\n",
       "  <tbody>\n",
       "    <tr>\n",
       "      <th>count</th>\n",
       "      <td>21847.000000</td>\n",
       "    </tr>\n",
       "    <tr>\n",
       "      <th>mean</th>\n",
       "      <td>4777.052776</td>\n",
       "    </tr>\n",
       "    <tr>\n",
       "      <th>std</th>\n",
       "      <td>3216.868765</td>\n",
       "    </tr>\n",
       "    <tr>\n",
       "      <th>min</th>\n",
       "      <td>3.000000</td>\n",
       "    </tr>\n",
       "    <tr>\n",
       "      <th>25%</th>\n",
       "      <td>2431.500000</td>\n",
       "    </tr>\n",
       "    <tr>\n",
       "      <th>50%</th>\n",
       "      <td>4322.000000</td>\n",
       "    </tr>\n",
       "    <tr>\n",
       "      <th>75%</th>\n",
       "      <td>6322.000000</td>\n",
       "    </tr>\n",
       "    <tr>\n",
       "      <th>max</th>\n",
       "      <td>16428.000000</td>\n",
       "    </tr>\n",
       "  </tbody>\n",
       "</table>\n",
       "</div>"
      ],
      "text/plain": [
       "                 ID\n",
       "count  21847.000000\n",
       "mean    4777.052776\n",
       "std     3216.868765\n",
       "min        3.000000\n",
       "25%     2431.500000\n",
       "50%     4322.000000\n",
       "75%     6322.000000\n",
       "max    16428.000000"
      ]
     },
     "execution_count": 16,
     "metadata": {},
     "output_type": "execute_result"
    }
   ],
   "source": [
    "combined_df.describe()"
   ]
  },
  {
   "cell_type": "code",
   "execution_count": 19,
   "id": "99fddf13",
   "metadata": {},
   "outputs": [
    {
     "data": {
      "application/vnd.microsoft.datawrangler.viewer.v0+json": {
       "columns": [
        {
         "name": "Channel Title",
         "rawType": "object",
         "type": "string"
        },
        {
         "name": "count",
         "rawType": "int64",
         "type": "integer"
        }
       ],
       "ref": "f693ad54-0380-4cc2-a9c1-f1ac250ae4b8",
       "rows": [
        [
         "ምርጥ ዕቃ",
         "4935"
        ],
        [
         "ማራኪ ცЯﾑŋの™",
         "4751"
        ],
        [
         "Sheger online-store",
         "4092"
        ],
        [
         "qnash.com - ቅናሽ ®️",
         "3511"
        ],
        [
         "ልዩ እቃ",
         "1785"
        ],
        [
         "SINA KIDS/ሲና ኪድስⓇ",
         "1694"
        ],
        [
         "EthioBrand®",
         "999"
        ],
        [
         "Zemen Express®",
         "80"
        ]
       ],
       "shape": {
        "columns": 1,
        "rows": 8
       }
      },
      "text/plain": [
       "Channel Title\n",
       "ምርጥ ዕቃ                 4935\n",
       "ማራኪ ცЯﾑŋの™             4751\n",
       "Sheger online-store    4092\n",
       "qnash.com - ቅናሽ ®️     3511\n",
       "ልዩ እቃ                  1785\n",
       "SINA KIDS/ሲና ኪድስⓇ      1694\n",
       "EthioBrand®             999\n",
       "Zemen Express®           80\n",
       "Name: count, dtype: int64"
      ]
     },
     "execution_count": 19,
     "metadata": {},
     "output_type": "execute_result"
    }
   ],
   "source": [
    "# number of data per channel title\n",
    "channel_counts = combined_df['Channel Title'].value_counts()\n",
    "channel_counts"
   ]
  },
  {
   "cell_type": "code",
   "execution_count": 5,
   "id": "b1b94a35",
   "metadata": {},
   "outputs": [
    {
     "data": {
      "text/plain": [
       "<module 'src.preprocessor' from 'D:\\\\Research & Project\\\\10academy\\\\week 4\\\\challenge\\\\EthioMart-E-commerce-NER\\\\src\\\\preprocessor.py'>"
      ]
     },
     "execution_count": 5,
     "metadata": {},
     "output_type": "execute_result"
    }
   ],
   "source": [
    "# load the module for preprocessing\n",
    "from src.preprocessor import Preprocessor\n",
    "import src.preprocessor\n",
    "# reload the module to ensure we have the latest version\n",
    "reload(src.preprocessor)"
   ]
  },
  {
   "cell_type": "code",
   "execution_count": 6,
   "id": "c9fcb4d9",
   "metadata": {},
   "outputs": [],
   "source": [
    "# initialize the preprocessor\n",
    "preprocessor = Preprocessor(combined_df)"
   ]
  },
  {
   "cell_type": "code",
   "execution_count": 7,
   "id": "4a13d679",
   "metadata": {},
   "outputs": [
    {
     "data": {
      "application/vnd.microsoft.datawrangler.viewer.v0+json": {
       "columns": [
        {
         "name": "index",
         "rawType": "int64",
         "type": "integer"
        },
        {
         "name": "Message",
         "rawType": "object",
         "type": "unknown"
        }
       ],
       "ref": "b9f38df7-5c5f-46c5-95e8-a8040b3acf8a",
       "rows": [
        [
         "0",
         "💥Miralux Hot plate\n ባለሁለት ምድጃ ስቶቭ\n\n      💯orginal\n\n⚡️ 2000 ዋት\n⚡️ ፊውዝ የተገጠመለት\n⚡️ ትልቅ ድስት መሸከም የሚችል\n⚡️ አስተማማኝ ቴርሞስታት\n⚡️ ባለ ፊውዝ\n\nዋጋ፦ ትልቁ :- 2900ብር✅\n\n\n\nአድራሻ 📍 ቁ.1 👉መገናኛ ስሪ ኤም ሲቲ ሞል  ሁለተኛ ፎቅ ቢሮ ቁ. SL-05A(ከ ሊፍቱ ፊት ለ ፊት)\n\n📍ቁ.2 👉ለቡ  መዳህኒዓለም ቤተ/ክርስቲያን ፊት ለፊት  #ዛም_ሞል 2ኛ ፎቅ ቢሮ ቁጥር.214\n\n\n👍ለቡ ቅርንጫፍ📲0973611819\n\n     💧💧💧💧\n\n\n    📲 0909522840\n    📲 0923350054\n\n🔖\n💬  በTelegram ለማዘዝ ⤵️ ይጠቀሙ\n@shager_onlinestore\n  \nለተጨማሪ ማብራሪያ የቴሌግራም ገፃችን⤵️\nhttps://t.me/Shageronlinestore"
        ],
        [
         "1",
         "💥7pcs glass water set\n\n✔️ አንድ ማራኪ ጆግና 6 መጠጫ ብርጭቆዎች\n✔️ የፈሳሽ መጠጥ ማቅረቢያ\n✔️ ከፍተኛ ሙቀት የሚቋቋም\n✔️ ኳሊቲ ወፍራም\n\n ዋጋ፦ ✅ 3,400 ብር\n\n  ውስን ፍሬ ነው የቀረው ❌\n\n🏢 አድራሻ ቁ.1 👉 መገናኛ ታሜ ጋስ ህንፃ ጎን ስሪ ኤም ሲቲ ሞል  ሁለተኛ ፎቅ ቢሮ ቁ. SL-05A(ከ ሊፍቱ ፊት ለ ፊት)\n\n📍ቁ.2 👉ለቡ  መዳህኒዓለም ቤተ/ክርስቲያን 100ሜ ወደ ሙዚቃ ቤት ከፍ ብሎ  #ዛም_ሞል 2ኛ ፎቅ ቢሮ.ቁ 214\n\n\n    📲 0909522840\n    📲 0923350054\n\n👍ለቡ ቅርንጫፍ📲0973611819\n\n\n🔖\n💬  በTelegram ለማዘዝ ⤵️ ይጠቀሙ\n@shager_onlinestore\n  \nለተጨማሪ ማብራሪያ የቴሌግራም ገፃችን⤵️\nhttps://t.me/Shageronlinestore          "
        ],
        [
         "2",
         null
        ],
        [
         "3",
         null
        ],
        [
         "4",
         null
        ],
        [
         "5",
         null
        ],
        [
         "6",
         "🎯 Universal water-saving dishwasher head\n\n🔰Increase water outlet pressure and rinse efficiently.\n🔰360 ° rotating head\n🔰100% functional !!\n\nዋጋ፦  💰🏷  400 ብር\n\n♦️ውስን ፍሬ ነው ያለው \n\nአድራሻ ቁ.1 👉 መገናኛ ታሜ ጋስ ህንፃ ጎን ስሪ ኤም ሲቲ ሞል  ሁለተኛ ፎቅ ቢሮ ቁ. SL-05A(ከ ሊፍቱ ፊት ለ ፊት)\n\n📍ቁ.2 👉ለቡ  መዳህኒዓለም ቤተ/ክርስቲያን ፊት ለፊት  #ዛም_ሞል 2ኛ ፎቅ ቢሮ ቁጥር.214\n\n\n    📲 0909522840\n    📲 0923350054\n\n👍ለቡ ቅርንጫፍ📲0973611819\n\n🔖\n💬  በTelegram ለማዘዝ ⤵️ ይጠቀሙ\n@shager_onlinestore\n  \nለተጨማሪ ማብራሪያ የቴሌግራም ገፃችን⤵️\nhttps://t.me/Shageronlinestore"
        ],
        [
         "7",
         "💥 special base for refrigerator and washing machine\n\n👉Home moving furniture caster wheel heavy objects transporter small mover labor-saving moving wheels bed tool\n⚡️ከ45cm እስከ 70cm መለጠጥ የሚችል\n\n    ዋጋ፦💰🏷  2,000 ብር\n\n  ♦️ውስን ፍሬ ነው ያለው\n\n🏢 አድራሻ ቁ.1 👉 መገናኛ ታሜ ጋስ ህንፃ ጎን ስሪ ኤም ሲቲ ሞል  ሁለተኛ ፎቅ ቢሮ ቁ. SL-05A(ከ ሊፍቱ ፊት ለ ፊት)\n\n📍ቁ.2 👉ለቡ  መዳህኒዓለም ቤተ/ክርስቲያን ፊት ለፊት  #ዛም_ሞል 2ኛ ፎቅ ቢሮ ቁጥር.214\n\n\n    📲 0909522840\n    📲 0923350054\n\n👍ለቡ ቅርንጫፍ📲0973611819\n\n🔖\n💬  በTelegram ለማዘዝ ⤵️ ይጠቀሙ\n@shager_onlinestore\n  \nለተጨማሪ ማብራሪያ የቴሌግራም ገፃችን⤵️\nhttps://t.me/Shageronlinestore"
        ],
        [
         "8",
         "💥 special base for refrigerator and washing machine\n\n👉Home moving furniture caster wheel heavy objects transporter small mover labor-saving moving wheels bed tool\n\nዋጋ፦  💰🏷  2000 ብር✅\n\n   ♦️ውስን ፍሬ ነው ያለው\n\n🏢 አድራሻ ቁ.1 👉 መገናኛ ታሜ ጋስ ህንፃ ጎን ስሪ ኤም ሲቲ ሞል  ሁለተኛ ፎቅ ቢሮ ቁ. SL-05A(ከ ሊፍቱ ፊት ለ ፊት)\n\n📍ቁ.2 👉ለቡ  መዳህኒዓለም ቤተ/ክርስቲያን ፊት ለፊት  #ዛም_ሞል 2ኛ ፎቅ ቢሮ ቁጥር.214\n\n\n    📲 0909522840\n    📲 0923350054\n\n👍ለቡ ቅርንጫፍ📲0973611819\n\n🔖\n💬  በTelegram ለማዘዝ ⤵️ ይጠቀሙ\n@shager_onlinestore\n  \nለተጨማሪ ማብራሪያ የቴሌግራም ገፃችን⤵️\nhttps://t.me/Shageronlinestore"
        ],
        [
         "9",
         null
        ],
        [
         "10",
         null
        ],
        [
         "11",
         null
        ],
        [
         "12",
         null
        ],
        [
         "13",
         "💥Vintage Mason Glass Drinking Jar with Straw\n\n👉የራሳቸው ስትሮ ያላቸው እጅግ ውብ የሆኑ የጁስ መጠጫ ብርጭቆወች\n\n🍸500ml\n\n      ዋጋ፦ 550ብር✅✅\n\n♦️ውስን ፍሬ ነው ያለው \n\n🏢 አድራሻ  ቁ.1👉 መገናኛ ስሪ ኤም ሲቲ ሞል  ሁለተኛ ፎቅ ቢሮ ቁ. SL-05A(ከ ሊፍቱ ፊት ለ ፊት)\n\n📍ቁ.2 👉ለቡ  መዳህኒዓለም ቤተ/ክርስቲያን ፊት ለፊት  #ዛም_ሞል 2ኛ ፎቅ ቢሮ ቁጥር.214\n\n\n👍ለቡ ቅርንጫፍ📲0973611819\n\n\n\n    📲 0909522840\n    📲 0923350054\n\n🔖\n💬  በTelegram ለማዘዝ ⤵️ ይጠቀሙ\n@shager_onlinestore\n  \nለተጨማሪ ማብራሪያ የቴሌግራም ገፃችን⤵️\nhttps://t.me/Shageronlinestore"
        ],
        [
         "14",
         "📣 HOBBY LOBBY 3 in 1 Chopper and Garlic Peeler\n\n#ስጋ እና ሽንኩርት በሰከንዶች ድቅቅ የሚያደርግ \n\n#የነጭ_ሽንኩርት የራሱ መላጫ ያለው\n\n\n✔️ Two 3-liter jars\n✔️ One is metal and the other is thick glass.\n✔️ With 4 blades and 2 blades grinder\n👀 Meat, gizzards, vegetables, onions, and garlic are ground into it.👀\n🔔 Dried and peeled garlic cloves with a peeler🔔\n📌 An additional switch with 4 blades\n✔️ 3-press grinder\n\n    ዋጋ:- 3900ብር\n\n📍ውስን ፍሬ ነው ያለን/ Limited Stock\n\n🏢 አድራሻ ቁ.1 👉 መገናኛ ታሜ ጋስ ህንፃ ጎን ስሪ ኤም ሲቲ ሞል  ሁለተኛ ፎቅ ቢሮ ቁ. SL-05A(ከ ሊፍቱ ፊት ለ ፊት)\n\n📍ቁ.2 👉ለቡ  መዳህኒዓለም ቤተ/ክርስቲያን 100ሜ ወደ ሙዚቃ ቤት ከፍ ብሎ  #ዛም_ሞል 2ኛ ፎቅ ቢሮ.ቁ 214\n\n\n    📲 0909522840\n    📲 0923350054\n\n👍ለቡ ቅርንጫፍ📲0973611819\n\n\n🔖\n💬  በTelegram ለማዘዝ ⤵️ ይጠቀሙ\n@shager_onlinestore\n  \nለተጨማሪ ማብራሪያ የቴሌግራም ገፃችን⤵️\nhttps://t.me/Shageronlinestore"
        ],
        [
         "15",
         "📣 HOBBY LOBBY 3 in 1 Chopper and Garlic Peeler\n\n#ስጋ እና ሽንኩርት በሰከንዶች ድቅቅ የሚያደርግ \n\n#የነጭ_ሽንኩርት የራሱ መላጫ ያለው\n\n\n✔️ Two 3-liter jars\n✔️ One is metal and the other is thick glass.\n✔️ With 4 blades and 2 blades grinder\n👀 Meat, gizzards, vegetables, onions, and garlic are ground into it.👀\n🔔 Dried and peeled garlic cloves with a peeler🔔\n📌 An additional switch with 4 blades\n✔️ 3-press grinder\n\n    ዋጋ:- 3900ብር\n\n📍ውስን ፍሬ ነው ያለን/ Limited Stock\n\n🏢 አድራሻ ቁ.1 👉 መገናኛ ታሜ ጋስ ህንፃ ጎን ስሪ ኤም ሲቲ ሞል  ሁለተኛ ፎቅ ቢሮ ቁ. SL-05A(ከ ሊፍቱ ፊት ለ ፊት)\n\n📍ቁ.2 👉ለቡ  መዳህኒዓለም ቤተ/ክርስቲያን 100ሜ ወደ ሙዚቃ ቤት ከፍ ብሎ  #ዛም_ሞል 2ኛ ፎቅ ቢሮ.ቁ 214\n\n\n    📲 0909522840\n    📲 0923350054\n\n👍ለቡ ቅርንጫፍ📲0973611819\n\n\n🔖\n💬  በTelegram ለማዘዝ ⤵️ ይጠቀሙ\n@shager_onlinestore\n  \nለተጨማሪ ማብራሪያ የቴሌግራም ገፃችን⤵️\nhttps://t.me/Shageronlinestore"
        ],
        [
         "16",
         null
        ],
        [
         "17",
         "📣 HOBBY LOBBY 3 in 1 Chopper and Garlic Peeler\n\n#ስጋ እና ሽንኩርት በሰከንዶች ድቅቅ የሚያደርግ \n\n#የነጭ_ሽንኩርት የራሱ መላጫ ያለው\n\n\n✔️ Two 3-liter jars\n✔️ One is metal and the other is thick glass.\n✔️ With 4 blades and 2 blades grinder\n👀 Meat, gizzards, vegetables, onions, and garlic are ground into it.👀\n🔔 Dried and peeled garlic cloves with a peeler🔔\n📌 An additional switch with 4 blades\n✔️ 3-press grinder\n\n    ዋጋ:- 3900ብር\n\n📍ውስን ፍሬ ነው ያለን/ Limited Stock\n\n🏢 አድራሻ ቁ.1 👉 መገናኛ ታሜ ጋስ ህንፃ ጎን ስሪ ኤም ሲቲ ሞል  ሁለተኛ ፎቅ ቢሮ ቁ. SL-05A(ከ ሊፍቱ ፊት ለ ፊት)\n\n📍ቁ.2 👉ለቡ  መዳህኒዓለም ቤተ/ክርስቲያን 100ሜ ወደ ሙዚቃ ቤት ከፍ ብሎ  #ዛም_ሞል 2ኛ ፎቅ ቢሮ.ቁ 214\n\n\n    📲 0909522840\n    📲 0923350054\n\n👍ለቡ ቅርንጫፍ📲0973611819\n\n\n🔖\n💬  በTelegram ለማዘዝ ⤵️ ይጠቀሙ\n@shager_onlinestore\n  \nለተጨማሪ ማብራሪያ የቴሌግራም ገፃችን⤵️\nhttps://t.me/Shageronlinestore"
        ],
        [
         "18",
         null
        ],
        [
         "19",
         null
        ],
        [
         "20",
         null
        ],
        [
         "21",
         null
        ],
        [
         "22",
         null
        ],
        [
         "23",
         "#አልቆል_ለተባላችሁ_በድጋሚ_አስገብተናል \n💥የመስታዎት ፓትራዎች ( glass bakewares) 🥧 🥮 \n\n👉Rectagular shape\n\n👉ገበታ ላይ መቅረብ የሚችሉ ውብ የመስታዎት ፓትራዎች \n   \n👉ሶስት የተለያየ መጠን ያላቸው (3.1 ሊ ፣ 2.5 ሊ፣ 1.8ሊ ) ፓትራዎችን የያዘ\n\n👉ለላዛኛ ፣ ፓስታ ፍርኖ፣ ኬክ  ተመራጭ\n\n👉ውብና ማራኪ ገበታ ላይ  መቅረብ የሚችሉ \n\n👉ውፍራም ማንኛውንም ሙቀት የሚቋቋም\n\nዋጋ፦  💰 ሶስቱን በ 3800 ብር\n\n📍ውስን ፍሬ ነው ያለን/ Limited Stock\n\n🏢 አድራሻ ቁ.1 👉 መገናኛ ታሜ ጋስ ህንፃ ጎን ስሪ ኤም ሲቲ ሞል  ሁለተኛ ፎቅ ቢሮ ቁ. SL-05A(ከ ሊፍቱ ፊት ለ ፊት)\n\n📍ቁ.2 👉ለቡ  መዳህኒዓለም ቤተ/ክርስቲያን 100ሜ ወደ ሙዚቃ ቤት ከፍ ብሎ  #ዛም_ሞል 2ኛ ፎቅ ቢሮ.ቁ 214\n\n\n    📲 0909522840\n    📲 0923350054\n\n👍ለቡ ቅርንጫፍ📲0973611819\n\n\n🔖\n💬  በTelegram ለማዘዝ ⤵️ ይጠቀሙ\n@shager_onlinestore\n  \nለተጨማሪ ማብራሪያ የቴሌግራም ገፃችን⤵️\nhttps://t.me/Shageronlinestore"
        ],
        [
         "24",
         "⚡️portable foldable mosquito net for kids\n\n👌በቀላሉ ይዞ ለመንቀሳቀስ አመቺ\n👌ልጆችዎን ከቢንቢ እና ከተለያዩ ነፍሳት የሚጠብቅ\n👌size:-100cm*60cm\n\n    \n      ዋጋ:-1400ብር💲\n\n\n🏢 አድራሻ  👉ቁ.1 መገናኛ ስሪ ኤም ሲቲ ሞል  ሁለተኛ ፎቅ ቢሮ ቁ. SL-05A(ከ ሊፍቱ ፊት ለ ፊት)\n\n📍ቁ.2 👉ለቡ  መዳህኒዓለም ቤተ/ክርስቲያን ፊት ለፊት  #ዛም_ሞል 2ኛ ፎቅ ቢሮ ቁጥር.214\n\n\n👍ለቡ ቅርንጫፍ📲0971611819\n\n\n\n     💧💧💧💧\n\n\n    📲 0909522840\n    📲 0923350054\n\n🔖\n💬  በTelegram ለማዘዝ ⤵️ ይጠቀሙ\n@shager_onlinestore\n  \nለተጨማሪ ማብራሪያ የቴሌግራም ገፃችን⤵️\nhttps://t.me/Shageronlinestore"
        ],
        [
         "25",
         "👋3in1 delux multifunctional  bassinet\n\n✨ከግራ ወደቀኝ እየተንቀሳቀሰ\nልጆችን እሹሩሩ እያለ የሚያጫውት የሚያስተኛ\n✨የራሱ ሪሞት ያለው \nየራሱ ሙዚቃዎች ያሉት እንዲሁም\n✨በብሉቱዝ እና በፍላሽ የምንፈልገውን ሙዚቃ ማጫዎት እንችላለን \n✨በሶኬት እና በባትሪ ድንጋይ የሚሰራ\n✨ልጆች ከፍ ሲሉ እንደ ወንበር ያገለግላቸዋል\n\nዋጋ፦  💰🏷  14,000 ብር\n\n♦️ውስን ፍሬ ነው ያለው\n\n🏢 አድራሻ ቁ.1 👉 መገናኛ ታሜ ጋስ ህንፃ ጎን ስሪ ኤም ሲቲ ሞል  ሁለተኛ ፎቅ ቢሮ ቁ. SL-05A(ከ ሊፍቱ ፊት ለ ፊት)\n\n📍ቁ.2 👉ለቡ  መዳህኒዓለም ቤተ/ክርስቲያን 100ሜ ወደ ሙዚቃ ቤት ከፍ ብሎ  #ዛም_ሞል 2ኛ ፎቅ ቢሮ.ቁ 214\n\n\n    📲 0909522840\n    📲 0923350054\n\n👍ለቡ ቅርንጫፍ📲0973611819\n\n\n🔖\n💬  በTelegram ለማዘዝ ⤵️ ይጠቀሙ\n@shager_onlinestore\n  \nለተጨማሪ ማብራሪያ የቴሌግራም ገፃችን⤵️\nhttps://t.me/Shageronlinestore          "
        ],
        [
         "26",
         "👋3in1 delux multifunctional  bassinet\n\n✨ከግራ ወደቀኝ እየተንቀሳቀሰ\nልጆችን እሹሩሩ እያለ የሚያጫውት የሚያስተኛ\n✨የራሱ ሪሞት ያለው \nየራሱ ሙዚቃዎች ያሉት እንዲሁም\n✨በብሉቱዝ እና በፍላሽ የምንፈልገውን ሙዚቃ ማጫዎት እንችላለን \n✨በሶኬት እና በባትሪ ድንጋይ የሚሰራ\n✨ልጆች ከፍ ሲሉ እንደ ወንበር ያገለግላቸዋል\n\nዋጋ፦  💰🏷  14,000 ብር\n\n♦️ውስን ፍሬ ነው ያለው\n\n🏢 አድራሻ ቁ.1 👉 መገናኛ ታሜ ጋስ ህንፃ ጎን ስሪ ኤም ሲቲ ሞል  ሁለተኛ ፎቅ ቢሮ ቁ. SL-05A(ከ ሊፍቱ ፊት ለ ፊት)\n\n📍ቁ.2 👉ለቡ  መዳህኒዓለም ቤተ/ክርስቲያን 100ሜ ወደ ሙዚቃ ቤት ከፍ ብሎ  #ዛም_ሞል 2ኛ ፎቅ ቢሮ.ቁ 214\n\n\n    📲 0909522840\n    📲 0923350054\n\n👍ለቡ ቅርንጫፍ📲0973611819\n\n\n🔖\n💬  በTelegram ለማዘዝ ⤵️ ይጠቀሙ\n@shager_onlinestore\n  \nለተጨማሪ ማብራሪያ የቴሌግራም ገፃችን⤵️\nhttps://t.me/Shageronlinestore          "
        ],
        [
         "27",
         null
        ],
        [
         "28",
         null
        ],
        [
         "29",
         null
        ],
        [
         "30",
         null
        ],
        [
         "31",
         null
        ],
        [
         "32",
         null
        ],
        [
         "33",
         null
        ],
        [
         "34",
         null
        ],
        [
         "35",
         "💥Electric Hot plate \n\n⚡️በኤሌክትሪክ የሚሰራ \n⚡️የራሱ ሙቀት መቆጣጠሪያ ያለው\n⚡️1400 watt \n⚡️ለማንቀሳቀስ የራሱ መያዣ ያለው \n⚡️ከጀበና እስከ ትልቅ ድስቶች የሚመች\n\n\n     ዋጋ፦ 💰✅4500ብር\n                         \n\nውስን ፍሬ ነው የቀረው ❌\n\n🏢 አድራሻ ቁ.1 👉 መገናኛ ታሜ ጋስ ህንፃ ጎን ስሪ ኤም ሲቲ ሞል  ሁለተኛ ፎቅ ቢሮ ቁ. SL-05A(ከ ሊፍቱ ፊት ለ ፊት)\n\n📍ቁ.2 👉ለቡ  መዳህኒዓለም ቤተ/ክርስቲያን 100ሜ ወደ ሙዚቃ ቤት ከፍ ብሎ  #ዛም_ሞል 2ኛ ፎቅ ቢሮ.ቁ 214\n\n\n    📲 0909522840\n    📲 0923350054\n\n👍ለቡ ቅርንጫፍ📲0973611819\n\n\n🔖\n💬  በTelegram ለማዘዝ ⤵️ ይጠቀሙ\n@shager_onlinestore\n  \nለተጨማሪ ማብራሪያ የቴሌግራም ገፃችን⤵️\nhttps://t.me/Shageronlinestore          "
        ],
        [
         "36",
         null
        ],
        [
         "37",
         null
        ],
        [
         "38",
         null
        ],
        [
         "39",
         null
        ],
        [
         "40",
         "📣Portable Folding Stool\n\n✔️ ተጣጣፊ ወንበር\n✔️ እስከ 100kg ክብደት የሚሸከም\n✔️ ከወፍራም ፕላስቲክ የተሰራ\n✔️ ቤተ ዕምነት ውስጥ፣ ቤት ውስጥ ፣ ስራ ቦታ እና መዝናኛ ቦታ ይገለገሉበታል\n✔️48cm ቁመት ሲኖረው \n✔️መቀመጫው 22cm×28cm ስፋት ያለው\n✔️ ለመያዝና ለማስቀመጥ የሚመች ቅልጥፋ ያለ\n\n    ዋጋ:-ትልቁ:-1700 ብር\n           ትንሹ:-1500ብር\n\nውስን ፍሬ ነው ያለው\n\n🏢 አድራሻ ቁ.1 👉 መገናኛ ታሜ ጋስ ህንፃ ጎን ስሪ ኤም ሲቲ ሞል  ሁለተኛ ፎቅ ቢሮ ቁ. SL-05A(ከ ሊፍቱ ፊት ለ ፊት)\n\n📍ቁ.2 👉ለቡ  መዳህኒዓለም ቤተ/ክርስቲያን 100ሜ ወደ ሙዚቃ ቤት ከፍ ብሎ  #ዛም_ሞል 2ኛ ፎቅ ቢሮ.ቁ 214\n\n\n    📲 0909522840\n    📲 0923350054\n\n👍ለቡ ቅርንጫፍ📲0973611819\n\n\n🔖\n💬  በTelegram ለማዘዝ ⤵️ ይጠቀሙ\n@shager_onlinestore\n  \nለተጨማሪ ማብራሪያ የቴሌግራም ገፃችን⤵️\nhttps://t.me/Shageronlinestore          "
        ],
        [
         "41",
         "🌀🌀🛒 Multifunction  Juice Extractor: \n\n💥 🍎🍉🍒🍐🌽🍊ለአፕል ብርቱካን፣ ካሮት፣ አናናስ፣ ቲማቲም… የመሳሰሉትን እየጨመቀ ቆሻሻውን ፡ ለብቻ፡ እያጣራ፡ ውሃውን እየጨመቀ፡ ወደራሱ ጆክ የሚቀዳ፤ \n🧳 የፍራፍሬ፤\n\n\n     ዋጋ፦ ✅  5,500 ብር\n\nውስን ፍሬ ነው የቀረው 🔥\n\n🏢 አድራሻ ቁ.1 👉 መገናኛ ታሜ ጋስ ህንፃ ጎን ስሪ ኤም ሲቲ ሞል  ሁለተኛ ፎቅ ቢሮ ቁ. SL-05A(ከ ሊፍቱ ፊት ለ ፊት)\n\n📍ቁ.2 👉ለቡ  መዳህኒዓለም ቤተ/ክርስቲያን 100ሜ ወደ ሙዚቃ ቤት ከፍ ብሎ  #ዛም_ሞል 2ኛ ፎቅ ቢሮ.ቁ 214\n\n\n    📲 0909522840\n    📲 0923350054\n\n👍ለቡ ቅርንጫፍ📲0973611819\n\n\n🔖\n💬  በTelegram ለማዘዝ ⤵️ ይጠቀሙ\n@shager_onlinestore\n  \nለተጨማሪ ማብራሪያ የቴሌግራም ገፃችን⤵️\nhttps://t.me/Shageronlinestore"
        ],
        [
         "42",
         null
        ],
        [
         "43",
         null
        ],
        [
         "44",
         "🌀🌀🛒 Multifunction  Juice Extractor: \n\n💥 🍎🍉🍒🍐🌽🍊ለአፕል ብርቱካን፣ ካሮት፣ አናናስ፣ ቲማቲም… የመሳሰሉትን እየጨመቀ ቆሻሻውን ፡ ለብቻ፡ እያጣራ፡ ውሃውን እየጨመቀ፡ ወደራሱ ጆክ የሚቀዳ፤ \n🧳 የፍራፍሬ፤\n\n\n     ዋጋ፦ ✅  5,500 ብር\n\nውስን ፍሬ ነው የቀረው 🔥\n\n🏢 አድራሻ ቁ.1 👉 መገናኛ ታሜ ጋስ ህንፃ ጎን ስሪ ኤም ሲቲ ሞል  ሁለተኛ ፎቅ ቢሮ ቁ. SL-05A(ከ ሊፍቱ ፊት ለ ፊት)\n\n📍ቁ.2 👉ለቡ  መዳህኒዓለም ቤተ/ክርስቲያን 100ሜ ወደ ሙዚቃ ቤት ከፍ ብሎ  #ዛም_ሞል 2ኛ ፎቅ ቢሮ.ቁ 214\n\n\n    📲 0909522840\n    📲 0923350054\n\n👍ለቡ ቅርንጫፍ📲0973611819\n\n\n🔖\n💬  በTelegram ለማዘዝ ⤵️ ይጠቀሙ\n@shager_onlinestore\n  \nለተጨማሪ ማብራሪያ የቴሌግራም ገፃችን⤵️\nhttps://t.me/Shageronlinestore"
        ],
        [
         "45",
         null
        ],
        [
         "46",
         null
        ],
        [
         "47",
         "💥1pc stainless steel loaf pan\n\n👍ትልቁ\n\n         ዋጋ:-ትልቁ:-1,000ብር✅\n\n❌ውስን ፍሬ ነው ያለው\n\n🏢 አድራሻ  ቁ.1👉 ስሪ ኤም ሲቲ ሞል  ሁለተኛ ፎቅ ቢሮ ቁ. SL-05A(ከ ሊፍቱ ፊት ለ ፊት)\n\n📍ቁ.2 👉ለቡ  መዳህኒዓለም ቤተ/ክርስቲያን ፊት ለፊት  #ዛም_ሞል 2ኛ ፎቅ ቢሮ ቁጥር.214\n\n👍ለቡ ቅርንጫፍ📲0973611819\n\n    📲 0909522840\n    📲 0923350054\n\n🔖\n💬  በTelegram ለማዘዝ ⤵️ ይጠቀሙ\n@shager_onlinestore\n  \nለተጨማሪ ማብራሪያ የቴሌግራም ገፃችን⤵️\nhttps://t.me/Shageronlinestore"
        ],
        [
         "48",
         null
        ],
        [
         "49",
         null
        ]
       ],
       "shape": {
        "columns": 1,
        "rows": 39366
       }
      },
      "text/plain": [
       "0        💥Miralux Hot plate\\n ባለሁለት ምድጃ ስቶቭ\\n\\n      💯o...\n",
       "1        💥7pcs glass water set\\n\\n✔️ አንድ ማራኪ ጆግና 6 መጠጫ ...\n",
       "2                                                      NaN\n",
       "3                                                      NaN\n",
       "4                                                      NaN\n",
       "                               ...                        \n",
       "39361    Air Jordan 4  \\nSize 39,40,41,42,43,44\\nPrice ...\n",
       "39362    Skechers Spring lite \\nSize 40,41,42,43\\nPrice...\n",
       "39363    Skechers lace ultra go\\nSize - 40,41,42,43\\nPr...\n",
       "39364    Nike Air Max ACG\\nSize - 40,41,42,43\\nPrice 32...\n",
       "39365    Nike air max bliss \\nSize 40,41,42,43,44\\nPric...\n",
       "Name: Message, Length: 39366, dtype: object"
      ]
     },
     "execution_count": 7,
     "metadata": {},
     "output_type": "execute_result"
    }
   ],
   "source": [
    "combined_df['Message']"
   ]
  },
  {
   "cell_type": "code",
   "execution_count": 8,
   "id": "208e418a",
   "metadata": {},
   "outputs": [],
   "source": [
    "# drop the 'Message' column has empty values\n",
    "combined_df = combined_df.dropna(subset=['Message'])"
   ]
  },
  {
   "cell_type": "code",
   "execution_count": 9,
   "id": "e5309a1c",
   "metadata": {},
   "outputs": [],
   "source": [
    "# remove duplicates\n",
    "combined_df = combined_df.drop_duplicates(subset=['ID', 'Message', 'Date'])"
   ]
  },
  {
   "cell_type": "code",
   "execution_count": 10,
   "id": "7bc4b306",
   "metadata": {},
   "outputs": [
    {
     "data": {
      "application/vnd.microsoft.datawrangler.viewer.v0+json": {
       "columns": [
        {
         "name": "index",
         "rawType": "int64",
         "type": "integer"
        },
        {
         "name": "Message",
         "rawType": "object",
         "type": "string"
        }
       ],
       "ref": "0560242c-8684-4329-96dd-4d1834e576be",
       "rows": [
        [
         "0",
         "💥Miralux Hot plate\n ባለሁለት ምድጃ ስቶቭ\n\n      💯orginal\n\n⚡️ 2000 ዋት\n⚡️ ፊውዝ የተገጠመለት\n⚡️ ትልቅ ድስት መሸከም የሚችል\n⚡️ አስተማማኝ ቴርሞስታት\n⚡️ ባለ ፊውዝ\n\nዋጋ፦ ትልቁ :- 2900ብር✅\n\n\n\nአድራሻ 📍 ቁ.1 👉መገናኛ ስሪ ኤም ሲቲ ሞል  ሁለተኛ ፎቅ ቢሮ ቁ. SL-05A(ከ ሊፍቱ ፊት ለ ፊት)\n\n📍ቁ.2 👉ለቡ  መዳህኒዓለም ቤተ/ክርስቲያን ፊት ለፊት  #ዛም_ሞል 2ኛ ፎቅ ቢሮ ቁጥር.214\n\n\n👍ለቡ ቅርንጫፍ📲0973611819\n\n     💧💧💧💧\n\n\n    📲 0909522840\n    📲 0923350054\n\n🔖\n💬  በTelegram ለማዘዝ ⤵️ ይጠቀሙ\n@shager_onlinestore\n  \nለተጨማሪ ማብራሪያ የቴሌግራም ገፃችን⤵️\nhttps://t.me/Shageronlinestore"
        ],
        [
         "1",
         "💥7pcs glass water set\n\n✔️ አንድ ማራኪ ጆግና 6 መጠጫ ብርጭቆዎች\n✔️ የፈሳሽ መጠጥ ማቅረቢያ\n✔️ ከፍተኛ ሙቀት የሚቋቋም\n✔️ ኳሊቲ ወፍራም\n\n ዋጋ፦ ✅ 3,400 ብር\n\n  ውስን ፍሬ ነው የቀረው ❌\n\n🏢 አድራሻ ቁ.1 👉 መገናኛ ታሜ ጋስ ህንፃ ጎን ስሪ ኤም ሲቲ ሞል  ሁለተኛ ፎቅ ቢሮ ቁ. SL-05A(ከ ሊፍቱ ፊት ለ ፊት)\n\n📍ቁ.2 👉ለቡ  መዳህኒዓለም ቤተ/ክርስቲያን 100ሜ ወደ ሙዚቃ ቤት ከፍ ብሎ  #ዛም_ሞል 2ኛ ፎቅ ቢሮ.ቁ 214\n\n\n    📲 0909522840\n    📲 0923350054\n\n👍ለቡ ቅርንጫፍ📲0973611819\n\n\n🔖\n💬  በTelegram ለማዘዝ ⤵️ ይጠቀሙ\n@shager_onlinestore\n  \nለተጨማሪ ማብራሪያ የቴሌግራም ገፃችን⤵️\nhttps://t.me/Shageronlinestore          "
        ],
        [
         "6",
         "🎯 Universal water-saving dishwasher head\n\n🔰Increase water outlet pressure and rinse efficiently.\n🔰360 ° rotating head\n🔰100% functional !!\n\nዋጋ፦  💰🏷  400 ብር\n\n♦️ውስን ፍሬ ነው ያለው \n\nአድራሻ ቁ.1 👉 መገናኛ ታሜ ጋስ ህንፃ ጎን ስሪ ኤም ሲቲ ሞል  ሁለተኛ ፎቅ ቢሮ ቁ. SL-05A(ከ ሊፍቱ ፊት ለ ፊት)\n\n📍ቁ.2 👉ለቡ  መዳህኒዓለም ቤተ/ክርስቲያን ፊት ለፊት  #ዛም_ሞል 2ኛ ፎቅ ቢሮ ቁጥር.214\n\n\n    📲 0909522840\n    📲 0923350054\n\n👍ለቡ ቅርንጫፍ📲0973611819\n\n🔖\n💬  በTelegram ለማዘዝ ⤵️ ይጠቀሙ\n@shager_onlinestore\n  \nለተጨማሪ ማብራሪያ የቴሌግራም ገፃችን⤵️\nhttps://t.me/Shageronlinestore"
        ],
        [
         "7",
         "💥 special base for refrigerator and washing machine\n\n👉Home moving furniture caster wheel heavy objects transporter small mover labor-saving moving wheels bed tool\n⚡️ከ45cm እስከ 70cm መለጠጥ የሚችል\n\n    ዋጋ፦💰🏷  2,000 ብር\n\n  ♦️ውስን ፍሬ ነው ያለው\n\n🏢 አድራሻ ቁ.1 👉 መገናኛ ታሜ ጋስ ህንፃ ጎን ስሪ ኤም ሲቲ ሞል  ሁለተኛ ፎቅ ቢሮ ቁ. SL-05A(ከ ሊፍቱ ፊት ለ ፊት)\n\n📍ቁ.2 👉ለቡ  መዳህኒዓለም ቤተ/ክርስቲያን ፊት ለፊት  #ዛም_ሞል 2ኛ ፎቅ ቢሮ ቁጥር.214\n\n\n    📲 0909522840\n    📲 0923350054\n\n👍ለቡ ቅርንጫፍ📲0973611819\n\n🔖\n💬  በTelegram ለማዘዝ ⤵️ ይጠቀሙ\n@shager_onlinestore\n  \nለተጨማሪ ማብራሪያ የቴሌግራም ገፃችን⤵️\nhttps://t.me/Shageronlinestore"
        ],
        [
         "8",
         "💥 special base for refrigerator and washing machine\n\n👉Home moving furniture caster wheel heavy objects transporter small mover labor-saving moving wheels bed tool\n\nዋጋ፦  💰🏷  2000 ብር✅\n\n   ♦️ውስን ፍሬ ነው ያለው\n\n🏢 አድራሻ ቁ.1 👉 መገናኛ ታሜ ጋስ ህንፃ ጎን ስሪ ኤም ሲቲ ሞል  ሁለተኛ ፎቅ ቢሮ ቁ. SL-05A(ከ ሊፍቱ ፊት ለ ፊት)\n\n📍ቁ.2 👉ለቡ  መዳህኒዓለም ቤተ/ክርስቲያን ፊት ለፊት  #ዛም_ሞል 2ኛ ፎቅ ቢሮ ቁጥር.214\n\n\n    📲 0909522840\n    📲 0923350054\n\n👍ለቡ ቅርንጫፍ📲0973611819\n\n🔖\n💬  በTelegram ለማዘዝ ⤵️ ይጠቀሙ\n@shager_onlinestore\n  \nለተጨማሪ ማብራሪያ የቴሌግራም ገፃችን⤵️\nhttps://t.me/Shageronlinestore"
        ],
        [
         "13",
         "💥Vintage Mason Glass Drinking Jar with Straw\n\n👉የራሳቸው ስትሮ ያላቸው እጅግ ውብ የሆኑ የጁስ መጠጫ ብርጭቆወች\n\n🍸500ml\n\n      ዋጋ፦ 550ብር✅✅\n\n♦️ውስን ፍሬ ነው ያለው \n\n🏢 አድራሻ  ቁ.1👉 መገናኛ ስሪ ኤም ሲቲ ሞል  ሁለተኛ ፎቅ ቢሮ ቁ. SL-05A(ከ ሊፍቱ ፊት ለ ፊት)\n\n📍ቁ.2 👉ለቡ  መዳህኒዓለም ቤተ/ክርስቲያን ፊት ለፊት  #ዛም_ሞል 2ኛ ፎቅ ቢሮ ቁጥር.214\n\n\n👍ለቡ ቅርንጫፍ📲0973611819\n\n\n\n    📲 0909522840\n    📲 0923350054\n\n🔖\n💬  በTelegram ለማዘዝ ⤵️ ይጠቀሙ\n@shager_onlinestore\n  \nለተጨማሪ ማብራሪያ የቴሌግራም ገፃችን⤵️\nhttps://t.me/Shageronlinestore"
        ],
        [
         "14",
         "📣 HOBBY LOBBY 3 in 1 Chopper and Garlic Peeler\n\n#ስጋ እና ሽንኩርት በሰከንዶች ድቅቅ የሚያደርግ \n\n#የነጭ_ሽንኩርት የራሱ መላጫ ያለው\n\n\n✔️ Two 3-liter jars\n✔️ One is metal and the other is thick glass.\n✔️ With 4 blades and 2 blades grinder\n👀 Meat, gizzards, vegetables, onions, and garlic are ground into it.👀\n🔔 Dried and peeled garlic cloves with a peeler🔔\n📌 An additional switch with 4 blades\n✔️ 3-press grinder\n\n    ዋጋ:- 3900ብር\n\n📍ውስን ፍሬ ነው ያለን/ Limited Stock\n\n🏢 አድራሻ ቁ.1 👉 መገናኛ ታሜ ጋስ ህንፃ ጎን ስሪ ኤም ሲቲ ሞል  ሁለተኛ ፎቅ ቢሮ ቁ. SL-05A(ከ ሊፍቱ ፊት ለ ፊት)\n\n📍ቁ.2 👉ለቡ  መዳህኒዓለም ቤተ/ክርስቲያን 100ሜ ወደ ሙዚቃ ቤት ከፍ ብሎ  #ዛም_ሞል 2ኛ ፎቅ ቢሮ.ቁ 214\n\n\n    📲 0909522840\n    📲 0923350054\n\n👍ለቡ ቅርንጫፍ📲0973611819\n\n\n🔖\n💬  በTelegram ለማዘዝ ⤵️ ይጠቀሙ\n@shager_onlinestore\n  \nለተጨማሪ ማብራሪያ የቴሌግራም ገፃችን⤵️\nhttps://t.me/Shageronlinestore"
        ],
        [
         "15",
         "📣 HOBBY LOBBY 3 in 1 Chopper and Garlic Peeler\n\n#ስጋ እና ሽንኩርት በሰከንዶች ድቅቅ የሚያደርግ \n\n#የነጭ_ሽንኩርት የራሱ መላጫ ያለው\n\n\n✔️ Two 3-liter jars\n✔️ One is metal and the other is thick glass.\n✔️ With 4 blades and 2 blades grinder\n👀 Meat, gizzards, vegetables, onions, and garlic are ground into it.👀\n🔔 Dried and peeled garlic cloves with a peeler🔔\n📌 An additional switch with 4 blades\n✔️ 3-press grinder\n\n    ዋጋ:- 3900ብር\n\n📍ውስን ፍሬ ነው ያለን/ Limited Stock\n\n🏢 አድራሻ ቁ.1 👉 መገናኛ ታሜ ጋስ ህንፃ ጎን ስሪ ኤም ሲቲ ሞል  ሁለተኛ ፎቅ ቢሮ ቁ. SL-05A(ከ ሊፍቱ ፊት ለ ፊት)\n\n📍ቁ.2 👉ለቡ  መዳህኒዓለም ቤተ/ክርስቲያን 100ሜ ወደ ሙዚቃ ቤት ከፍ ብሎ  #ዛም_ሞል 2ኛ ፎቅ ቢሮ.ቁ 214\n\n\n    📲 0909522840\n    📲 0923350054\n\n👍ለቡ ቅርንጫፍ📲0973611819\n\n\n🔖\n💬  በTelegram ለማዘዝ ⤵️ ይጠቀሙ\n@shager_onlinestore\n  \nለተጨማሪ ማብራሪያ የቴሌግራም ገፃችን⤵️\nhttps://t.me/Shageronlinestore"
        ],
        [
         "17",
         "📣 HOBBY LOBBY 3 in 1 Chopper and Garlic Peeler\n\n#ስጋ እና ሽንኩርት በሰከንዶች ድቅቅ የሚያደርግ \n\n#የነጭ_ሽንኩርት የራሱ መላጫ ያለው\n\n\n✔️ Two 3-liter jars\n✔️ One is metal and the other is thick glass.\n✔️ With 4 blades and 2 blades grinder\n👀 Meat, gizzards, vegetables, onions, and garlic are ground into it.👀\n🔔 Dried and peeled garlic cloves with a peeler🔔\n📌 An additional switch with 4 blades\n✔️ 3-press grinder\n\n    ዋጋ:- 3900ብር\n\n📍ውስን ፍሬ ነው ያለን/ Limited Stock\n\n🏢 አድራሻ ቁ.1 👉 መገናኛ ታሜ ጋስ ህንፃ ጎን ስሪ ኤም ሲቲ ሞል  ሁለተኛ ፎቅ ቢሮ ቁ. SL-05A(ከ ሊፍቱ ፊት ለ ፊት)\n\n📍ቁ.2 👉ለቡ  መዳህኒዓለም ቤተ/ክርስቲያን 100ሜ ወደ ሙዚቃ ቤት ከፍ ብሎ  #ዛም_ሞል 2ኛ ፎቅ ቢሮ.ቁ 214\n\n\n    📲 0909522840\n    📲 0923350054\n\n👍ለቡ ቅርንጫፍ📲0973611819\n\n\n🔖\n💬  በTelegram ለማዘዝ ⤵️ ይጠቀሙ\n@shager_onlinestore\n  \nለተጨማሪ ማብራሪያ የቴሌግራም ገፃችን⤵️\nhttps://t.me/Shageronlinestore"
        ],
        [
         "23",
         "#አልቆል_ለተባላችሁ_በድጋሚ_አስገብተናል \n💥የመስታዎት ፓትራዎች ( glass bakewares) 🥧 🥮 \n\n👉Rectagular shape\n\n👉ገበታ ላይ መቅረብ የሚችሉ ውብ የመስታዎት ፓትራዎች \n   \n👉ሶስት የተለያየ መጠን ያላቸው (3.1 ሊ ፣ 2.5 ሊ፣ 1.8ሊ ) ፓትራዎችን የያዘ\n\n👉ለላዛኛ ፣ ፓስታ ፍርኖ፣ ኬክ  ተመራጭ\n\n👉ውብና ማራኪ ገበታ ላይ  መቅረብ የሚችሉ \n\n👉ውፍራም ማንኛውንም ሙቀት የሚቋቋም\n\nዋጋ፦  💰 ሶስቱን በ 3800 ብር\n\n📍ውስን ፍሬ ነው ያለን/ Limited Stock\n\n🏢 አድራሻ ቁ.1 👉 መገናኛ ታሜ ጋስ ህንፃ ጎን ስሪ ኤም ሲቲ ሞል  ሁለተኛ ፎቅ ቢሮ ቁ. SL-05A(ከ ሊፍቱ ፊት ለ ፊት)\n\n📍ቁ.2 👉ለቡ  መዳህኒዓለም ቤተ/ክርስቲያን 100ሜ ወደ ሙዚቃ ቤት ከፍ ብሎ  #ዛም_ሞል 2ኛ ፎቅ ቢሮ.ቁ 214\n\n\n    📲 0909522840\n    📲 0923350054\n\n👍ለቡ ቅርንጫፍ📲0973611819\n\n\n🔖\n💬  በTelegram ለማዘዝ ⤵️ ይጠቀሙ\n@shager_onlinestore\n  \nለተጨማሪ ማብራሪያ የቴሌግራም ገፃችን⤵️\nhttps://t.me/Shageronlinestore"
        ],
        [
         "24",
         "⚡️portable foldable mosquito net for kids\n\n👌በቀላሉ ይዞ ለመንቀሳቀስ አመቺ\n👌ልጆችዎን ከቢንቢ እና ከተለያዩ ነፍሳት የሚጠብቅ\n👌size:-100cm*60cm\n\n    \n      ዋጋ:-1400ብር💲\n\n\n🏢 አድራሻ  👉ቁ.1 መገናኛ ስሪ ኤም ሲቲ ሞል  ሁለተኛ ፎቅ ቢሮ ቁ. SL-05A(ከ ሊፍቱ ፊት ለ ፊት)\n\n📍ቁ.2 👉ለቡ  መዳህኒዓለም ቤተ/ክርስቲያን ፊት ለፊት  #ዛም_ሞል 2ኛ ፎቅ ቢሮ ቁጥር.214\n\n\n👍ለቡ ቅርንጫፍ📲0971611819\n\n\n\n     💧💧💧💧\n\n\n    📲 0909522840\n    📲 0923350054\n\n🔖\n💬  በTelegram ለማዘዝ ⤵️ ይጠቀሙ\n@shager_onlinestore\n  \nለተጨማሪ ማብራሪያ የቴሌግራም ገፃችን⤵️\nhttps://t.me/Shageronlinestore"
        ],
        [
         "25",
         "👋3in1 delux multifunctional  bassinet\n\n✨ከግራ ወደቀኝ እየተንቀሳቀሰ\nልጆችን እሹሩሩ እያለ የሚያጫውት የሚያስተኛ\n✨የራሱ ሪሞት ያለው \nየራሱ ሙዚቃዎች ያሉት እንዲሁም\n✨በብሉቱዝ እና በፍላሽ የምንፈልገውን ሙዚቃ ማጫዎት እንችላለን \n✨በሶኬት እና በባትሪ ድንጋይ የሚሰራ\n✨ልጆች ከፍ ሲሉ እንደ ወንበር ያገለግላቸዋል\n\nዋጋ፦  💰🏷  14,000 ብር\n\n♦️ውስን ፍሬ ነው ያለው\n\n🏢 አድራሻ ቁ.1 👉 መገናኛ ታሜ ጋስ ህንፃ ጎን ስሪ ኤም ሲቲ ሞል  ሁለተኛ ፎቅ ቢሮ ቁ. SL-05A(ከ ሊፍቱ ፊት ለ ፊት)\n\n📍ቁ.2 👉ለቡ  መዳህኒዓለም ቤተ/ክርስቲያን 100ሜ ወደ ሙዚቃ ቤት ከፍ ብሎ  #ዛም_ሞል 2ኛ ፎቅ ቢሮ.ቁ 214\n\n\n    📲 0909522840\n    📲 0923350054\n\n👍ለቡ ቅርንጫፍ📲0973611819\n\n\n🔖\n💬  በTelegram ለማዘዝ ⤵️ ይጠቀሙ\n@shager_onlinestore\n  \nለተጨማሪ ማብራሪያ የቴሌግራም ገፃችን⤵️\nhttps://t.me/Shageronlinestore          "
        ],
        [
         "26",
         "👋3in1 delux multifunctional  bassinet\n\n✨ከግራ ወደቀኝ እየተንቀሳቀሰ\nልጆችን እሹሩሩ እያለ የሚያጫውት የሚያስተኛ\n✨የራሱ ሪሞት ያለው \nየራሱ ሙዚቃዎች ያሉት እንዲሁም\n✨በብሉቱዝ እና በፍላሽ የምንፈልገውን ሙዚቃ ማጫዎት እንችላለን \n✨በሶኬት እና በባትሪ ድንጋይ የሚሰራ\n✨ልጆች ከፍ ሲሉ እንደ ወንበር ያገለግላቸዋል\n\nዋጋ፦  💰🏷  14,000 ብር\n\n♦️ውስን ፍሬ ነው ያለው\n\n🏢 አድራሻ ቁ.1 👉 መገናኛ ታሜ ጋስ ህንፃ ጎን ስሪ ኤም ሲቲ ሞል  ሁለተኛ ፎቅ ቢሮ ቁ. SL-05A(ከ ሊፍቱ ፊት ለ ፊት)\n\n📍ቁ.2 👉ለቡ  መዳህኒዓለም ቤተ/ክርስቲያን 100ሜ ወደ ሙዚቃ ቤት ከፍ ብሎ  #ዛም_ሞል 2ኛ ፎቅ ቢሮ.ቁ 214\n\n\n    📲 0909522840\n    📲 0923350054\n\n👍ለቡ ቅርንጫፍ📲0973611819\n\n\n🔖\n💬  በTelegram ለማዘዝ ⤵️ ይጠቀሙ\n@shager_onlinestore\n  \nለተጨማሪ ማብራሪያ የቴሌግራም ገፃችን⤵️\nhttps://t.me/Shageronlinestore          "
        ],
        [
         "35",
         "💥Electric Hot plate \n\n⚡️በኤሌክትሪክ የሚሰራ \n⚡️የራሱ ሙቀት መቆጣጠሪያ ያለው\n⚡️1400 watt \n⚡️ለማንቀሳቀስ የራሱ መያዣ ያለው \n⚡️ከጀበና እስከ ትልቅ ድስቶች የሚመች\n\n\n     ዋጋ፦ 💰✅4500ብር\n                         \n\nውስን ፍሬ ነው የቀረው ❌\n\n🏢 አድራሻ ቁ.1 👉 መገናኛ ታሜ ጋስ ህንፃ ጎን ስሪ ኤም ሲቲ ሞል  ሁለተኛ ፎቅ ቢሮ ቁ. SL-05A(ከ ሊፍቱ ፊት ለ ፊት)\n\n📍ቁ.2 👉ለቡ  መዳህኒዓለም ቤተ/ክርስቲያን 100ሜ ወደ ሙዚቃ ቤት ከፍ ብሎ  #ዛም_ሞል 2ኛ ፎቅ ቢሮ.ቁ 214\n\n\n    📲 0909522840\n    📲 0923350054\n\n👍ለቡ ቅርንጫፍ📲0973611819\n\n\n🔖\n💬  በTelegram ለማዘዝ ⤵️ ይጠቀሙ\n@shager_onlinestore\n  \nለተጨማሪ ማብራሪያ የቴሌግራም ገፃችን⤵️\nhttps://t.me/Shageronlinestore          "
        ],
        [
         "40",
         "📣Portable Folding Stool\n\n✔️ ተጣጣፊ ወንበር\n✔️ እስከ 100kg ክብደት የሚሸከም\n✔️ ከወፍራም ፕላስቲክ የተሰራ\n✔️ ቤተ ዕምነት ውስጥ፣ ቤት ውስጥ ፣ ስራ ቦታ እና መዝናኛ ቦታ ይገለገሉበታል\n✔️48cm ቁመት ሲኖረው \n✔️መቀመጫው 22cm×28cm ስፋት ያለው\n✔️ ለመያዝና ለማስቀመጥ የሚመች ቅልጥፋ ያለ\n\n    ዋጋ:-ትልቁ:-1700 ብር\n           ትንሹ:-1500ብር\n\nውስን ፍሬ ነው ያለው\n\n🏢 አድራሻ ቁ.1 👉 መገናኛ ታሜ ጋስ ህንፃ ጎን ስሪ ኤም ሲቲ ሞል  ሁለተኛ ፎቅ ቢሮ ቁ. SL-05A(ከ ሊፍቱ ፊት ለ ፊት)\n\n📍ቁ.2 👉ለቡ  መዳህኒዓለም ቤተ/ክርስቲያን 100ሜ ወደ ሙዚቃ ቤት ከፍ ብሎ  #ዛም_ሞል 2ኛ ፎቅ ቢሮ.ቁ 214\n\n\n    📲 0909522840\n    📲 0923350054\n\n👍ለቡ ቅርንጫፍ📲0973611819\n\n\n🔖\n💬  በTelegram ለማዘዝ ⤵️ ይጠቀሙ\n@shager_onlinestore\n  \nለተጨማሪ ማብራሪያ የቴሌግራም ገፃችን⤵️\nhttps://t.me/Shageronlinestore          "
        ],
        [
         "41",
         "🌀🌀🛒 Multifunction  Juice Extractor: \n\n💥 🍎🍉🍒🍐🌽🍊ለአፕል ብርቱካን፣ ካሮት፣ አናናስ፣ ቲማቲም… የመሳሰሉትን እየጨመቀ ቆሻሻውን ፡ ለብቻ፡ እያጣራ፡ ውሃውን እየጨመቀ፡ ወደራሱ ጆክ የሚቀዳ፤ \n🧳 የፍራፍሬ፤\n\n\n     ዋጋ፦ ✅  5,500 ብር\n\nውስን ፍሬ ነው የቀረው 🔥\n\n🏢 አድራሻ ቁ.1 👉 መገናኛ ታሜ ጋስ ህንፃ ጎን ስሪ ኤም ሲቲ ሞል  ሁለተኛ ፎቅ ቢሮ ቁ. SL-05A(ከ ሊፍቱ ፊት ለ ፊት)\n\n📍ቁ.2 👉ለቡ  መዳህኒዓለም ቤተ/ክርስቲያን 100ሜ ወደ ሙዚቃ ቤት ከፍ ብሎ  #ዛም_ሞል 2ኛ ፎቅ ቢሮ.ቁ 214\n\n\n    📲 0909522840\n    📲 0923350054\n\n👍ለቡ ቅርንጫፍ📲0973611819\n\n\n🔖\n💬  በTelegram ለማዘዝ ⤵️ ይጠቀሙ\n@shager_onlinestore\n  \nለተጨማሪ ማብራሪያ የቴሌግራም ገፃችን⤵️\nhttps://t.me/Shageronlinestore"
        ],
        [
         "44",
         "🌀🌀🛒 Multifunction  Juice Extractor: \n\n💥 🍎🍉🍒🍐🌽🍊ለአፕል ብርቱካን፣ ካሮት፣ አናናስ፣ ቲማቲም… የመሳሰሉትን እየጨመቀ ቆሻሻውን ፡ ለብቻ፡ እያጣራ፡ ውሃውን እየጨመቀ፡ ወደራሱ ጆክ የሚቀዳ፤ \n🧳 የፍራፍሬ፤\n\n\n     ዋጋ፦ ✅  5,500 ብር\n\nውስን ፍሬ ነው የቀረው 🔥\n\n🏢 አድራሻ ቁ.1 👉 መገናኛ ታሜ ጋስ ህንፃ ጎን ስሪ ኤም ሲቲ ሞል  ሁለተኛ ፎቅ ቢሮ ቁ. SL-05A(ከ ሊፍቱ ፊት ለ ፊት)\n\n📍ቁ.2 👉ለቡ  መዳህኒዓለም ቤተ/ክርስቲያን 100ሜ ወደ ሙዚቃ ቤት ከፍ ብሎ  #ዛም_ሞል 2ኛ ፎቅ ቢሮ.ቁ 214\n\n\n    📲 0909522840\n    📲 0923350054\n\n👍ለቡ ቅርንጫፍ📲0973611819\n\n\n🔖\n💬  በTelegram ለማዘዝ ⤵️ ይጠቀሙ\n@shager_onlinestore\n  \nለተጨማሪ ማብራሪያ የቴሌግራም ገፃችን⤵️\nhttps://t.me/Shageronlinestore"
        ],
        [
         "47",
         "💥1pc stainless steel loaf pan\n\n👍ትልቁ\n\n         ዋጋ:-ትልቁ:-1,000ብር✅\n\n❌ውስን ፍሬ ነው ያለው\n\n🏢 አድራሻ  ቁ.1👉 ስሪ ኤም ሲቲ ሞል  ሁለተኛ ፎቅ ቢሮ ቁ. SL-05A(ከ ሊፍቱ ፊት ለ ፊት)\n\n📍ቁ.2 👉ለቡ  መዳህኒዓለም ቤተ/ክርስቲያን ፊት ለፊት  #ዛም_ሞል 2ኛ ፎቅ ቢሮ ቁጥር.214\n\n👍ለቡ ቅርንጫፍ📲0973611819\n\n    📲 0909522840\n    📲 0923350054\n\n🔖\n💬  በTelegram ለማዘዝ ⤵️ ይጠቀሙ\n@shager_onlinestore\n  \nለተጨማሪ ማብራሪያ የቴሌግራም ገፃችን⤵️\nhttps://t.me/Shageronlinestore"
        ],
        [
         "51",
         "💥Infantino Cuddle Up Ergonomic Baby Carrier\n\n👉Carries children from 12-40lbs (5.4 - 18.1 kgs)\n👉Comfortable, ergonomic seat for baby\n👉2 ways to carry: Front and Backpack\n👉Removable canopy hood with adorable teddy bear styling\n👉Machine washable\n\n\n    ዋጋ💵፦  💰3,200 ብር\n\n🏢 አድራሻ ቁ.1 👉 መገናኛ ታሜ ጋስ ህንፃ ጎን ስሪ ኤም ሲቲ ሞል  ሁለተኛ ፎቅ ቢሮ ቁ. SL-05A(ከ ሊፍቱ ፊት ለ ፊት)\n\n📍ቁ.2 👉ለቡ  መዳህኒዓለም ቤተ/ክርስቲያን ፊት ለፊት  #ዛም_ሞል 2ኛ ፎቅ ቢሮ ቁጥር.214\n\n\n    📲 0909522840\n    📲 0923350054\n\n👍ለቡ ቅርንጫፍ📲0973611819\n\n🔖\n💬  በTelegram ለማዘዝ ⤵️ ይጠቀሙ\n@shager_onlinestore\n  \nለተጨማሪ ማብራሪያ የቴሌግራም ገፃችን⤵️\nhttps://t.me/Shageronlinestore"
        ],
        [
         "54",
         "💥Expanding Cookware Organiser\n\n👉minimum size 30.5cm\n👉Maximum size 56cm\n\n         ዋጋ፦ 850 ብር\n\n♦️ውስን ፍሬ ነው ያለው 🔥🔥🔥\n\n🏢 አድራሻ  👉 መገናኛ ስሪ ኤም ሲቲ ሞል  ሁለተኛ ፎቅ ቢሮ ቁ. SL-05A(ከ ሊፍቱ ፊት ለ ፊት)\n\n    📍ቁ.2 👉ለቡ  መዳህኒዓለም ቤተ/ክርስቲያን 100ሜ ወደ ሙዚቃ ቤት ከፍ ብሎ  #ዛም_ሞል 2ኛ ፎቅ ቢሮ.ቁ 214\n\n\n    📲 0909522840\n    📲 0923350054\n\n👍ለቡ ቅርንጫፍ📲0973611819\n\n\n🔖\n💬  በTelegram ለማዘዝ ⤵️ ይጠቀሙ\n@shager_onlinestore\n  \nለተጨማሪ ማብራሪያ የቴሌግራም ገፃችን⤵️\nhttps://t.me/Shageronlinestore"
        ],
        [
         "55",
         "💥Garlic press Chopper\n\n🔰Kitchen ginger garlic press.Quick grinding.Saving you time.\n🔰Manual extrusion and grinding.\n🔰Stainless steel material.Food grade safety material.Durable and easy to clean.\n🔰Curved plastic handle.Comfortable to use.\n\nዋጋ፦  💰🏷 350 ብር\n\n📍ውስን ፍሬ ነው ያለን/ Limited Stock\n\n❌ዉስን ፍሬ ነው ያለን❌\n\n🏢 አድራሻ ቁ.1 👉 መገናኛ ታሜ ጋስ ህንፃ ጎን ስሪ ኤም ሲቲ ሞል  ሁለተኛ ፎቅ ቢሮ ቁ. SL-05A(ከ ሊፍቱ ፊት ለ ፊት)\n\n📍ቁ.2 👉ለቡ  መዳህኒዓለም ቤተ/ክርስቲያን 100ሜ ወደ ሙዚቃ ቤት ከፍ ብሎ  #ዛም_ሞል 2ኛ ፎቅ ቢሮ.ቁ 214\n\n\n    📲 0909522840\n    📲 0923350054\n\n👍ለቡ ቅርንጫፍ📲0973611819\n\n\n🔖\n💬  በTelegram ለማዘዝ ⤵️ ይጠቀሙ\n@shager_onlinestore\n  \nለተጨማሪ ማብራሪያ የቴሌግራም ገፃችን⤵️\nhttps://t.me/Shageronlinestore"
        ],
        [
         "60",
         "👠36 pairs over the door shoe rack👞👢👟\n\n👉 በቀላሉ የሚገጣጠም የሚነቃቀል\n👉ኑሮን የሚያቀል\n👉ቦታ የማይዝ \n👉ለአጠቃቀም በጣም ቀላል\n👉ባለ 12 መደርደሪያ \n👉36 ጫማ የሚይዝ በር ላይ ተንጠልጣይ\n\n\nSize 50*20*183cm\n\n         ዋጋ:-3,100 ብር\n\n📍ውስን ፍሬ ነው ያለን/ Limited Stock\n\n🏢 አድራሻ ቁ.1 👉 መገናኛ ታሜ ጋስ ህንፃ ጎን ስሪ ኤም ሲቲ ሞል  ሁለተኛ ፎቅ ቢሮ ቁ. SL-05A(ከ ሊፍቱ ፊት ለ ፊት)\n\n📍ቁ.2 👉ለቡ  መዳህኒዓለም ቤተ/ክርስቲያን 100ሜ ወደ ሙዚቃ ቤት ከፍ ብሎ  #ዛም_ሞል 2ኛ ፎቅ ቢሮ.ቁ 214\n\n\n    📲 0909522840\n    📲 0923350054\n\n👍ለቡ ቅርንጫፍ📲0973611819\n\n\n🔖\n💬  በTelegram ለማዘዝ ⤵️ ይጠቀሙ\n@shager_onlinestore\n  \nለተጨማሪ ማብራሪያ የቴሌግራም ገፃችን⤵️\nhttps://t.me/Shageronlinestore\n "
        ],
        [
         "61",
         "👠36 pairs over the door shoe rack👞👢👟\n\n👉 በቀላሉ የሚገጣጠም የሚነቃቀል\n👉ኑሮን የሚያቀል\n👉ቦታ የማይዝ \n👉ለአጠቃቀም በጣም ቀላል\n👉ባለ 12 መደርደሪያ \n👉36 ጫማ የሚይዝ በር ላይ ተንጠልጣይ\n\n\nSize 50*20*183cm\n\n         ዋጋ:-3,100 ብር\n\n📍ውስን ፍሬ ነው ያለን/ Limited Stock\n\n🏢 አድራሻ ቁ.1 👉 መገናኛ ታሜ ጋስ ህንፃ ጎን ስሪ ኤም ሲቲ ሞል  ሁለተኛ ፎቅ ቢሮ ቁ. SL-05A(ከ ሊፍቱ ፊት ለ ፊት)\n\n📍ቁ.2 👉ለቡ  መዳህኒዓለም ቤተ/ክርስቲያን 100ሜ ወደ ሙዚቃ ቤት ከፍ ብሎ  #ዛም_ሞል 2ኛ ፎቅ ቢሮ.ቁ 214\n\n\n    📲 0909522840\n    📲 0923350054\n\n👍ለቡ ቅርንጫፍ📲0973611819\n\n\n🔖\n💬  በTelegram ለማዘዝ ⤵️ ይጠቀሙ\n@shager_onlinestore\n  \nለተጨማሪ ማብራሪያ የቴሌግራም ገፃችን⤵️\nhttps://t.me/Shageronlinestore\n "
        ],
        [
         "62",
         "☀Rechargeable Breast Pump\n\n✨BPA Free\n\n👋portable\n\n     ዋጋ፦  2,100 ብር\n\n🏢 አድራሻ ቁ.1 👉 መገናኛ ታሜ ጋስ ህንፃ ጎን ስሪ ኤም ሲቲ ሞል  ሁለተኛ ፎቅ ቢሮ ቁ. SL-05A(ከ ሊፍቱ ፊት ለ ፊት)\n\n📍ቁ.2 👉ለቡ  መዳህኒዓለም ቤተ/ክርስቲያን ፊት ለፊት  #ዛም_ሞል 2ኛ ፎቅ ቢሮ ቁጥር.214\n\n\n    📲 0909522840\n    📲 0923350054\n\n👍ለቡ ቅርንጫፍ📲0973611819\n\n🔖\n💬  በTelegram ለማዘዝ ⤵️ ይጠቀሙ\n@shager_onlinestore\n  \nለተጨማሪ ማብራሪያ የቴሌግራም ገፃችን⤵️\nhttps://t.me/Shageronlinestore"
        ],
        [
         "67",
         "☀Rechargeable Breast Pump\n\n✨BPA Free\n\n👋portable\n\n     ዋጋ፦  2,100 ብር\n\n🏢 አድራሻ ቁ.1 👉 መገናኛ ታሜ ጋስ ህንፃ ጎን ስሪ ኤም ሲቲ ሞል  ሁለተኛ ፎቅ ቢሮ ቁ. SL-05A(ከ ሊፍቱ ፊት ለ ፊት)\n\n📍ቁ.2 👉ለቡ  መዳህኒዓለም ቤተ/ክርስቲያን ፊት ለፊት  #ዛም_ሞል 2ኛ ፎቅ ቢሮ ቁጥር.214\n\n\n    📲 0909522840\n    📲 0923350054\n\n👍ለቡ ቅርንጫፍ📲0973611819\n\n🔖\n💬  በTelegram ለማዘዝ ⤵️ ይጠቀሙ\n@shager_onlinestore\n  \nለተጨማሪ ማብራሪያ የቴሌግራም ገፃችን⤵️\nhttps://t.me/Shageronlinestore"
        ],
        [
         "68",
         "💥SAACHI® CERAMIC PIZZA PAN\n\n⚡️ለቤትና ለሬስቶራንት አገልግሎት የሚውል \n\n⚡️ለአጠቃቀም ሆነ ለአያያዝ ቀላልና ምቹ የሆነ \n\n⚡️እንዲሁም:- ለፒዛ ፣ ለቡና መቁያነት ፣ ለአንባሻ ፣ ለጨጨብሳ ፣ ለፈጢራ ፣ ለዳቦ ፣ ለጥብስና ለተለያዩ አገልግሎቶች የሚሆን\n\n\n⚡️ከ normal pizza pan በጥራት የተሻለ\n\n⚡️አነስተኛ የኤሌክትሪክ ፍጆታ የሚጠቀም  \n\n     \n      ዋጋ፦6000ብር✅\n\n✖️ውስን ፍሬ ነው ያለው\n\n🏢 አድራሻ  ቁ.1👉 መገናኛ ስሪ ኤም ሲቲ ሞል  ሁለተኛ ፎቅ ቢሮ ቁ. SL-05A(ከ ሊፍቱ ፊት ለ ፊት)\n\n📍ቁ.2 👉ለቡ  መዳህኒዓለም ቤተ/ክርስቲያን ፊት ለፊት  #ዛም_ሞል 2ኛ ፎቅ ቢሮ ቁጥር.214\n\n\n👍ለቡ ቅርንጫፍ📲0973611819\n\n\n\n    📲 0909522840\n    📲 0923350054\n\n🔖\n💬  በTelegram ለማዘዝ ⤵️ ይጠቀሙ\n@shager_onlinestore\n  \nለተጨማሪ ማብራሪያ የቴሌግራም ገፃችን⤵️\nhttps://t.me/Shageronlinestore"
        ],
        [
         "69",
         "💥12pcs Silicone Kitchen Set\n\n  220°c ድረስ መቆቆም እሚችል\n\n👉available in different colors \n\n     ዋጋ፦ 2000ብር✅\n\n                   \nአድራሻ  ቁ.1👉 መገናኛ ስሪ ኤም ሲቲ ሞል  ሁለተኛ ፎቅ ቢሮ ቁ. SL-05A(ከ ሊፍቱ ፊት ለ ፊት)\n\n📍ቁ.2 👉ለቡ  መዳህኒዓለም ቤተ/ክርስቲያን ፊት ለፊት  #ዛም_ሞል 2ኛ ፎቅ ቢሮ ቁጥር.214\n\n\n👍ለቡ ቅርንጫፍ📲0973611819\n\n     💧💧💧💧\n\n\n    📲 0909522840\n    📲 0923350054\n\n🔖\n💬  በTelegram ለማዘዝ ⤵️ ይጠቀሙ\n@shager_onlinestore\n  \nለተጨማሪ ማብራሪያ የቴሌግራም ገፃችን⤵️\nhttps://t.me/Shageronlinestore"
        ],
        [
         "71",
         "💥12pcs Silicone Kitchen Set\n\n  220°c ድረስ መቆቆም እሚችል\n\n👉available in different colors \n\n     ዋጋ፦ 2000ብር✅\n\n                   \nአድራሻ  ቁ.1👉 መገናኛ ስሪ ኤም ሲቲ ሞል  ሁለተኛ ፎቅ ቢሮ ቁ. SL-05A(ከ ሊፍቱ ፊት ለ ፊት)\n\n📍ቁ.2 👉ለቡ  መዳህኒዓለም ቤተ/ክርስቲያን ፊት ለፊት  #ዛም_ሞል 2ኛ ፎቅ ቢሮ ቁጥር.214\n\n\n👍ለቡ ቅርንጫፍ📲0973611819\n\n     💧💧💧💧\n\n\n    📲 0909522840\n    📲 0923350054\n\n🔖\n💬  በTelegram ለማዘዝ ⤵️ ይጠቀሙ\n@shager_onlinestore\n  \nለተጨማሪ ማብራሪያ የቴሌግራም ገፃችን⤵️\nhttps://t.me/Shageronlinestore"
        ],
        [
         "72",
         "💥 kitchen knife set\n\n\n        ዋጋ:-2500ብር✅\n\n\n❌ውስን ፍሬ ነው ያለው\n\n🏢 አድራሻ ቁ.1 👉 መገናኛ ታሜ ጋስ ህንፃ ጎን ስሪ ኤም ሲቲ ሞል  ሁለተኛ ፎቅ ቢሮ ቁ. SL-05A(ከ ሊፍቱ ፊት ለ ፊት)\n\n📍ቁ.2 👉ለቡ  መዳህኒዓለም ቤተ/ክርስቲያን ፊት ለፊት  #ዛም_ሞል 2ኛ ፎቅ ቢሮ ቁጥር.214\n\n\n    📲 0909522840\n    📲 0923350054\n\n👍ለቡ ቅርንጫፍ📲0973611819\n\n🔖\n💬  በTelegram ለማዘዝ ⤵️ ይጠቀሙ\n@shager_onlinestore\n  \nለተጨማሪ ማብራሪያ የቴሌግራም ገፃችን⤵️\nhttps://t.me/Shageronlinestore"
        ],
        [
         "73",
         "💥360° rotating cake turntable \n\n👉Size-28cm\n\n👉cake-decorating turntable makes it simple to decorate profrssional looking desserts at home\n\n👉great for left and right handed decorates makes the decorating process easy\n\n👉non slip surface on top of the patform keeps cake or cake board in place while you decorate\n\n          ዋጋ:-1300ብር\n\n📍ውስን ፍሬ ነው ያለን/ Limited Stock\n\n🏢 አድራሻ ቁ.1 👉 መገናኛ ታሜ ጋስ ህንፃ ጎን ስሪ ኤም ሲቲ ሞል  ሁለተኛ ፎቅ ቢሮ ቁ. SL-05A(ከ ሊፍቱ ፊት ለ ፊት)\n\n📍ቁ.2 👉ለቡ  መዳህኒዓለም ቤተ/ክርስቲያን 100ሜ ወደ ሙዚቃ ቤት ከፍ ብሎ  #ዛም_ሞል 2ኛ ፎቅ ቢሮ.ቁ 214\n\n\n    📲 0909522840\n    📲 0923350054\n\n👍ለቡ ቅርንጫፍ📲0973611819\n\n\n🔖\n💬  በTelegram ለማዘዝ ⤵️ ይጠቀሙ\n@shager_onlinestore\n  \nለተጨማሪ ማብራሪያ የቴሌግራም ገፃችን⤵️\nhttps://t.me/Shageronlinestore\n "
        ],
        [
         "76",
         "💥360° rotating cake turntable \n\n👉Size-28cm\n\n👉cake-decorating turntable makes it simple to decorate profrssional looking desserts at home\n\n👉great for left and right handed decorates makes the decorating process easy\n\n👉non slip surface on top of the patform keeps cake or cake board in place while you decorate\n\n          ዋጋ:-1300ብር\n\n📍ውስን ፍሬ ነው ያለን/ Limited Stock\n\n🏢 አድራሻ ቁ.1 👉 መገናኛ ታሜ ጋስ ህንፃ ጎን ስሪ ኤም ሲቲ ሞል  ሁለተኛ ፎቅ ቢሮ ቁ. SL-05A(ከ ሊፍቱ ፊት ለ ፊት)\n\n📍ቁ.2 👉ለቡ  መዳህኒዓለም ቤተ/ክርስቲያን 100ሜ ወደ ሙዚቃ ቤት ከፍ ብሎ  #ዛም_ሞል 2ኛ ፎቅ ቢሮ.ቁ 214\n\n\n    📲 0909522840\n    📲 0923350054\n\n👍ለቡ ቅርንጫፍ📲0973611819\n\n\n🔖\n💬  በTelegram ለማዘዝ ⤵️ ይጠቀሙ\n@shager_onlinestore\n  \nለተጨማሪ ማብራሪያ የቴሌግራም ገፃችን⤵️\nhttps://t.me/Shageronlinestore\n "
        ],
        [
         "80",
         "🍉 Manual Fruit Juicer with jug\n\n🙌ማንዋል የሎሚ እና የብርቱካን መጭመቂያ     \n\n 👉Safe \n👉Quick \n👉Super Easy to Clean and \n👉Effective Juicing\n\n            💰 ዋጋ፦ 🔠 1000 ብር\n\nውስን ፍሬ ነው የቀረው 🔠🔠\n\nአድራሻ ቁ.1 👉 መገናኛ ታሜ ጋስ ህንፃ ጎን ስሪ ኤም ሲቲ ሞል  ሁለተኛ ፎቅ ቢሮ ቁ. SL-05A(ከ ሊፍቱ ፊት ለ ፊት)\n\n📍ቁ.2 👉ለቡ  መዳህኒዓለም ቤተ/ክርስቲያን ፊት ለፊት  #ዛም_ሞል 2ኛ ፎቅ ቢሮ ቁጥር.214\n\n\n    📲 0909522840\n    📲 0923350054\n\n👍ለቡ ቅርንጫፍ📲0973611819\n\n💬  በTelegram ለማዘዝ ⤵️ ይጠቀሙ\n@shager_onlinestore\n  \nለተጨማሪ ማብራሪያ የቴሌግራም ገፃችን⤵️\nhttps://t.me/Shageronlinestore"
        ],
        [
         "81",
         "🍉 Manual Fruit Juicer\n\n🙌ማንዋል የሎሚ እና የብርቱካን መጭመቂያ     \n\n 👉Safe \n👉Quick \n👉Super Easy to Clean and \n👉Effective Juicing\n\n            💰 ዋጋ፦ 🔠 1000 ብር\n\nውስን ፍሬ ነው የቀረው 🔠🔠\n\nአድራሻ ቁ.1 👉 መገናኛ ታሜ ጋስ ህንፃ ጎን ስሪ ኤም ሲቲ ሞል  ሁለተኛ ፎቅ ቢሮ ቁ. SL-05A(ከ ሊፍቱ ፊት ለ ፊት)\n\n📍ቁ.2 👉ለቡ  መዳህኒዓለም ቤተ/ክርስቲያን ፊት ለፊት  #ዛም_ሞል 2ኛ ፎቅ ቢሮ ቁጥር.214\n\n\n    📲 0909522840\n    📲 0923350054\n\n👍ለቡ ቅርንጫፍ📲0973611819\n\n💬  በTelegram ለማዘዝ ⤵️ ይጠቀሙ\n@shager_onlinestore\n  \nለተጨማሪ ማብራሪያ የቴሌግራም ገፃችን⤵️\nhttps://t.me/Shageronlinestore"
        ],
        [
         "82",
         "💥Momcoc Smiley Face Non Stick Pancake Pan 😂😆\n\n⚡️ Granite coated pan\n⚡️100% የማይዝ\n⚡️ በአንድ ግዜ 7 ኬክ ይጋግራል\n\n  ዋጋ፦  💰 1700 ብር\n\n📍ውስን ፍሬ ነው ያለን/ Limited Stock\n\n🏢 አድራሻ ቁ.1 👉 መገናኛ ታሜ ጋስ ህንፃ ጎን ስሪ ኤም ሲቲ ሞል  ሁለተኛ ፎቅ ቢሮ ቁ. SL-05A(ከ ሊፍቱ ፊት ለ ፊት)\n\n📍ቁ.2 👉ለቡ  መዳህኒዓለም ቤተ/ክርስቲያን ፊት ለፊት  #ዛም_ሞል 2ኛ ፎቅ ቢሮ ቁጥር.214\n\n\n    📲 0909522840\n    📲 0923350054\n\n👍ለቡ ቅርንጫፍ📲0973611819\n\n🔖\n💬  በTelegram ለማዘዝ ⤵️ ይጠቀሙ\n@shager_onlinestore\n  \nለተጨማሪ ማብራሪያ የቴሌግራም ገፃችን⤵️\nhttps://t.me/Shageronlinestore"
        ],
        [
         "85",
         "💥 Momcoc Smiley Face Non Stick Pancake Pan 😂😆\n\n⚡️ Granite coated pan\n⚡️100% የማይዝ\n⚡️ በአንድ ግዜ 7 ኬክ ይጋግራል\n\n  ዋጋ፦  💰 1700 ብር\n\n📍ውስን ፍሬ ነው ያለን/ Limited Stock\n\n🏢 አድራሻ ቁ.1 👉 መገናኛ ታሜ ጋስ ህንፃ ጎን ስሪ ኤም ሲቲ ሞል  ሁለተኛ ፎቅ ቢሮ ቁ. SL-05A(ከ ሊፍቱ ፊት ለ ፊት)\n\n📍ቁ.2 👉ለቡ  መዳህኒዓለም ቤተ/ክርስቲያን ፊት ለፊት  #ዛም_ሞል 2ኛ ፎቅ ቢሮ ቁጥር.214\n\n\n    📲 0909522840\n    📲 0923350054\n\n👍ለቡ ቅርንጫፍ📲0973611819\n\n🔖\n💬  በTelegram ለማዘዝ ⤵️ ይጠቀሙ\n@shager_onlinestore\n  \nለተጨማሪ ማብራሪያ የቴሌግራም ገፃችን⤵️\nhttps://t.me/Shageronlinestore"
        ],
        [
         "86",
         "💥 wc toilet rack/washing machin rack\n\n⚡️ የመፀዳጃ ቤትዕቃዎች  መደርደሪያ\n⚡️ ጠንካራ ብረት\n⚡️ ሼልፉ የላሜራ \n⚡️ ብዙ ነገሮችን ያስቀምጡበታል\n⚡️ አገጣጠሙ ቀላል\n⚡️ በራሱ የሚቆም\n⚡️ 1.60ሜትር ቁመት፣ 47ሣሜ ስፋት እና ሰፊው አካላ 25ሣሜ ጥልቀት ያለው\n⚡️ ለኮንዶሚኒየም/አፓርታማ ቤቶች የሚፈለግ\n        \n       ዋጋ:- 3700ብር✅\n\n✖️ውስን ፍሬ ነው ያለው\n\n🏢 አድራሻ ቁ.1 👉 መገናኛ ስሪ ኤም ሲቲ ሞል  ሁለተኛ ፎቅ ቢሮ ቁ. SL-05A(ከ ሊፍቱ ፊት ለ ፊት)\n\n📍ቁ.2 👉ለቡ  መዳህኒዓለም ቤተ/ክርስቲያን ፊት ለፊት  #ዛም_ሞል 2ኛ ፎቅ ቢሮ ቁጥር.214\n\n\n👍ለቡ ቅርንጫፍ📲0973611819\n\n     💧💧💧💧\n\n\n    📲 0909522840\n    📲 0923350054\n\n🔖\n💬  በTelegram ለማዘዝ ⤵️ ይጠቀሙ\n@shager_onlinestore\n  \nለተጨማሪ ማብራሪያ የቴሌግራም ገፃችን⤵️\nhttps://t.me/Shageronlinestore"
        ],
        [
         "87",
         "💥 wc toilet rack/washing machin rack\n\n⚡️ የመፀዳጃ ቤትዕቃዎች  መደርደሪያ\n⚡️ ጠንካራ ብረት\n⚡️ ሼልፉ የላሜራ \n⚡️ ብዙ ነገሮችን ያስቀምጡበታል\n⚡️ አገጣጠሙ ቀላል\n⚡️ በራሱ የሚቆም\n⚡️ 1.60ሜትር ቁመት፣ 47ሣሜ ስፋት እና ሰፊው አካላ 25ሣሜ ጥልቀት ያለው\n⚡️ ለኮንዶሚኒየም/አፓርታማ ቤቶች የሚፈለግ\n        \n       ዋጋ:- 3700ብር✅\n\n✖️ውስን ፍሬ ነው ያለው\n\n🏢 አድራሻ ቁ.1 👉 መገናኛ ስሪ ኤም ሲቲ ሞል  ሁለተኛ ፎቅ ቢሮ ቁ. SL-05A(ከ ሊፍቱ ፊት ለ ፊት)\n\n📍ቁ.2 👉ለቡ  መዳህኒዓለም ቤተ/ክርስቲያን ፊት ለፊት  #ዛም_ሞል 2ኛ ፎቅ ቢሮ ቁጥር.214\n\n\n👍ለቡ ቅርንጫፍ📲0973611819\n\n     💧💧💧💧\n\n\n    📲 0909522840\n    📲 0923350054\n\n🔖\n💬  በTelegram ለማዘዝ ⤵️ ይጠቀሙ\n@shager_onlinestore\n  \nለተጨማሪ ማብራሪያ የቴሌግራም ገፃችን⤵️\nhttps://t.me/Shageronlinestore"
        ],
        [
         "88",
         "👉ለመላው የእስልምና እምነት ተከታዮች በሙሉ እንኳን 1446ኛው የኢድ አል አድሃ (አረፋ) በዓል በሰላም አደረሳችሁ።\n\n #ዛሬ_ሙሉ_ቀን_ሱቃችን_ክፍት_ነው\n\n🌙ኢድ ሙባረክ!\n☀️መልካም በዓል!!\n\n\n🏢 አድራሻ  👉 መገናኛ ስሪ ኤም ሲቲ ሞል  ሁለተኛ ፎቅ ቢሮ ቁ. SL-05A(ከ ሊፍቱ ፊት ለ ፊት)\n\n     💧💧💧💧\n\n\n    📲 0909522840\n    📲 0923350054\n\n🔖\n💬  በTelegram ለማዘዝ ⤵️ ይጠቀሙ\n@shager_onlinestore\n  \nለተጨማሪ ማብራሪያ የቴሌግራም ገፃችን⤵️\nhttps://t.me/Shageronlinestore"
        ],
        [
         "93",
         "🙌1pc under sink organizer\n\n👍sink splash guard\n👍waterproof and mildow proof mat\n👍For kitchen and bathroom over sink organizer\n👍available color:- gray\n\n       ዋጋ:-700ብር👍\n\n✖️ውስን ፍሬ ነው ያለው\n\n🏢 አድራሻ ቁ.1 👉 መገናኛ ታሜ ጋስ ህንፃ ጎን ስሪ ኤም ሲቲ ሞል  ሁለተኛ ፎቅ ቢሮ ቁ. SL-05A(ከ ሊፍቱ ፊት ለ ፊት)\n\n📍ቁ.2 👉ለቡ  መዳህኒዓለም ቤተ/ክርስቲያን 100ሜ ወደ ሙዚቃ ቤት ከፍ ብሎ  #ዛም_ሞል 2ኛ ፎቅ ቢሮ.ቁ 214\n\n\n    📲 0909522840\n    📲 0923350054\n\n👍ለቡ ቅርንጫፍ📲0973611819\n\n\n🔖\n💬  በTelegram ለማዘዝ ⤵️ ይጠቀሙ\n@shager_onlinestore\n  \nለተጨማሪ ማብራሪያ የቴሌግራም ገፃችን⤵️\nhttps://t.me/Shageronlinestor"
        ],
        [
         "94",
         "💥Lint remover /Fabric shaver for clothes\n\n🔰በቻርጅ የሚሰራ\n\n   ዋጋ፦  💰🏷  900 ብር\n\n♦️ውስን ፍሬ ነው ያለው\n\nውስን ፍሬ ነው ያለን/ Limited Stock \n\n🏢 አድራሻ ቁ.1 👉 መገናኛ ታሜ ጋስ ህንፃ ጎን ስሪ ኤም ሲቲ ሞል  ሁለተኛ ፎቅ ቢሮ ቁ. SL-05A(ከ ሊፍቱ ፊት ለ ፊት)\n\n📍ቁ.2 👉ለቡ  መዳህኒዓለም ቤተ/ክርስቲያን 100ሜ ወደ ሙዚቃ ቤት ከፍ ብሎ  #ዛም_ሞል 2ኛ ፎቅ ቢሮ.ቁ 214\n\n\n    📲 0909522840\n    📲 0923350054\n\n👍ለቡ ቅርንጫፍ📲0973611819\n\n\n🔖\n💬  በTelegram ለማዘዝ ⤵️ ይጠቀሙ\n@shager_onlinestore\n  \nለተጨማሪ ማብራሪያ የቴሌግራም ገፃችን⤵️\nhttps://t.me/Shageronlinestor"
        ],
        [
         "96",
         "💥Lint remover /Fabric shaver for clothes\n\n🔰በቻርጅ የሚሰራ\n\n   ዋጋ፦  💰🏷  900 ብር\n\nውስን ፍሬ ነው ያለን/ Limited Stock \n\n🏢 አድራሻ ቁ.1 👉 መገናኛ ታሜ ጋስ ህንፃ ጎን ስሪ ኤም ሲቲ ሞል  ሁለተኛ ፎቅ ቢሮ ቁ. SL-05A(ከ ሊፍቱ ፊት ለ ፊት)\n\n📍ቁ.2 👉ለቡ  መዳህኒዓለም ቤተ/ክርስቲያን 100ሜ ወደ ሙዚቃ ቤት ከፍ ብሎ  #ዛም_ሞል 2ኛ ፎቅ ቢሮ.ቁ 214\n\n\n    📲 0909522840\n    📲 0923350054\n\n👍ለቡ ቅርንጫፍ📲0973611819\n\n\n🔖\n💬  በTelegram ለማዘዝ ⤵️ ይጠቀሙ\n@shager_onlinestore\n  \nለተጨማሪ ማብራሪያ የቴሌግራም ገፃችን⤵️\nhttps://t.me/Shageronlinestor"
        ],
        [
         "99",
         "💥Head protector helmet for kids\n\n   ዋጋ:-550ብር✅\n  \n\n🏢 አድራሻ ቁ.1 👉 መገናኛ ስሪ ኤም ሲቲ ሞል  ሁለተኛ ፎቅ ቢሮ ቁ. SL-05A(ከ ሊፍቱ ፊት ለ ፊት)\n\n📍ቁ.2 👉ለቡ  መዳህኒዓለም ቤተ/ክርስቲያን ፊት ለፊት  #ዛም_ሞል 2ኛ ፎቅ ቢሮ ቁጥር.214\n\n\n👍ለቡ ቅርንጫፍ📲0971611819\n\n     💧💧💧💧\n\n\n    📲 0909522840\n    📲 0923350054\n\n🔖\n💬  በTelegram ለማዘዝ ⤵️ ይጠቀሙ\n@shager_onlinestore\n  \nለተጨማሪ ማብራሪያ የቴሌግራም ገፃችን⤵️\nhttps://t.me/Shageronlinestore"
        ],
        [
         "100",
         "💥Head protector helmet for kids\n\n       ዋጋ:-550ብር✅\n  \n\n🏢 አድራሻ ቁ.1 👉 መገናኛ ስሪ ኤም ሲቲ ሞል  ሁለተኛ ፎቅ ቢሮ ቁ. SL-05A(ከ ሊፍቱ ፊት ለ ፊት)\n\n📍ቁ.2 👉ለቡ  መዳህኒዓለም ቤተ/ክርስቲያን ፊት ለፊት  #ዛም_ሞል 2ኛ ፎቅ ቢሮ ቁጥር.214\n\n\n👍ለቡ ቅርንጫፍ📲0973611819\n\n     💧💧💧💧\n\n\n    📲 0909522840\n    📲 0923350054\n\n🔖\n💬  በTelegram ለማዘዝ ⤵️ ይጠቀሙ\n@shager_onlinestore\n  \nለተጨማሪ ማብራሪያ የቴሌግራም ገፃችን⤵️\nhttps://t.me/Shageronlinestore"
        ],
        [
         "101",
         "💥Anti slip kids shoes \n\n👉እማያንሸራትት\n\n        ዋጋ:-600ብር\n\n🏢 አድራሻ  👉ቁ.1 መገናኛ ስሪ ኤም ሲቲ ሞል  ሁለተኛ ፎቅ ቢሮ ቁ. SL-05A(ከ ሊፍቱ ፊት ለ ፊት)\n\n📍ቁ.2 👉ለቡ  መዳህኒዓለም ቤተ/ክርስቲያን ፊት ለፊት  #ዛም_ሞል 2ኛ ፎቅ ቢሮ ቁጥር.214\n\n\n👍ለቡ ቅርንጫፍ📲0973611819\n\n\n\n     💧💧💧💧\n\n\n    📲 0909522840\n    📲 0923350054\n\n🔖\n💬  በTelegram ለማዘዝ ⤵️ ይጠቀሙ\n@shager_onlinestore\n  \nለተጨማሪ ማብራሪያ የቴሌግራም ገፃችን⤵️\nhttps://t.me/Shageronlinestore"
        ],
        [
         "105",
         "💥Anti slip kids shoes \n\n👉እማያንሸራትት\n\n        ዋጋ:-600ብር\n\n🏢 አድራሻ  👉ቁ.1 መገናኛ ስሪ ኤም ሲቲ ሞል  ሁለተኛ ፎቅ ቢሮ ቁ. SL-05A(ከ ሊፍቱ ፊት ለ ፊት)\n\n📍ቁ.2 👉ለቡ  መዳህኒዓለም ቤተ/ክርስቲያን ፊት ለፊት  #ዛም_ሞል 2ኛ ፎቅ ቢሮ ቁጥር.214\n\n\n👍ለቡ ቅርንጫፍ📲0973611819\n\n\n\n     💧💧💧💧\n\n\n    📲 0909522840\n    📲 0923350054\n\n🔖\n💬  በTelegram ለማዘዝ ⤵️ ይጠቀሙ\n@shager_onlinestore\n  \nለተጨማሪ ማብራሪያ የቴሌግራም ገፃችን⤵️\nhttps://t.me/Shageronlinestore"
        ],
        [
         "107",
         "💥2in1 dumpling maker \n\n👉ሳምቡሳን በቀላሉ ለመስራት\n\n      ዋጋ፦ 700 ብር\n\n♦️ውስን ፍሬ ነው ያለው\n\n🏢 አድራሻ ቁ.1 👉 መገናኛ ታሜ ጋስ ህንፃ ጎን ስሪ ኤም ሲቲ ሞል  ሁለተኛ ፎቅ ቢሮ ቁ. SL-05A(ከ ሊፍቱ ፊት ለ ፊት)\n\n📍ቁ.2 👉ለቡ  መዳህኒዓለም ቤተ/ክርስቲያን 100ሜ ወደ ሙዚቃ ቤት ከፍ ብሎ  #ዛም_ሞል 2ኛ ፎቅ ቢሮ.ቁ 214\n\n\n    📲 0909522840\n    📲 0923350054\n\n👍ለቡ ቅርንጫፍ📲0973611819\n\n\n🔖\n💬  በTelegram ለማዘዝ ⤵️ ይጠቀሙ\n@shager_onlinestore\n  \nለተጨማሪ ማብራሪያ የቴሌግራም ገፃችን⤵️\nhttps://t.me/Shageronlinestore          "
        ],
        [
         "108",
         "💥2in1 dumpling maker \n\n👉ሳምቡሳን በቀላሉ ለመስራት\n\n      ዋጋ፦ 700 ብር\n\n♦️ውስን ፍሬ ነው ያለው\n\n🏢 አድራሻ ቁ.1 👉 መገናኛ ታሜ ጋስ ህንፃ ጎን ስሪ ኤም ሲቲ ሞል  ሁለተኛ ፎቅ ቢሮ ቁ. SL-05A(ከ ሊፍቱ ፊት ለ ፊት)\n\n📍ቁ.2 👉ለቡ  መዳህኒዓለም ቤተ/ክርስቲያን 100ሜ ወደ ሙዚቃ ቤት ከፍ ብሎ  #ዛም_ሞል 2ኛ ፎቅ ቢሮ.ቁ 214\n\n\n    📲 0909522840\n    📲 0923350054\n\n👍ለቡ ቅርንጫፍ📲0973611819\n\n\n🔖\n💬  በTelegram ለማዘዝ ⤵️ ይጠቀሙ\n@shager_onlinestore\n  \nለተጨማሪ ማብራሪያ የቴሌግራም ገፃችን⤵️\nhttps://t.me/Shageronlinestore          "
        ],
        [
         "110",
         "👋 Oven Gloves \n\n🍀 Heat Resistant Cushion Potholders\n\n      ዋጋ፦400 ብር\n\n📍ውስን ፍሬ ነው ያለን/ Limited Stock\n\n🏢 አድራሻ ቁ.1 👉 መገናኛ ታሜ ጋስ ህንፃ ጎን ስሪ ኤም ሲቲ ሞል  ሁለተኛ ፎቅ ቢሮ ቁ. SL-05A(ከ ሊፍቱ ፊት ለ ፊት)\n\n📍ቁ.2 👉ለቡ  መዳህኒዓለም ቤተ/ክርስቲያን  ወደ ሙዚቃ ቤት 100ሜትር ከፍ ብሎ  #ዛም_ሞል 2ኛ ፎቅ ቢሮ.ቁ 214\n\n\n    📲 0909522840\n    📲 0923350054\n\n👍ለቡ ቅርንጫፍ📲0973611819\n\n\n🔖\n💬  በTelegram ለማዘዝ ⤵️ ይጠቀሙ\n@shager_onlinestore\n  \nለተጨማሪ ማብራሪያ የቴሌግራም ገፃችን⤵️\nhttps://t.me/Shageronlinestore"
        ],
        [
         "112",
         "❇️ Adjustable Posture Corrector\n  \n⚡Corrector Belt\n⚡Great for Men and Women!!\n\n👉የአንገት፣የትከሻ እና የወገብ ህመምን የሚቀርፍ \n👉Spinal-cord መደገፊያ አብሮ የተገጠመለት\n👉 አቅዋሞን በማስተካከል ቀጥ ያል እና ማራኪ ቁመና ለመላበስ የሚመርጡት።\n\n#Size:  Medium, Large, XL, 2XL & 3XL\n\n          ዋጋ፦ ✅ 800 ብር\n\nውስን ፍሬ ነው ያለን/ Limited Stock \n\n🏢 አድራሻ ቁ.1 👉 መገናኛ ታሜ ጋስ ህንፃ ጎን ስሪ ኤም ሲቲ ሞል  ሁለተኛ ፎቅ ቢሮ ቁ. SL-05A(ከ ሊፍቱ ፊት ለ ፊት)\n\n📍ቁ.2 👉ለቡ  መዳህኒዓለም ቤተ/ክርስቲያን 100ሜ ወደ ሙዚቃ ቤት ከፍ ብሎ  #ዛም_ሞል 2ኛ ፎቅ ቢሮ.ቁ 214\n\n\n    📲 0909522840\n    📲 0923350054\n\n👍ለቡ ቅርንጫፍ📲0973611819\n\n\n🔖\n💬  በTelegram ለማዘዝ ⤵️ ይጠቀሙ\n@shager_onlinestore\n  \nለተጨማሪ ማብራሪያ የቴሌግራም ገፃችን⤵️\nhttps://t.me/Shageronlinestore\n "
        ],
        [
         "113",
         "❇️ Adjustable Posture Corrector\n  \n⚡Corrector Belt\n⚡Great for Men and Women!!\n\n👉የአንገት፣የትከሻ እና የወገብ ህመምን የሚቀርፍ \n👉Spinal-cord መደገፊያ አብሮ የተገጠመለት\n👉 አቅዋሞን በማስተካከል ቀጥ ያል እና ማራኪ ቁመና ለመላበስ የሚመርጡት።\n\n#Size:  Medium, Large, XL, 2XL & 3XL\n\n          ዋጋ፦ ✅ 800 ብር\n\nውስን ፍሬ ነው ያለን/ Limited Stock \n\n🏢 አድራሻ ቁ.1 👉 መገናኛ ታሜ ጋስ ህንፃ ጎን ስሪ ኤም ሲቲ ሞል  ሁለተኛ ፎቅ ቢሮ ቁ. SL-05A(ከ ሊፍቱ ፊት ለ ፊት)\n\n📍ቁ.2 👉ለቡ  መዳህኒዓለም ቤተ/ክርስቲያን 100ሜ ወደ ሙዚቃ ቤት ከፍ ብሎ  #ዛም_ሞል 2ኛ ፎቅ ቢሮ.ቁ 214\n\n\n    📲 0909522840\n    📲 0923350054\n\n👍ለቡ ቅርንጫፍ📲0973611819\n\n\n🔖\n💬  በTelegram ለማዘዝ ⤵️ ይጠቀሙ\n@shager_onlinestore\n  \nለተጨማሪ ማብራሪያ የቴሌግራም ገፃችን⤵️\nhttps://t.me/Shageronlinestore\n "
        ]
       ],
       "shape": {
        "columns": 1,
        "rows": 21847
       }
      },
      "text/plain": [
       "0        💥Miralux Hot plate\\n ባለሁለት ምድጃ ስቶቭ\\n\\n      💯o...\n",
       "1        💥7pcs glass water set\\n\\n✔️ አንድ ማራኪ ጆግና 6 መጠጫ ...\n",
       "6        🎯 Universal water-saving dishwasher head\\n\\n🔰I...\n",
       "7        💥 special base for refrigerator and washing ma...\n",
       "8        💥 special base for refrigerator and washing ma...\n",
       "                               ...                        \n",
       "37362    Air Jordan 4  \\nSize 39,40,41,42,43,44\\nPrice ...\n",
       "37363    Skechers Spring lite \\nSize 40,41,42,43\\nPrice...\n",
       "37364    Skechers lace ultra go\\nSize - 40,41,42,43\\nPr...\n",
       "37365    Nike Air Max ACG\\nSize - 40,41,42,43\\nPrice 32...\n",
       "37366    Nike air max bliss \\nSize 40,41,42,43,44\\nPric...\n",
       "Name: Message, Length: 21847, dtype: object"
      ]
     },
     "execution_count": 10,
     "metadata": {},
     "output_type": "execute_result"
    }
   ],
   "source": [
    "# after cleaning dropping the empty rows\n",
    "combined_df['Message']"
   ]
  },
  {
   "cell_type": "code",
   "execution_count": 11,
   "id": "ae07b3b9",
   "metadata": {},
   "outputs": [
    {
     "name": "stdout",
     "output_type": "stream",
     "text": [
      "Column 'Message' must be of string type for text cleaning.\n"
     ]
    }
   ],
   "source": [
    "# clean up the data\n",
    "combined_df['Message'] = preprocessor.clean_text('Message')\n"
   ]
  },
  {
   "cell_type": "code",
   "execution_count": 12,
   "id": "11a721c0",
   "metadata": {},
   "outputs": [
    {
     "data": {
      "application/vnd.microsoft.datawrangler.viewer.v0+json": {
       "columns": [
        {
         "name": "index",
         "rawType": "int64",
         "type": "integer"
        },
        {
         "name": "Message",
         "rawType": "object",
         "type": "string"
        }
       ],
       "ref": "83f0861a-d223-4f7d-81f9-362ce13042fd",
       "rows": [
        [
         "0",
         "Miralux Hot plate ባለሁለት ምድጃ ስቶቭ orginal 2000 ዋት ፊውዝ የተገጠመለት ትልቅ ድስት መሸከም የሚችል አስተማማኝ ቴርሞስታት ባለ ፊውዝ ዋጋ ትልቁ 2900ብር አድራሻ ቁ1 መገናኛ ስሪ ኤም ሲቲ ሞል ሁለተኛ ፎቅ ቢሮ ቁ SL05Aከ ሊፍቱ ፊት ለ ፊት ቁ2 ለቡ መዳህኒዓለም ቤተክርስቲያን ፊት ለፊት ዛምሞል 2ኛ ፎቅ ቢሮ ቁጥር214 ለቡ ቅርንጫፍ0973611819 0909522840 0923350054 በTelegram ለማዘዝ ይጠቀሙ shageronlinestore ለተጨማሪ ማብራሪያ የቴሌግራም ገፃችን"
        ],
        [
         "1",
         "7pcs glass water set አንድ ማራኪ ጆግና 6 መጠጫ ብርጭቆዎች የፈሳሽ መጠጥ ማቅረቢያ ከፍተኛ ሙቀት የሚቋቋም ኳሊቲ ወፍራም ዋጋ 3400 ብር ውስን ፍሬ ነው የቀረው አድራሻ ቁ1 መገናኛ ታሜ ጋስ ህንፃ ጎን ስሪ ኤም ሲቲ ሞል ሁለተኛ ፎቅ ቢሮ ቁ SL05Aከ ሊፍቱ ፊት ለ ፊት ቁ2 ለቡ መዳህኒዓለም ቤተክርስቲያን 100ሜ ወደ ሙዚቃ ቤት ከፍ ብሎ ዛምሞል 2ኛ ፎቅ ቢሮቁ 214 0909522840 0923350054 ለቡ ቅርንጫፍ0973611819 በTelegram ለማዘዝ ይጠቀሙ shageronlinestore ለተጨማሪ ማብራሪያ የቴሌግራም ገፃችን"
        ],
        [
         "6",
         "Universal watersaving dishwasher head Increase water outlet pressure and rinse efficiently 360 ° rotating head 100 functional ዋጋ 400 ብር ውስን ፍሬ ነው ያለው አድራሻ ቁ1 መገናኛ ታሜ ጋስ ህንፃ ጎን ስሪ ኤም ሲቲ ሞል ሁለተኛ ፎቅ ቢሮ ቁ SL05Aከ ሊፍቱ ፊት ለ ፊት ቁ2 ለቡ መዳህኒዓለም ቤተክርስቲያን ፊት ለፊት ዛምሞል 2ኛ ፎቅ ቢሮ ቁጥር214 0909522840 0923350054 ለቡ ቅርንጫፍ0973611819 በTelegram ለማዘዝ ይጠቀሙ shageronlinestore ለተጨማሪ ማብራሪያ የቴሌግራም ገፃችን"
        ],
        [
         "7",
         "special base for refrigerator and washing machine Home moving furniture caster wheel heavy objects transporter small mover laborsaving moving wheels bed tool ከ45cm እስከ 70cm መለጠጥ የሚችል ዋጋ 2000 ብር ውስን ፍሬ ነው ያለው አድራሻ ቁ1 መገናኛ ታሜ ጋስ ህንፃ ጎን ስሪ ኤም ሲቲ ሞል ሁለተኛ ፎቅ ቢሮ ቁ SL05Aከ ሊፍቱ ፊት ለ ፊት ቁ2 ለቡ መዳህኒዓለም ቤተክርስቲያን ፊት ለፊት ዛምሞል 2ኛ ፎቅ ቢሮ ቁጥር214 0909522840 0923350054 ለቡ ቅርንጫፍ0973611819 በTelegram ለማዘዝ ይጠቀሙ shageronlinestore ለተጨማሪ ማብራሪያ የቴሌግራም ገፃችን"
        ],
        [
         "8",
         "special base for refrigerator and washing machine Home moving furniture caster wheel heavy objects transporter small mover laborsaving moving wheels bed tool ዋጋ 2000 ብር ውስን ፍሬ ነው ያለው አድራሻ ቁ1 መገናኛ ታሜ ጋስ ህንፃ ጎን ስሪ ኤም ሲቲ ሞል ሁለተኛ ፎቅ ቢሮ ቁ SL05Aከ ሊፍቱ ፊት ለ ፊት ቁ2 ለቡ መዳህኒዓለም ቤተክርስቲያን ፊት ለፊት ዛምሞል 2ኛ ፎቅ ቢሮ ቁጥር214 0909522840 0923350054 ለቡ ቅርንጫፍ0973611819 በTelegram ለማዘዝ ይጠቀሙ shageronlinestore ለተጨማሪ ማብራሪያ የቴሌግራም ገፃችን"
        ],
        [
         "13",
         "Vintage Mason Glass Drinking Jar with Straw የራሳቸው ስትሮ ያላቸው እጅግ ውብ የሆኑ የጁስ መጠጫ ብርጭቆወች 500ml ዋጋ 550ብር ውስን ፍሬ ነው ያለው አድራሻ ቁ1 መገናኛ ስሪ ኤም ሲቲ ሞል ሁለተኛ ፎቅ ቢሮ ቁ SL05Aከ ሊፍቱ ፊት ለ ፊት ቁ2 ለቡ መዳህኒዓለም ቤተክርስቲያን ፊት ለፊት ዛምሞል 2ኛ ፎቅ ቢሮ ቁጥር214 ለቡ ቅርንጫፍ0973611819 0909522840 0923350054 በTelegram ለማዘዝ ይጠቀሙ shageronlinestore ለተጨማሪ ማብራሪያ የቴሌግራም ገፃችን"
        ],
        [
         "14",
         "HOBBY LOBBY 3 in 1 Chopper and Garlic Peeler ስጋ እና ሽንኩርት በሰከንዶች ድቅቅ የሚያደርግ የነጭሽንኩርት የራሱ መላጫ ያለው Two 3liter jars One is metal and the other is thick glass With 4 blades and 2 blades grinder Meat gizzards vegetables onions and garlic are ground into it Dried and peeled garlic cloves with a peeler An additional switch with 4 blades 3press grinder ዋጋ 3900ብር ውስን ፍሬ ነው ያለን Limited Stock አድራሻ ቁ1 መገናኛ ታሜ ጋስ ህንፃ ጎን ስሪ ኤም ሲቲ ሞል ሁለተኛ ፎቅ ቢሮ ቁ SL05Aከ ሊፍቱ ፊት ለ ፊት ቁ2 ለቡ መዳህኒዓለም ቤተክርስቲያን 100ሜ ወደ ሙዚቃ ቤት ከፍ ብሎ ዛምሞል 2ኛ ፎቅ ቢሮቁ 214 0909522840 0923350054 ለቡ ቅርንጫፍ0973611819 በTelegram ለማዘዝ ይጠቀሙ shageronlinestore ለተጨማሪ ማብራሪያ የቴሌግራም ገፃችን"
        ],
        [
         "15",
         "HOBBY LOBBY 3 in 1 Chopper and Garlic Peeler ስጋ እና ሽንኩርት በሰከንዶች ድቅቅ የሚያደርግ የነጭሽንኩርት የራሱ መላጫ ያለው Two 3liter jars One is metal and the other is thick glass With 4 blades and 2 blades grinder Meat gizzards vegetables onions and garlic are ground into it Dried and peeled garlic cloves with a peeler An additional switch with 4 blades 3press grinder ዋጋ 3900ብር ውስን ፍሬ ነው ያለን Limited Stock አድራሻ ቁ1 መገናኛ ታሜ ጋስ ህንፃ ጎን ስሪ ኤም ሲቲ ሞል ሁለተኛ ፎቅ ቢሮ ቁ SL05Aከ ሊፍቱ ፊት ለ ፊት ቁ2 ለቡ መዳህኒዓለም ቤተክርስቲያን 100ሜ ወደ ሙዚቃ ቤት ከፍ ብሎ ዛምሞል 2ኛ ፎቅ ቢሮቁ 214 0909522840 0923350054 ለቡ ቅርንጫፍ0973611819 በTelegram ለማዘዝ ይጠቀሙ shageronlinestore ለተጨማሪ ማብራሪያ የቴሌግራም ገፃችን"
        ],
        [
         "17",
         "HOBBY LOBBY 3 in 1 Chopper and Garlic Peeler ስጋ እና ሽንኩርት በሰከንዶች ድቅቅ የሚያደርግ የነጭሽንኩርት የራሱ መላጫ ያለው Two 3liter jars One is metal and the other is thick glass With 4 blades and 2 blades grinder Meat gizzards vegetables onions and garlic are ground into it Dried and peeled garlic cloves with a peeler An additional switch with 4 blades 3press grinder ዋጋ 3900ብር ውስን ፍሬ ነው ያለን Limited Stock አድራሻ ቁ1 መገናኛ ታሜ ጋስ ህንፃ ጎን ስሪ ኤም ሲቲ ሞል ሁለተኛ ፎቅ ቢሮ ቁ SL05Aከ ሊፍቱ ፊት ለ ፊት ቁ2 ለቡ መዳህኒዓለም ቤተክርስቲያን 100ሜ ወደ ሙዚቃ ቤት ከፍ ብሎ ዛምሞል 2ኛ ፎቅ ቢሮቁ 214 0909522840 0923350054 ለቡ ቅርንጫፍ0973611819 በTelegram ለማዘዝ ይጠቀሙ shageronlinestore ለተጨማሪ ማብራሪያ የቴሌግራም ገፃችን"
        ],
        [
         "23",
         "አልቆልለተባላችሁበድጋሚአስገብተናል የመስታዎት ፓትራዎች glass bakewares Rectagular shape ገበታ ላይ መቅረብ የሚችሉ ውብ የመስታዎት ፓትራዎች ሶስት የተለያየ መጠን ያላቸው 31 ሊ 25 ሊ 18ሊ ፓትራዎችን የያዘ ለላዛኛ ፓስታ ፍርኖ ኬክ ተመራጭ ውብና ማራኪ ገበታ ላይ መቅረብ የሚችሉ ውፍራም ማንኛውንም ሙቀት የሚቋቋም ዋጋ ሶስቱን በ 3800 ብር ውስን ፍሬ ነው ያለን Limited Stock አድራሻ ቁ1 መገናኛ ታሜ ጋስ ህንፃ ጎን ስሪ ኤም ሲቲ ሞል ሁለተኛ ፎቅ ቢሮ ቁ SL05Aከ ሊፍቱ ፊት ለ ፊት ቁ2 ለቡ መዳህኒዓለም ቤተክርስቲያን 100ሜ ወደ ሙዚቃ ቤት ከፍ ብሎ ዛምሞል 2ኛ ፎቅ ቢሮቁ 214 0909522840 0923350054 ለቡ ቅርንጫፍ0973611819 በTelegram ለማዘዝ ይጠቀሙ shageronlinestore ለተጨማሪ ማብራሪያ የቴሌግራም ገፃችን"
        ],
        [
         "24",
         "portable foldable mosquito net for kids በቀላሉ ይዞ ለመንቀሳቀስ አመቺ ልጆችዎን ከቢንቢ እና ከተለያዩ ነፍሳት የሚጠብቅ size100cm60cm ዋጋ1400ብር አድራሻ ቁ1 መገናኛ ስሪ ኤም ሲቲ ሞል ሁለተኛ ፎቅ ቢሮ ቁ SL05Aከ ሊፍቱ ፊት ለ ፊት ቁ2 ለቡ መዳህኒዓለም ቤተክርስቲያን ፊት ለፊት ዛምሞል 2ኛ ፎቅ ቢሮ ቁጥር214 ለቡ ቅርንጫፍ0971611819 0909522840 0923350054 በTelegram ለማዘዝ ይጠቀሙ shageronlinestore ለተጨማሪ ማብራሪያ የቴሌግራም ገፃችን"
        ],
        [
         "25",
         "3in1 delux multifunctional bassinet ከግራ ወደቀኝ እየተንቀሳቀሰ ልጆችን እሹሩሩ እያለ የሚያጫውት የሚያስተኛ የራሱ ሪሞት ያለው የራሱ ሙዚቃዎች ያሉት እንዲሁም በብሉቱዝ እና በፍላሽ የምንፈልገውን ሙዚቃ ማጫዎት እንችላለን በሶኬት እና በባትሪ ድንጋይ የሚሰራ ልጆች ከፍ ሲሉ እንደ ወንበር ያገለግላቸዋል ዋጋ 14000 ብር ውስን ፍሬ ነው ያለው አድራሻ ቁ1 መገናኛ ታሜ ጋስ ህንፃ ጎን ስሪ ኤም ሲቲ ሞል ሁለተኛ ፎቅ ቢሮ ቁ SL05Aከ ሊፍቱ ፊት ለ ፊት ቁ2 ለቡ መዳህኒዓለም ቤተክርስቲያን 100ሜ ወደ ሙዚቃ ቤት ከፍ ብሎ ዛምሞል 2ኛ ፎቅ ቢሮቁ 214 0909522840 0923350054 ለቡ ቅርንጫፍ0973611819 በTelegram ለማዘዝ ይጠቀሙ shageronlinestore ለተጨማሪ ማብራሪያ የቴሌግራም ገፃችን"
        ],
        [
         "26",
         "3in1 delux multifunctional bassinet ከግራ ወደቀኝ እየተንቀሳቀሰ ልጆችን እሹሩሩ እያለ የሚያጫውት የሚያስተኛ የራሱ ሪሞት ያለው የራሱ ሙዚቃዎች ያሉት እንዲሁም በብሉቱዝ እና በፍላሽ የምንፈልገውን ሙዚቃ ማጫዎት እንችላለን በሶኬት እና በባትሪ ድንጋይ የሚሰራ ልጆች ከፍ ሲሉ እንደ ወንበር ያገለግላቸዋል ዋጋ 14000 ብር ውስን ፍሬ ነው ያለው አድራሻ ቁ1 መገናኛ ታሜ ጋስ ህንፃ ጎን ስሪ ኤም ሲቲ ሞል ሁለተኛ ፎቅ ቢሮ ቁ SL05Aከ ሊፍቱ ፊት ለ ፊት ቁ2 ለቡ መዳህኒዓለም ቤተክርስቲያን 100ሜ ወደ ሙዚቃ ቤት ከፍ ብሎ ዛምሞል 2ኛ ፎቅ ቢሮቁ 214 0909522840 0923350054 ለቡ ቅርንጫፍ0973611819 በTelegram ለማዘዝ ይጠቀሙ shageronlinestore ለተጨማሪ ማብራሪያ የቴሌግራም ገፃችን"
        ],
        [
         "35",
         "Electric Hot plate በኤሌክትሪክ የሚሰራ የራሱ ሙቀት መቆጣጠሪያ ያለው 1400 watt ለማንቀሳቀስ የራሱ መያዣ ያለው ከጀበና እስከ ትልቅ ድስቶች የሚመች ዋጋ 4500ብር ውስን ፍሬ ነው የቀረው አድራሻ ቁ1 መገናኛ ታሜ ጋስ ህንፃ ጎን ስሪ ኤም ሲቲ ሞል ሁለተኛ ፎቅ ቢሮ ቁ SL05Aከ ሊፍቱ ፊት ለ ፊት ቁ2 ለቡ መዳህኒዓለም ቤተክርስቲያን 100ሜ ወደ ሙዚቃ ቤት ከፍ ብሎ ዛምሞል 2ኛ ፎቅ ቢሮቁ 214 0909522840 0923350054 ለቡ ቅርንጫፍ0973611819 በTelegram ለማዘዝ ይጠቀሙ shageronlinestore ለተጨማሪ ማብራሪያ የቴሌግራም ገፃችን"
        ],
        [
         "40",
         "Portable Folding Stool ተጣጣፊ ወንበር እስከ 100kg ክብደት የሚሸከም ከወፍራም ፕላስቲክ የተሰራ ቤተ ዕምነት ውስጥ ቤት ውስጥ ስራ ቦታ እና መዝናኛ ቦታ ይገለገሉበታል 48cm ቁመት ሲኖረው መቀመጫው 22cm×28cm ስፋት ያለው ለመያዝና ለማስቀመጥ የሚመች ቅልጥፋ ያለ ዋጋትልቁ1700 ብር ትንሹ1500ብር ውስን ፍሬ ነው ያለው አድራሻ ቁ1 መገናኛ ታሜ ጋስ ህንፃ ጎን ስሪ ኤም ሲቲ ሞል ሁለተኛ ፎቅ ቢሮ ቁ SL05Aከ ሊፍቱ ፊት ለ ፊት ቁ2 ለቡ መዳህኒዓለም ቤተክርስቲያን 100ሜ ወደ ሙዚቃ ቤት ከፍ ብሎ ዛምሞል 2ኛ ፎቅ ቢሮቁ 214 0909522840 0923350054 ለቡ ቅርንጫፍ0973611819 በTelegram ለማዘዝ ይጠቀሙ shageronlinestore ለተጨማሪ ማብራሪያ የቴሌግራም ገፃችን"
        ],
        [
         "41",
         "Multifunction Juice Extractor ለአፕል ብርቱካን ካሮት አናናስ ቲማቲም… የመሳሰሉትን እየጨመቀ ቆሻሻውን ለብቻ እያጣራ ውሃውን እየጨመቀ ወደራሱ ጆክ የሚቀዳ የፍራፍሬ ዋጋ 5500 ብር ውስን ፍሬ ነው የቀረው አድራሻ ቁ1 መገናኛ ታሜ ጋስ ህንፃ ጎን ስሪ ኤም ሲቲ ሞል ሁለተኛ ፎቅ ቢሮ ቁ SL05Aከ ሊፍቱ ፊት ለ ፊት ቁ2 ለቡ መዳህኒዓለም ቤተክርስቲያን 100ሜ ወደ ሙዚቃ ቤት ከፍ ብሎ ዛምሞል 2ኛ ፎቅ ቢሮቁ 214 0909522840 0923350054 ለቡ ቅርንጫፍ0973611819 በTelegram ለማዘዝ ይጠቀሙ shageronlinestore ለተጨማሪ ማብራሪያ የቴሌግራም ገፃችን"
        ],
        [
         "44",
         "Multifunction Juice Extractor ለአፕል ብርቱካን ካሮት አናናስ ቲማቲም… የመሳሰሉትን እየጨመቀ ቆሻሻውን ለብቻ እያጣራ ውሃውን እየጨመቀ ወደራሱ ጆክ የሚቀዳ የፍራፍሬ ዋጋ 5500 ብር ውስን ፍሬ ነው የቀረው አድራሻ ቁ1 መገናኛ ታሜ ጋስ ህንፃ ጎን ስሪ ኤም ሲቲ ሞል ሁለተኛ ፎቅ ቢሮ ቁ SL05Aከ ሊፍቱ ፊት ለ ፊት ቁ2 ለቡ መዳህኒዓለም ቤተክርስቲያን 100ሜ ወደ ሙዚቃ ቤት ከፍ ብሎ ዛምሞል 2ኛ ፎቅ ቢሮቁ 214 0909522840 0923350054 ለቡ ቅርንጫፍ0973611819 በTelegram ለማዘዝ ይጠቀሙ shageronlinestore ለተጨማሪ ማብራሪያ የቴሌግራም ገፃችን"
        ],
        [
         "47",
         "1pc stainless steel loaf pan ትልቁ ዋጋትልቁ1000ብር ውስን ፍሬ ነው ያለው አድራሻ ቁ1 ስሪ ኤም ሲቲ ሞል ሁለተኛ ፎቅ ቢሮ ቁ SL05Aከ ሊፍቱ ፊት ለ ፊት ቁ2 ለቡ መዳህኒዓለም ቤተክርስቲያን ፊት ለፊት ዛምሞል 2ኛ ፎቅ ቢሮ ቁጥር214 ለቡ ቅርንጫፍ0973611819 0909522840 0923350054 በTelegram ለማዘዝ ይጠቀሙ shageronlinestore ለተጨማሪ ማብራሪያ የቴሌግራም ገፃችን"
        ],
        [
         "51",
         "Infantino Cuddle Up Ergonomic Baby Carrier Carries children from 1240lbs 54 181 kgs Comfortable ergonomic seat for baby 2 ways to carry Front and Backpack Removable canopy hood with adorable teddy bear styling Machine washable ዋጋ 3200 ብር አድራሻ ቁ1 መገናኛ ታሜ ጋስ ህንፃ ጎን ስሪ ኤም ሲቲ ሞል ሁለተኛ ፎቅ ቢሮ ቁ SL05Aከ ሊፍቱ ፊት ለ ፊት ቁ2 ለቡ መዳህኒዓለም ቤተክርስቲያን ፊት ለፊት ዛምሞል 2ኛ ፎቅ ቢሮ ቁጥር214 0909522840 0923350054 ለቡ ቅርንጫፍ0973611819 በTelegram ለማዘዝ ይጠቀሙ shageronlinestore ለተጨማሪ ማብራሪያ የቴሌግራም ገፃችን"
        ],
        [
         "54",
         "Expanding Cookware Organiser minimum size 305cm Maximum size 56cm ዋጋ 850 ብር ውስን ፍሬ ነው ያለው አድራሻ መገናኛ ስሪ ኤም ሲቲ ሞል ሁለተኛ ፎቅ ቢሮ ቁ SL05Aከ ሊፍቱ ፊት ለ ፊት ቁ2 ለቡ መዳህኒዓለም ቤተክርስቲያን 100ሜ ወደ ሙዚቃ ቤት ከፍ ብሎ ዛምሞል 2ኛ ፎቅ ቢሮቁ 214 0909522840 0923350054 ለቡ ቅርንጫፍ0973611819 በTelegram ለማዘዝ ይጠቀሙ shageronlinestore ለተጨማሪ ማብራሪያ የቴሌግራም ገፃችን"
        ],
        [
         "55",
         "Garlic press Chopper Kitchen ginger garlic pressQuick grindingSaving you time Manual extrusion and grinding Stainless steel materialFood grade safety materialDurable and easy to clean Curved plastic handleComfortable to use ዋጋ 350 ብር ውስን ፍሬ ነው ያለን Limited Stock ዉስን ፍሬ ነው ያለን አድራሻ ቁ1 መገናኛ ታሜ ጋስ ህንፃ ጎን ስሪ ኤም ሲቲ ሞል ሁለተኛ ፎቅ ቢሮ ቁ SL05Aከ ሊፍቱ ፊት ለ ፊት ቁ2 ለቡ መዳህኒዓለም ቤተክርስቲያን 100ሜ ወደ ሙዚቃ ቤት ከፍ ብሎ ዛምሞል 2ኛ ፎቅ ቢሮቁ 214 0909522840 0923350054 ለቡ ቅርንጫፍ0973611819 በTelegram ለማዘዝ ይጠቀሙ shageronlinestore ለተጨማሪ ማብራሪያ የቴሌግራም ገፃችን"
        ],
        [
         "60",
         "36 pairs over the door shoe rack በቀላሉ የሚገጣጠም የሚነቃቀል ኑሮን የሚያቀል ቦታ የማይዝ ለአጠቃቀም በጣም ቀላል ባለ 12 መደርደሪያ 36 ጫማ የሚይዝ በር ላይ ተንጠልጣይ Size 5020183cm ዋጋ3100 ብር ውስን ፍሬ ነው ያለን Limited Stock አድራሻ ቁ1 መገናኛ ታሜ ጋስ ህንፃ ጎን ስሪ ኤም ሲቲ ሞል ሁለተኛ ፎቅ ቢሮ ቁ SL05Aከ ሊፍቱ ፊት ለ ፊት ቁ2 ለቡ መዳህኒዓለም ቤተክርስቲያን 100ሜ ወደ ሙዚቃ ቤት ከፍ ብሎ ዛምሞል 2ኛ ፎቅ ቢሮቁ 214 0909522840 0923350054 ለቡ ቅርንጫፍ0973611819 በTelegram ለማዘዝ ይጠቀሙ shageronlinestore ለተጨማሪ ማብራሪያ የቴሌግራም ገፃችን"
        ],
        [
         "61",
         "36 pairs over the door shoe rack በቀላሉ የሚገጣጠም የሚነቃቀል ኑሮን የሚያቀል ቦታ የማይዝ ለአጠቃቀም በጣም ቀላል ባለ 12 መደርደሪያ 36 ጫማ የሚይዝ በር ላይ ተንጠልጣይ Size 5020183cm ዋጋ3100 ብር ውስን ፍሬ ነው ያለን Limited Stock አድራሻ ቁ1 መገናኛ ታሜ ጋስ ህንፃ ጎን ስሪ ኤም ሲቲ ሞል ሁለተኛ ፎቅ ቢሮ ቁ SL05Aከ ሊፍቱ ፊት ለ ፊት ቁ2 ለቡ መዳህኒዓለም ቤተክርስቲያን 100ሜ ወደ ሙዚቃ ቤት ከፍ ብሎ ዛምሞል 2ኛ ፎቅ ቢሮቁ 214 0909522840 0923350054 ለቡ ቅርንጫፍ0973611819 በTelegram ለማዘዝ ይጠቀሙ shageronlinestore ለተጨማሪ ማብራሪያ የቴሌግራም ገፃችን"
        ],
        [
         "62",
         "Rechargeable Breast Pump BPA Free portable ዋጋ 2100 ብር አድራሻ ቁ1 መገናኛ ታሜ ጋስ ህንፃ ጎን ስሪ ኤም ሲቲ ሞል ሁለተኛ ፎቅ ቢሮ ቁ SL05Aከ ሊፍቱ ፊት ለ ፊት ቁ2 ለቡ መዳህኒዓለም ቤተክርስቲያን ፊት ለፊት ዛምሞል 2ኛ ፎቅ ቢሮ ቁጥር214 0909522840 0923350054 ለቡ ቅርንጫፍ0973611819 በTelegram ለማዘዝ ይጠቀሙ shageronlinestore ለተጨማሪ ማብራሪያ የቴሌግራም ገፃችን"
        ],
        [
         "67",
         "Rechargeable Breast Pump BPA Free portable ዋጋ 2100 ብር አድራሻ ቁ1 መገናኛ ታሜ ጋስ ህንፃ ጎን ስሪ ኤም ሲቲ ሞል ሁለተኛ ፎቅ ቢሮ ቁ SL05Aከ ሊፍቱ ፊት ለ ፊት ቁ2 ለቡ መዳህኒዓለም ቤተክርስቲያን ፊት ለፊት ዛምሞል 2ኛ ፎቅ ቢሮ ቁጥር214 0909522840 0923350054 ለቡ ቅርንጫፍ0973611819 በTelegram ለማዘዝ ይጠቀሙ shageronlinestore ለተጨማሪ ማብራሪያ የቴሌግራም ገፃችን"
        ],
        [
         "68",
         "SAACHI CERAMIC PIZZA PAN ለቤትና ለሬስቶራንት አገልግሎት የሚውል ለአጠቃቀም ሆነ ለአያያዝ ቀላልና ምቹ የሆነ እንዲሁም ለፒዛ ለቡና መቁያነት ለአንባሻ ለጨጨብሳ ለፈጢራ ለዳቦ ለጥብስና ለተለያዩ አገልግሎቶች የሚሆን ከ normal pizza pan በጥራት የተሻለ አነስተኛ የኤሌክትሪክ ፍጆታ የሚጠቀም ዋጋ6000ብር ውስን ፍሬ ነው ያለው አድራሻ ቁ1 መገናኛ ስሪ ኤም ሲቲ ሞል ሁለተኛ ፎቅ ቢሮ ቁ SL05Aከ ሊፍቱ ፊት ለ ፊት ቁ2 ለቡ መዳህኒዓለም ቤተክርስቲያን ፊት ለፊት ዛምሞል 2ኛ ፎቅ ቢሮ ቁጥር214 ለቡ ቅርንጫፍ0973611819 0909522840 0923350054 በTelegram ለማዘዝ ይጠቀሙ shageronlinestore ለተጨማሪ ማብራሪያ የቴሌግራም ገፃችን"
        ],
        [
         "69",
         "12pcs Silicone Kitchen Set 220°c ድረስ መቆቆም እሚችል available in different colors ዋጋ 2000ብር አድራሻ ቁ1 መገናኛ ስሪ ኤም ሲቲ ሞል ሁለተኛ ፎቅ ቢሮ ቁ SL05Aከ ሊፍቱ ፊት ለ ፊት ቁ2 ለቡ መዳህኒዓለም ቤተክርስቲያን ፊት ለፊት ዛምሞል 2ኛ ፎቅ ቢሮ ቁጥር214 ለቡ ቅርንጫፍ0973611819 0909522840 0923350054 በTelegram ለማዘዝ ይጠቀሙ shageronlinestore ለተጨማሪ ማብራሪያ የቴሌግራም ገፃችን"
        ],
        [
         "71",
         "12pcs Silicone Kitchen Set 220°c ድረስ መቆቆም እሚችል available in different colors ዋጋ 2000ብር አድራሻ ቁ1 መገናኛ ስሪ ኤም ሲቲ ሞል ሁለተኛ ፎቅ ቢሮ ቁ SL05Aከ ሊፍቱ ፊት ለ ፊት ቁ2 ለቡ መዳህኒዓለም ቤተክርስቲያን ፊት ለፊት ዛምሞል 2ኛ ፎቅ ቢሮ ቁጥር214 ለቡ ቅርንጫፍ0973611819 0909522840 0923350054 በTelegram ለማዘዝ ይጠቀሙ shageronlinestore ለተጨማሪ ማብራሪያ የቴሌግራም ገፃችን"
        ],
        [
         "72",
         "kitchen knife set ዋጋ2500ብር ውስን ፍሬ ነው ያለው አድራሻ ቁ1 መገናኛ ታሜ ጋስ ህንፃ ጎን ስሪ ኤም ሲቲ ሞል ሁለተኛ ፎቅ ቢሮ ቁ SL05Aከ ሊፍቱ ፊት ለ ፊት ቁ2 ለቡ መዳህኒዓለም ቤተክርስቲያን ፊት ለፊት ዛምሞል 2ኛ ፎቅ ቢሮ ቁጥር214 0909522840 0923350054 ለቡ ቅርንጫፍ0973611819 በTelegram ለማዘዝ ይጠቀሙ shageronlinestore ለተጨማሪ ማብራሪያ የቴሌግራም ገፃችን"
        ],
        [
         "73",
         "360° rotating cake turntable Size28cm cakedecorating turntable makes it simple to decorate profrssional looking desserts at home great for left and right handed decorates makes the decorating process easy non slip surface on top of the patform keeps cake or cake board in place while you decorate ዋጋ1300ብር ውስን ፍሬ ነው ያለን Limited Stock አድራሻ ቁ1 መገናኛ ታሜ ጋስ ህንፃ ጎን ስሪ ኤም ሲቲ ሞል ሁለተኛ ፎቅ ቢሮ ቁ SL05Aከ ሊፍቱ ፊት ለ ፊት ቁ2 ለቡ መዳህኒዓለም ቤተክርስቲያን 100ሜ ወደ ሙዚቃ ቤት ከፍ ብሎ ዛምሞል 2ኛ ፎቅ ቢሮቁ 214 0909522840 0923350054 ለቡ ቅርንጫፍ0973611819 በTelegram ለማዘዝ ይጠቀሙ shageronlinestore ለተጨማሪ ማብራሪያ የቴሌግራም ገፃችን"
        ],
        [
         "76",
         "360° rotating cake turntable Size28cm cakedecorating turntable makes it simple to decorate profrssional looking desserts at home great for left and right handed decorates makes the decorating process easy non slip surface on top of the patform keeps cake or cake board in place while you decorate ዋጋ1300ብር ውስን ፍሬ ነው ያለን Limited Stock አድራሻ ቁ1 መገናኛ ታሜ ጋስ ህንፃ ጎን ስሪ ኤም ሲቲ ሞል ሁለተኛ ፎቅ ቢሮ ቁ SL05Aከ ሊፍቱ ፊት ለ ፊት ቁ2 ለቡ መዳህኒዓለም ቤተክርስቲያን 100ሜ ወደ ሙዚቃ ቤት ከፍ ብሎ ዛምሞል 2ኛ ፎቅ ቢሮቁ 214 0909522840 0923350054 ለቡ ቅርንጫፍ0973611819 በTelegram ለማዘዝ ይጠቀሙ shageronlinestore ለተጨማሪ ማብራሪያ የቴሌግራም ገፃችን"
        ],
        [
         "80",
         "Manual Fruit Juicer with jug ማንዋል የሎሚ እና የብርቱካን መጭመቂያ Safe Quick Super Easy to Clean and Effective Juicing ዋጋ 1000 ብር ውስን ፍሬ ነው የቀረው አድራሻ ቁ1 መገናኛ ታሜ ጋስ ህንፃ ጎን ስሪ ኤም ሲቲ ሞል ሁለተኛ ፎቅ ቢሮ ቁ SL05Aከ ሊፍቱ ፊት ለ ፊት ቁ2 ለቡ መዳህኒዓለም ቤተክርስቲያን ፊት ለፊት ዛምሞል 2ኛ ፎቅ ቢሮ ቁጥር214 0909522840 0923350054 ለቡ ቅርንጫፍ0973611819 በTelegram ለማዘዝ ይጠቀሙ shageronlinestore ለተጨማሪ ማብራሪያ የቴሌግራም ገፃችን"
        ],
        [
         "81",
         "Manual Fruit Juicer ማንዋል የሎሚ እና የብርቱካን መጭመቂያ Safe Quick Super Easy to Clean and Effective Juicing ዋጋ 1000 ብር ውስን ፍሬ ነው የቀረው አድራሻ ቁ1 መገናኛ ታሜ ጋስ ህንፃ ጎን ስሪ ኤም ሲቲ ሞል ሁለተኛ ፎቅ ቢሮ ቁ SL05Aከ ሊፍቱ ፊት ለ ፊት ቁ2 ለቡ መዳህኒዓለም ቤተክርስቲያን ፊት ለፊት ዛምሞል 2ኛ ፎቅ ቢሮ ቁጥር214 0909522840 0923350054 ለቡ ቅርንጫፍ0973611819 በTelegram ለማዘዝ ይጠቀሙ shageronlinestore ለተጨማሪ ማብራሪያ የቴሌግራም ገፃችን"
        ],
        [
         "82",
         "Momcoc Smiley Face Non Stick Pancake Pan Granite coated pan 100 የማይዝ በአንድ ግዜ 7 ኬክ ይጋግራል ዋጋ 1700 ብር ውስን ፍሬ ነው ያለን Limited Stock አድራሻ ቁ1 መገናኛ ታሜ ጋስ ህንፃ ጎን ስሪ ኤም ሲቲ ሞል ሁለተኛ ፎቅ ቢሮ ቁ SL05Aከ ሊፍቱ ፊት ለ ፊት ቁ2 ለቡ መዳህኒዓለም ቤተክርስቲያን ፊት ለፊት ዛምሞል 2ኛ ፎቅ ቢሮ ቁጥር214 0909522840 0923350054 ለቡ ቅርንጫፍ0973611819 በTelegram ለማዘዝ ይጠቀሙ shageronlinestore ለተጨማሪ ማብራሪያ የቴሌግራም ገፃችን"
        ],
        [
         "85",
         "Momcoc Smiley Face Non Stick Pancake Pan Granite coated pan 100 የማይዝ በአንድ ግዜ 7 ኬክ ይጋግራል ዋጋ 1700 ብር ውስን ፍሬ ነው ያለን Limited Stock አድራሻ ቁ1 መገናኛ ታሜ ጋስ ህንፃ ጎን ስሪ ኤም ሲቲ ሞል ሁለተኛ ፎቅ ቢሮ ቁ SL05Aከ ሊፍቱ ፊት ለ ፊት ቁ2 ለቡ መዳህኒዓለም ቤተክርስቲያን ፊት ለፊት ዛምሞል 2ኛ ፎቅ ቢሮ ቁጥር214 0909522840 0923350054 ለቡ ቅርንጫፍ0973611819 በTelegram ለማዘዝ ይጠቀሙ shageronlinestore ለተጨማሪ ማብራሪያ የቴሌግራም ገፃችን"
        ],
        [
         "86",
         "wc toilet rackwashing machin rack የመፀዳጃ ቤትዕቃዎች መደርደሪያ ጠንካራ ብረት ሼልፉ የላሜራ ብዙ ነገሮችን ያስቀምጡበታል አገጣጠሙ ቀላል በራሱ የሚቆም 160ሜትር ቁመት 47ሣሜ ስፋት እና ሰፊው አካላ 25ሣሜ ጥልቀት ያለው ለኮንዶሚኒየምአፓርታማ ቤቶች የሚፈለግ ዋጋ 3700ብር ውስን ፍሬ ነው ያለው አድራሻ ቁ1 መገናኛ ስሪ ኤም ሲቲ ሞል ሁለተኛ ፎቅ ቢሮ ቁ SL05Aከ ሊፍቱ ፊት ለ ፊት ቁ2 ለቡ መዳህኒዓለም ቤተክርስቲያን ፊት ለፊት ዛምሞል 2ኛ ፎቅ ቢሮ ቁጥር214 ለቡ ቅርንጫፍ0973611819 0909522840 0923350054 በTelegram ለማዘዝ ይጠቀሙ shageronlinestore ለተጨማሪ ማብራሪያ የቴሌግራም ገፃችን"
        ],
        [
         "87",
         "wc toilet rackwashing machin rack የመፀዳጃ ቤትዕቃዎች መደርደሪያ ጠንካራ ብረት ሼልፉ የላሜራ ብዙ ነገሮችን ያስቀምጡበታል አገጣጠሙ ቀላል በራሱ የሚቆም 160ሜትር ቁመት 47ሣሜ ስፋት እና ሰፊው አካላ 25ሣሜ ጥልቀት ያለው ለኮንዶሚኒየምአፓርታማ ቤቶች የሚፈለግ ዋጋ 3700ብር ውስን ፍሬ ነው ያለው አድራሻ ቁ1 መገናኛ ስሪ ኤም ሲቲ ሞል ሁለተኛ ፎቅ ቢሮ ቁ SL05Aከ ሊፍቱ ፊት ለ ፊት ቁ2 ለቡ መዳህኒዓለም ቤተክርስቲያን ፊት ለፊት ዛምሞል 2ኛ ፎቅ ቢሮ ቁጥር214 ለቡ ቅርንጫፍ0973611819 0909522840 0923350054 በTelegram ለማዘዝ ይጠቀሙ shageronlinestore ለተጨማሪ ማብራሪያ የቴሌግራም ገፃችን"
        ],
        [
         "88",
         "ለመላው የእስልምና እምነት ተከታዮች በሙሉ እንኳን 1446ኛው የኢድ አል አድሃ አረፋ በዓል በሰላም አደረሳችሁ ዛሬሙሉቀንሱቃችንክፍትነው ኢድ ሙባረክ መልካም በዓል አድራሻ መገናኛ ስሪ ኤም ሲቲ ሞል ሁለተኛ ፎቅ ቢሮ ቁ SL05Aከ ሊፍቱ ፊት ለ ፊት 0909522840 0923350054 በTelegram ለማዘዝ ይጠቀሙ shageronlinestore ለተጨማሪ ማብራሪያ የቴሌግራም ገፃችን"
        ],
        [
         "93",
         "1pc under sink organizer sink splash guard waterproof and mildow proof mat For kitchen and bathroom over sink organizer available color gray ዋጋ700ብር ውስን ፍሬ ነው ያለው አድራሻ ቁ1 መገናኛ ታሜ ጋስ ህንፃ ጎን ስሪ ኤም ሲቲ ሞል ሁለተኛ ፎቅ ቢሮ ቁ SL05Aከ ሊፍቱ ፊት ለ ፊት ቁ2 ለቡ መዳህኒዓለም ቤተክርስቲያን 100ሜ ወደ ሙዚቃ ቤት ከፍ ብሎ ዛምሞል 2ኛ ፎቅ ቢሮቁ 214 0909522840 0923350054 ለቡ ቅርንጫፍ0973611819 በTelegram ለማዘዝ ይጠቀሙ shageronlinestore ለተጨማሪ ማብራሪያ የቴሌግራም ገፃችን"
        ],
        [
         "94",
         "Lint remover Fabric shaver for clothes በቻርጅ የሚሰራ ዋጋ 900 ብር ውስን ፍሬ ነው ያለው ውስን ፍሬ ነው ያለን Limited Stock አድራሻ ቁ1 መገናኛ ታሜ ጋስ ህንፃ ጎን ስሪ ኤም ሲቲ ሞል ሁለተኛ ፎቅ ቢሮ ቁ SL05Aከ ሊፍቱ ፊት ለ ፊት ቁ2 ለቡ መዳህኒዓለም ቤተክርስቲያን 100ሜ ወደ ሙዚቃ ቤት ከፍ ብሎ ዛምሞል 2ኛ ፎቅ ቢሮቁ 214 0909522840 0923350054 ለቡ ቅርንጫፍ0973611819 በTelegram ለማዘዝ ይጠቀሙ shageronlinestore ለተጨማሪ ማብራሪያ የቴሌግራም ገፃችን"
        ],
        [
         "96",
         "Lint remover Fabric shaver for clothes በቻርጅ የሚሰራ ዋጋ 900 ብር ውስን ፍሬ ነው ያለን Limited Stock አድራሻ ቁ1 መገናኛ ታሜ ጋስ ህንፃ ጎን ስሪ ኤም ሲቲ ሞል ሁለተኛ ፎቅ ቢሮ ቁ SL05Aከ ሊፍቱ ፊት ለ ፊት ቁ2 ለቡ መዳህኒዓለም ቤተክርስቲያን 100ሜ ወደ ሙዚቃ ቤት ከፍ ብሎ ዛምሞል 2ኛ ፎቅ ቢሮቁ 214 0909522840 0923350054 ለቡ ቅርንጫፍ0973611819 በTelegram ለማዘዝ ይጠቀሙ shageronlinestore ለተጨማሪ ማብራሪያ የቴሌግራም ገፃችን"
        ],
        [
         "99",
         "Head protector helmet for kids ዋጋ550ብር አድራሻ ቁ1 መገናኛ ስሪ ኤም ሲቲ ሞል ሁለተኛ ፎቅ ቢሮ ቁ SL05Aከ ሊፍቱ ፊት ለ ፊት ቁ2 ለቡ መዳህኒዓለም ቤተክርስቲያን ፊት ለፊት ዛምሞል 2ኛ ፎቅ ቢሮ ቁጥር214 ለቡ ቅርንጫፍ0971611819 0909522840 0923350054 በTelegram ለማዘዝ ይጠቀሙ shageronlinestore ለተጨማሪ ማብራሪያ የቴሌግራም ገፃችን"
        ],
        [
         "100",
         "Head protector helmet for kids ዋጋ550ብር አድራሻ ቁ1 መገናኛ ስሪ ኤም ሲቲ ሞል ሁለተኛ ፎቅ ቢሮ ቁ SL05Aከ ሊፍቱ ፊት ለ ፊት ቁ2 ለቡ መዳህኒዓለም ቤተክርስቲያን ፊት ለፊት ዛምሞል 2ኛ ፎቅ ቢሮ ቁጥር214 ለቡ ቅርንጫፍ0973611819 0909522840 0923350054 በTelegram ለማዘዝ ይጠቀሙ shageronlinestore ለተጨማሪ ማብራሪያ የቴሌግራም ገፃችን"
        ],
        [
         "101",
         "Anti slip kids shoes እማያንሸራትት ዋጋ600ብር አድራሻ ቁ1 መገናኛ ስሪ ኤም ሲቲ ሞል ሁለተኛ ፎቅ ቢሮ ቁ SL05Aከ ሊፍቱ ፊት ለ ፊት ቁ2 ለቡ መዳህኒዓለም ቤተክርስቲያን ፊት ለፊት ዛምሞል 2ኛ ፎቅ ቢሮ ቁጥር214 ለቡ ቅርንጫፍ0973611819 0909522840 0923350054 በTelegram ለማዘዝ ይጠቀሙ shageronlinestore ለተጨማሪ ማብራሪያ የቴሌግራም ገፃችን"
        ],
        [
         "105",
         "Anti slip kids shoes እማያንሸራትት ዋጋ600ብር አድራሻ ቁ1 መገናኛ ስሪ ኤም ሲቲ ሞል ሁለተኛ ፎቅ ቢሮ ቁ SL05Aከ ሊፍቱ ፊት ለ ፊት ቁ2 ለቡ መዳህኒዓለም ቤተክርስቲያን ፊት ለፊት ዛምሞል 2ኛ ፎቅ ቢሮ ቁጥር214 ለቡ ቅርንጫፍ0973611819 0909522840 0923350054 በTelegram ለማዘዝ ይጠቀሙ shageronlinestore ለተጨማሪ ማብራሪያ የቴሌግራም ገፃችን"
        ],
        [
         "107",
         "2in1 dumpling maker ሳምቡሳን በቀላሉ ለመስራት ዋጋ 700 ብር ውስን ፍሬ ነው ያለው አድራሻ ቁ1 መገናኛ ታሜ ጋስ ህንፃ ጎን ስሪ ኤም ሲቲ ሞል ሁለተኛ ፎቅ ቢሮ ቁ SL05Aከ ሊፍቱ ፊት ለ ፊት ቁ2 ለቡ መዳህኒዓለም ቤተክርስቲያን 100ሜ ወደ ሙዚቃ ቤት ከፍ ብሎ ዛምሞል 2ኛ ፎቅ ቢሮቁ 214 0909522840 0923350054 ለቡ ቅርንጫፍ0973611819 በTelegram ለማዘዝ ይጠቀሙ shageronlinestore ለተጨማሪ ማብራሪያ የቴሌግራም ገፃችን"
        ],
        [
         "108",
         "2in1 dumpling maker ሳምቡሳን በቀላሉ ለመስራት ዋጋ 700 ብር ውስን ፍሬ ነው ያለው አድራሻ ቁ1 መገናኛ ታሜ ጋስ ህንፃ ጎን ስሪ ኤም ሲቲ ሞል ሁለተኛ ፎቅ ቢሮ ቁ SL05Aከ ሊፍቱ ፊት ለ ፊት ቁ2 ለቡ መዳህኒዓለም ቤተክርስቲያን 100ሜ ወደ ሙዚቃ ቤት ከፍ ብሎ ዛምሞል 2ኛ ፎቅ ቢሮቁ 214 0909522840 0923350054 ለቡ ቅርንጫፍ0973611819 በTelegram ለማዘዝ ይጠቀሙ shageronlinestore ለተጨማሪ ማብራሪያ የቴሌግራም ገፃችን"
        ],
        [
         "110",
         "Oven Gloves Heat Resistant Cushion Potholders ዋጋ400 ብር ውስን ፍሬ ነው ያለን Limited Stock አድራሻ ቁ1 መገናኛ ታሜ ጋስ ህንፃ ጎን ስሪ ኤም ሲቲ ሞል ሁለተኛ ፎቅ ቢሮ ቁ SL05Aከ ሊፍቱ ፊት ለ ፊት ቁ2 ለቡ መዳህኒዓለም ቤተክርስቲያን ወደ ሙዚቃ ቤት 100ሜትር ከፍ ብሎ ዛምሞል 2ኛ ፎቅ ቢሮቁ 214 0909522840 0923350054 ለቡ ቅርንጫፍ0973611819 በTelegram ለማዘዝ ይጠቀሙ shageronlinestore ለተጨማሪ ማብራሪያ የቴሌግራም ገፃችን"
        ],
        [
         "112",
         "Adjustable Posture Corrector Corrector Belt Great for Men and Women የአንገትየትከሻ እና የወገብ ህመምን የሚቀርፍ Spinalcord መደገፊያ አብሮ የተገጠመለት አቅዋሞን በማስተካከል ቀጥ ያል እና ማራኪ ቁመና ለመላበስ የሚመርጡት Size Medium Large XL 2XL 3XL ዋጋ 800 ብር ውስን ፍሬ ነው ያለን Limited Stock አድራሻ ቁ1 መገናኛ ታሜ ጋስ ህንፃ ጎን ስሪ ኤም ሲቲ ሞል ሁለተኛ ፎቅ ቢሮ ቁ SL05Aከ ሊፍቱ ፊት ለ ፊት ቁ2 ለቡ መዳህኒዓለም ቤተክርስቲያን 100ሜ ወደ ሙዚቃ ቤት ከፍ ብሎ ዛምሞል 2ኛ ፎቅ ቢሮቁ 214 0909522840 0923350054 ለቡ ቅርንጫፍ0973611819 በTelegram ለማዘዝ ይጠቀሙ shageronlinestore ለተጨማሪ ማብራሪያ የቴሌግራም ገፃችን"
        ],
        [
         "113",
         "Adjustable Posture Corrector Corrector Belt Great for Men and Women የአንገትየትከሻ እና የወገብ ህመምን የሚቀርፍ Spinalcord መደገፊያ አብሮ የተገጠመለት አቅዋሞን በማስተካከል ቀጥ ያል እና ማራኪ ቁመና ለመላበስ የሚመርጡት Size Medium Large XL 2XL 3XL ዋጋ 800 ብር ውስን ፍሬ ነው ያለን Limited Stock አድራሻ ቁ1 መገናኛ ታሜ ጋስ ህንፃ ጎን ስሪ ኤም ሲቲ ሞል ሁለተኛ ፎቅ ቢሮ ቁ SL05Aከ ሊፍቱ ፊት ለ ፊት ቁ2 ለቡ መዳህኒዓለም ቤተክርስቲያን 100ሜ ወደ ሙዚቃ ቤት ከፍ ብሎ ዛምሞል 2ኛ ፎቅ ቢሮቁ 214 0909522840 0923350054 ለቡ ቅርንጫፍ0973611819 በTelegram ለማዘዝ ይጠቀሙ shageronlinestore ለተጨማሪ ማብራሪያ የቴሌግራም ገፃችን"
        ]
       ],
       "shape": {
        "columns": 1,
        "rows": 21847
       }
      },
      "text/plain": [
       "0        Miralux Hot plate ባለሁለት ምድጃ ስቶቭ orginal 2000 ዋ...\n",
       "1        7pcs glass water set አንድ ማራኪ ጆግና 6 መጠጫ ብርጭቆዎች ...\n",
       "6        Universal watersaving dishwasher head Increase...\n",
       "7        special base for refrigerator and washing mach...\n",
       "8        special base for refrigerator and washing mach...\n",
       "                               ...                        \n",
       "37362    Air Jordan 4 Size 394041424344 Price 3200 birr...\n",
       "37363    Skechers Spring lite Size 40414243 Price 2700 ...\n",
       "37364    Skechers lace ultra go Size 40414243 Price 290...\n",
       "37365    Nike Air Max ACG Size 40414243 Price 3200 birr...\n",
       "37366    Nike air max bliss Size 4041424344 Price 3400 ...\n",
       "Name: Message, Length: 21847, dtype: object"
      ]
     },
     "execution_count": 12,
     "metadata": {},
     "output_type": "execute_result"
    }
   ],
   "source": [
    "# after cleaning the emoji\n",
    "combined_df['Message']"
   ]
  },
  {
   "cell_type": "code",
   "execution_count": 13,
   "id": "706ac46b",
   "metadata": {},
   "outputs": [],
   "source": [
    "# Normalize the text\n",
    "combined_df['Message'] = preprocessor.normalize_text('Message')"
   ]
  },
  {
   "cell_type": "code",
   "execution_count": 14,
   "id": "d08b6acd",
   "metadata": {},
   "outputs": [
    {
     "name": "stdout",
     "output_type": "stream",
     "text": [
      "Generated tokens:\n",
      "0     [Miralux, Hot, plate, ባለሁለት, ምድጃ, ስቶቭ, orginal...\n",
      "1     [7pcs, glass, water, set, አንድ, ማራኪ, ጆግና, 6, መጠ...\n",
      "6     [Universal, watersaving, dishwasher, head, Inc...\n",
      "7     [special, base, for, refrigerator, and, washin...\n",
      "8     [special, base, for, refrigerator, and, washin...\n",
      "13    [Vintage, Mason, Glass, Drinking, Jar, with, S...\n",
      "14    [HOBBY, LOBBY, 3, in, 1, Chopper, and, Garlic,...\n",
      "15    [HOBBY, LOBBY, 3, in, 1, Chopper, and, Garlic,...\n",
      "17    [HOBBY, LOBBY, 3, in, 1, Chopper, and, Garlic,...\n",
      "23    [አልቆልለተባላችሁበድጋሚአስገብተናል, የመስታዎት, ፓትራዎች, glass, ...\n",
      "24    [portable, foldable, mosquito, net, for, kids,...\n",
      "25    [3in1, delux, multifunctional, bassinet, ከግራ, ...\n",
      "26    [3in1, delux, multifunctional, bassinet, ከግራ, ...\n",
      "35    [Electric, Hot, plate, በኤሌክትሪክ, የሚሰራ, የራሱ, ሙቀት...\n",
      "40    [Portable, Folding, Stool, ተጣጣፊ, ወንበር, እስከ, 10...\n",
      "41    [Multifunction, Juice, Extractor, ለአፕል, ብርቱካን,...\n",
      "44    [Multifunction, Juice, Extractor, ለአፕል, ብርቱካን,...\n",
      "47    [1pc, stainless, steel, loaf, pan, ትልቁ, ዋጋትልቁ1...\n",
      "51    [Infantino, Cuddle, Up, Ergonomic, Baby, Carri...\n",
      "54    [Expanding, Cookware, Organiser, minimum, size...\n",
      "Name: Tokens, dtype: object\n"
     ]
    }
   ],
   "source": [
    "combined_df['Tokens'] = preprocessor.tokenize_sentences('Message')\n",
    "print(\"Generated tokens:\")\n",
    "print(combined_df['Tokens'].head(20))"
   ]
  },
  {
   "cell_type": "code",
   "execution_count": 15,
   "id": "18effa36",
   "metadata": {},
   "outputs": [],
   "source": [
    "# save the cleaned data to a new CSV file\n",
    "output_path = os.path.join('../data', 'processed', 'cleaned_data.csv')\n",
    "combined_df.to_csv(output_path, index=False)"
   ]
  }
 ],
 "metadata": {
  "kernelspec": {
   "display_name": ".venv",
   "language": "python",
   "name": "python3"
  },
  "language_info": {
   "codemirror_mode": {
    "name": "ipython",
    "version": 3
   },
   "file_extension": ".py",
   "mimetype": "text/x-python",
   "name": "python",
   "nbconvert_exporter": "python",
   "pygments_lexer": "ipython3",
   "version": "3.13.3"
  }
 },
 "nbformat": 4,
 "nbformat_minor": 5
}

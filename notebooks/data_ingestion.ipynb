{
 "cells": [
  {
   "cell_type": "markdown",
   "id": "53b4dede",
   "metadata": {},
   "source": [
    "# TASK 1: Data Ingestion and  Data Preprocessing"
   ]
  },
  {
   "cell_type": "code",
   "execution_count": 1,
   "id": "5e652482",
   "metadata": {},
   "outputs": [],
   "source": [
    "import sys\n",
    "import os\n",
    "import pandas as pd\n",
    "from glob import glob"
   ]
  },
  {
   "cell_type": "code",
   "execution_count": 2,
   "id": "2bf886ac",
   "metadata": {},
   "outputs": [],
   "source": [
    "from pathlib import Path\n",
    "from importlib import reload\n",
    "# add the project root to the path\n",
    "project_root = Path(\"..\").resolve()\n",
    "if str(project_root) not in sys.path:\n",
    "    sys.path.insert(0, str(project_root))"
   ]
  },
  {
   "cell_type": "markdown",
   "id": "b8366139",
   "metadata": {},
   "source": [
    "## Data Ingestion"
   ]
  },
  {
   "cell_type": "code",
   "execution_count": 6,
   "id": "302217cb",
   "metadata": {},
   "outputs": [
    {
     "data": {
      "text/plain": [
       "<module 'src.telegram_scrapper' from 'D:\\\\Research & Project\\\\10academy\\\\week 4\\\\challenge\\\\EthioMart-E-commerce-NER\\\\src\\\\telegram_scrapper.py'>"
      ]
     },
     "execution_count": 6,
     "metadata": {},
     "output_type": "execute_result"
    }
   ],
   "source": [
    "# import the module\n",
    "import asyncio\n",
    "from src.telegram_scrapper import main\n",
    "import src.telegram_scrapper\n",
    "# reload the module to ensure we have the latest version\n",
    "reload(src.telegram_scrapper)"
   ]
  },
  {
   "cell_type": "code",
   "execution_count": 7,
   "id": "90b2a5bd",
   "metadata": {},
   "outputs": [
    {
     "name": "stdout",
     "output_type": "stream",
     "text": [
      "\n",
      "Scraping @ZemenExpress...\n",
      "Fatal error scraping @ZemenExpress: No user has \"zemenexpress\" as username\n",
      "\n",
      "Scraping @qnashcom...\n",
      "Fatal error scraping @qnashcom: No user has \"qnashcom\" as username\n",
      "\n",
      "Scraping @AwasMart...\n",
      "Fatal error scraping @AwasMart: No user has \"awasmart\" as username\n",
      "\n",
      "Scraping @marakibrand...\n",
      "\n",
      "Scraping @ethio_brand_collection...\n",
      "\n",
      "Scraping complete! Data saved to ../data\\raw\\telegram_data_20250622_220106.csv\n"
     ]
    }
   ],
   "source": [
    "# Run the async main function\n",
    "await main()"
   ]
  }
 ],
 "metadata": {
  "kernelspec": {
   "display_name": ".venv",
   "language": "python",
   "name": "python3"
  },
  "language_info": {
   "codemirror_mode": {
    "name": "ipython",
    "version": 3
   },
   "file_extension": ".py",
   "mimetype": "text/x-python",
   "name": "python",
   "nbconvert_exporter": "python",
   "pygments_lexer": "ipython3",
   "version": "3.13.3"
  }
 },
 "nbformat": 4,
 "nbformat_minor": 5
}

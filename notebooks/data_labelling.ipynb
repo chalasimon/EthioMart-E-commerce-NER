{
 "cells": [
  {
   "cell_type": "markdown",
   "id": "2c77b0fd",
   "metadata": {},
   "source": [
    "# Task 2: Label a Subset of Dataset in CoNLL Format"
   ]
  },
  {
   "cell_type": "code",
   "execution_count": 3,
   "id": "4007d03b",
   "metadata": {},
   "outputs": [],
   "source": [
    "# import libraries\n",
    "import sys\n",
    "import os\n",
    "import pandas as pd\n",
    "from glob import glob"
   ]
  },
  {
   "cell_type": "code",
   "execution_count": 4,
   "id": "a8aa9454",
   "metadata": {},
   "outputs": [],
   "source": [
    "# configuring the path\n",
    "from pathlib import Path\n",
    "from importlib import reload\n",
    "# add the project root to the path\n",
    "project_root = Path(\"..\").resolve()\n",
    "if str(project_root) not in sys.path:\n",
    "    sys.path.insert(0, str(project_root))"
   ]
  },
  {
   "cell_type": "code",
   "execution_count": 5,
   "id": "80e55f90",
   "metadata": {},
   "outputs": [
    {
     "data": {
      "text/plain": [
       "<module 'src.data_loader' from 'D:\\\\Research & Project\\\\10academy\\\\week 4\\\\challenge\\\\EthioMart-E-commerce-NER\\\\src\\\\data_loader.py'>"
      ]
     },
     "execution_count": 5,
     "metadata": {},
     "output_type": "execute_result"
    }
   ],
   "source": [
    "from src.data_loader import DataLoader\n",
    "import src.data_loader\n",
    "# reload the module to ensure we have the latest version\n",
    "reload(src.data_loader)"
   ]
  },
  {
   "cell_type": "code",
   "execution_count": 6,
   "id": "50bb5ccf",
   "metadata": {},
   "outputs": [
    {
     "name": "stdout",
     "output_type": "stream",
     "text": [
      "Data loaded successfully from ../data/processed/cleaned_data.csv.\n"
     ]
    }
   ],
   "source": [
    "cleaned_data_path = '../data/processed/cleaned_data.csv'\n",
    "data_loader = DataLoader(cleaned_data_path)\n",
    "# Load the cleaned data\n",
    "data_loader.load_data()\n",
    "df = data_loader.get_data()  # Retrieve the loaded data\n"
   ]
  }
 ],
 "metadata": {
  "kernelspec": {
   "display_name": ".venv",
   "language": "python",
   "name": "python3"
  },
  "language_info": {
   "codemirror_mode": {
    "name": "ipython",
    "version": 3
   },
   "file_extension": ".py",
   "mimetype": "text/x-python",
   "name": "python",
   "nbconvert_exporter": "python",
   "pygments_lexer": "ipython3",
   "version": "3.13.3"
  }
 },
 "nbformat": 4,
 "nbformat_minor": 5
}
